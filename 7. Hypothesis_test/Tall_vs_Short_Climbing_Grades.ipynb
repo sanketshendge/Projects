{
  "nbformat": 4,
  "nbformat_minor": 0,
  "metadata": {
    "colab": {
      "name": "Tall vs. Short Climbing Grades.ipynb",
      "version": "0.3.2",
      "provenance": [],
      "collapsed_sections": [],
      "include_colab_link": true
    },
    "kernelspec": {
      "name": "python3",
      "display_name": "Python 3"
    },
    "accelerator": "GPU"
  },
  "cells": [
    {
      "cell_type": "markdown",
      "metadata": {
        "id": "view-in-github",
        "colab_type": "text"
      },
      "source": [
        "<a href=\"https://colab.research.google.com/github/Colley-K/rock_climbing_recommendation_system/blob/master/Tall_vs_Short_Climbing_Grades.ipynb\" target=\"_parent\"><img src=\"https://colab.research.google.com/assets/colab-badge.svg\" alt=\"Open In Colab\"/></a>"
      ]
    },
    {
      "cell_type": "markdown",
      "metadata": {
        "id": "Ln1v2le1CUWM",
        "colab_type": "text"
      },
      "source": [
        "# Are Short or Tall Climbers Climbing Harder Grades? \n",
        "## Background \n",
        "There has always been a sterotype in climbing, that tall people are better at climbing than short people. In this analysis, I will take a current log of 4 million rock climbs to test that notion and compare the average of a \"tall\" person's rock climbing grades to that of \"short\" person. Using a hypothesis test, I will test whether or not these averages are stastically the same, or if they are in fact different. \n",
        "\n",
        "## Data\n",
        "Imported from Kaggle, the 8a.nu climbing data set contains 4 tables, and is filled with 4 million entries of different rock climbs from its' users. All entries are user recorded, and prone to user error or exageration so this analysis must be taken with a little skepticism. I will clean the data to try to filter out some of the outstandingly obvious falsified entries.\n",
        "\n",
        "## Filtering Data\n",
        "One of the biggest hurdles in analyzing this data is the question of where exactly to slice the data to represent short, average, and tall. I've researched many sources of average height, but the truth is that it varies so much from country to country, and culture to culture. Given this is one of the more internationally logged climbing datasets, it would be horribly inaacurate to choose an average height from an outside source. Thus, my apporach will be to separate the dataset into male verus female and assign the average label as anything in the inner quartile range given the sex, and then anything above it to be the large extreme and anything below it to be the small extreme. This will create a bias in this analysis, and in future research it would a great idea to test different segmenting options.\n",
        "\n",
        "## Importing from Kaggle\n",
        "Using the Kaggle API, this dataset was downloaded as an SQLite database, transformed into a Pandas dataframe, and then exported as a CSV\n",
        "\n",
        ">Click [here](https://colab.research.google.com/drive/1S4io5Nvz0lcnri_Lz9Mpa_TwLNeoSzGb#scrollTo=0BhPF3cSDvYk) to view the import notebook\n",
        "\n",
        ">Click [here](https://www.kaggle.com/dcohen21/8anu-climbing-logbook) to view the data set on Kaggle \n",
        "\n",
        "_____"
      ]
    },
    {
      "cell_type": "markdown",
      "metadata": {
        "id": "zHtAiYZGpKIX",
        "colab_type": "text"
      },
      "source": [
        "## Initial Setup"
      ]
    },
    {
      "cell_type": "code",
      "metadata": {
        "id": "hXooTdqBorMC",
        "colab_type": "code",
        "outputId": "70fc66f2-c4f6-4326-e77e-a543b18a2b8a",
        "colab": {
          "base_uri": "https://localhost:8080/",
          "height": 530
        }
      },
      "source": [
        "#Colab stuffs:\n",
        "\n",
        "#get a fast operator system\n",
        "!nvidia-smi\n",
        "\n",
        "#mount google drive\n",
        "from google.colab import drive\n",
        "drive.mount('/content/drive')#click on the link it provides and copy and paste that code into the authorization area\n",
        "!ls \"/content/drive/My Drive\" #shows whats in your drive once its mounted\n",
        "\n",
        "#access the OS system to work with current directories:\n",
        "import os \n",
        "os.getcwd() \n",
        "\n",
        "#Imports\n",
        "import numpy as np \n",
        "import pandas as pd \n",
        "import matplotlib.pyplot as plt\n",
        "import seaborn as sns\n",
        "from scipy.stats import ttest_ind\n",
        "from scipy import stats\n",
        "from statsmodels.stats import weightstats as stests\n",
        "from scipy.stats import ttest_1samp\n",
        "import math\n"
      ],
      "execution_count": 0,
      "outputs": [
        {
          "output_type": "stream",
          "text": [
            "Tue Jun 18 18:44:45 2019       \n",
            "+-----------------------------------------------------------------------------+\n",
            "| NVIDIA-SMI 418.67       Driver Version: 410.79       CUDA Version: 10.0     |\n",
            "|-------------------------------+----------------------+----------------------+\n",
            "| GPU  Name        Persistence-M| Bus-Id        Disp.A | Volatile Uncorr. ECC |\n",
            "| Fan  Temp  Perf  Pwr:Usage/Cap|         Memory-Usage | GPU-Util  Compute M. |\n",
            "|===============================+======================+======================|\n",
            "|   0  Tesla T4            Off  | 00000000:00:04.0 Off |                    0 |\n",
            "| N/A   52C    P8    15W /  70W |      0MiB / 15079MiB |      0%      Default |\n",
            "+-------------------------------+----------------------+----------------------+\n",
            "                                                                               \n",
            "+-----------------------------------------------------------------------------+\n",
            "| Processes:                                                       GPU Memory |\n",
            "|  GPU       PID   Type   Process name                             Usage      |\n",
            "|=============================================================================|\n",
            "|  No running processes found                                                 |\n",
            "+-----------------------------------------------------------------------------+\n",
            "Go to this URL in a browser: https://accounts.google.com/o/oauth2/auth?client_id=947318989803-6bn6qk8qdgf4n4g3pfee6491hc0brc4i.apps.googleusercontent.com&redirect_uri=urn%3Aietf%3Awg%3Aoauth%3A2.0%3Aoob&scope=email%20https%3A%2F%2Fwww.googleapis.com%2Fauth%2Fdocs.test%20https%3A%2F%2Fwww.googleapis.com%2Fauth%2Fdrive%20https%3A%2F%2Fwww.googleapis.com%2Fauth%2Fdrive.photos.readonly%20https%3A%2F%2Fwww.googleapis.com%2Fauth%2Fpeopleapi.readonly&response_type=code\n",
            "\n",
            "Enter your authorization code:\n",
            "··········\n",
            "Mounted at /content/drive\n",
            "'Adventure Pictures'    Inferential_Statistics_Notes.gdoc\n",
            "'Adventure Planning'    Life_stuffs\n",
            " Capstone\t       'Recommendation systems Notes.gdoc'\n",
            " Career\t\t       'Springboard Assignments'\n",
            "'Colab Notebooks'      'Surprise Rec Research.gdoc'\n",
            "'Data Wrangling.gdoc'   Taxes\n",
            "'Google Photos'\n"
          ],
          "name": "stdout"
        }
      ]
    },
    {
      "cell_type": "markdown",
      "metadata": {
        "id": "ftfrNKj0p4pY",
        "colab_type": "text"
      },
      "source": [
        "## Import CSV Files"
      ]
    },
    {
      "cell_type": "code",
      "metadata": {
        "id": "zqdLTKWKp9nT",
        "colab_type": "code",
        "colab": {}
      },
      "source": [
        "#Turn the CSV files into data frames\n",
        "\n",
        "ascent = pd.read_csv('drive/My Drive/Capstone/ascent.csv', low_memory=False) \n",
        "\n",
        "user = pd.read_csv('drive/My Drive/Capstone/data/user.csv', low_memory=False) \n",
        "\n",
        "grade = pd.read_csv('drive/My Drive/Capstone/data/grade.csv', low_memory=False) "
      ],
      "execution_count": 0,
      "outputs": []
    },
    {
      "cell_type": "markdown",
      "metadata": {
        "id": "f5nL3-ESuzQv",
        "colab_type": "text"
      },
      "source": [
        "## Clean Up & Merge 3 Dataframes\n",
        "\n",
        "\n",
        "*   Drop unneccesary columns in all three columns\n",
        "*   Forward fill the \"grade table\" so all grade_is correspond to a difficulty number\n",
        "* Drop any nulls\n",
        "* Filter out any users that entered extreme weights or height values because their entries cannot be trusted to be valid information\n",
        "* Turn all floats into integers because floats are not needed for whole numbers\n",
        "\n"
      ]
    },
    {
      "cell_type": "code",
      "metadata": {
        "id": "rUQ374IXuw8X",
        "colab_type": "code",
        "colab": {}
      },
      "source": [
        "#Trimming all three data frames to only the necessary columns\n",
        "\n",
        "#Dropping Columns\n",
        "a_cols = [\"user_id\", \"grade_id\", \"climb_type\"]\n",
        "u_cols = [\"id\", \"sex\", \"height\", \"weight\"]\n",
        "g_cols = [\"id\",\"usa_routes\", \"usa_boulders\"]\n",
        "\n",
        "ascent = ascent[a_cols]\n",
        "user= user[u_cols]\n",
        "grade = grade[g_cols]"
      ],
      "execution_count": 0,
      "outputs": []
    },
    {
      "cell_type": "code",
      "metadata": {
        "id": "AJjkNor8y4KG",
        "colab_type": "code",
        "colab": {}
      },
      "source": [
        "#Forward filling the rock climbing grades\n",
        "\n",
        "grade[[\"usa_routes\", \"usa_boulders\"]]= grade[[\"usa_routes\", \"usa_boulders\"]].fillna(method='ffill')"
      ],
      "execution_count": 0,
      "outputs": []
    },
    {
      "cell_type": "code",
      "metadata": {
        "id": "gBREqjkTr7Dn",
        "colab_type": "code",
        "colab": {}
      },
      "source": [
        "#Drop all null values\n",
        "ascent= ascent.dropna(axis=0) \n",
        "user = user.dropna(axis=0)\n",
        "grade = grade.dropna (axis= 0)"
      ],
      "execution_count": 0,
      "outputs": []
    },
    {
      "cell_type": "markdown",
      "metadata": {
        "id": "dLyopUTT7NVq",
        "colab_type": "text"
      },
      "source": [
        "### Merging the 3 Dataframes"
      ]
    },
    {
      "cell_type": "code",
      "metadata": {
        "id": "nhnnDbci7ulZ",
        "colab_type": "code",
        "colab": {}
      },
      "source": [
        "#Left merge the ascent table with user table\n",
        "ascent = ascent.merge(user,how='left', left_on='user_id', right_on='id')"
      ],
      "execution_count": 0,
      "outputs": []
    },
    {
      "cell_type": "code",
      "metadata": {
        "id": "GW625W4H54mr",
        "colab_type": "code",
        "colab": {}
      },
      "source": [
        "#Left merge the ascent table with grade table\n",
        "rock = ascent.merge(grade,how='left', left_on='grade_id', right_on='id')"
      ],
      "execution_count": 0,
      "outputs": []
    },
    {
      "cell_type": "code",
      "metadata": {
        "id": "lRxC0mCZ74vk",
        "colab_type": "code",
        "colab": {}
      },
      "source": [
        "#Drop unnecessary columns\n",
        "rock = rock.drop([\"id_x\", \"id_y\"], axis= 1)"
      ],
      "execution_count": 0,
      "outputs": []
    },
    {
      "cell_type": "code",
      "metadata": {
        "id": "LoNyh-bP0Na9",
        "colab_type": "code",
        "colab": {}
      },
      "source": [
        "#Cleaning up sex, weight, height columns\n",
        "rock = rock[rock.sex != 255]\n",
        "rock = rock[(rock.height > 134) & (rock.height < 215)] #weeding out extreme entries that are less than 4 feet 5 inches tall & taller than 7 feet\n",
        "rock = rock[(rock.weight > 30)] #weeding out a person that weighs less than 70 lbs"
      ],
      "execution_count": 0,
      "outputs": []
    },
    {
      "cell_type": "code",
      "metadata": {
        "id": "QeXnKPVcxuBU",
        "colab_type": "code",
        "colab": {}
      },
      "source": [
        "#converting floats to integers\n",
        "cols= [\"sex\", \"height\", \"weight\", \"grade_id\", \"climb_type\", \"user_id\"]\n",
        "rock[cols] = rock[cols].astype('int64')"
      ],
      "execution_count": 0,
      "outputs": []
    },
    {
      "cell_type": "code",
      "metadata": {
        "id": "4WUGzLdq75_p",
        "colab_type": "code",
        "outputId": "9fb4f22e-65de-4d7f-d7b4-72ae60bf29ab",
        "colab": {
          "base_uri": "https://localhost:8080/",
          "height": 204
        }
      },
      "source": [
        "rock.head()"
      ],
      "execution_count": 0,
      "outputs": [
        {
          "output_type": "execute_result",
          "data": {
            "text/html": [
              "<div>\n",
              "<style scoped>\n",
              "    .dataframe tbody tr th:only-of-type {\n",
              "        vertical-align: middle;\n",
              "    }\n",
              "\n",
              "    .dataframe tbody tr th {\n",
              "        vertical-align: top;\n",
              "    }\n",
              "\n",
              "    .dataframe thead th {\n",
              "        text-align: right;\n",
              "    }\n",
              "</style>\n",
              "<table border=\"1\" class=\"dataframe\">\n",
              "  <thead>\n",
              "    <tr style=\"text-align: right;\">\n",
              "      <th></th>\n",
              "      <th>user_id</th>\n",
              "      <th>grade_id</th>\n",
              "      <th>climb_type</th>\n",
              "      <th>sex</th>\n",
              "      <th>height</th>\n",
              "      <th>weight</th>\n",
              "      <th>usa_routes</th>\n",
              "      <th>usa_boulders</th>\n",
              "    </tr>\n",
              "  </thead>\n",
              "  <tbody>\n",
              "    <tr>\n",
              "      <th>0</th>\n",
              "      <td>1</td>\n",
              "      <td>36</td>\n",
              "      <td>0</td>\n",
              "      <td>0</td>\n",
              "      <td>177</td>\n",
              "      <td>73</td>\n",
              "      <td>5.10a</td>\n",
              "      <td>V3</td>\n",
              "    </tr>\n",
              "    <tr>\n",
              "      <th>1</th>\n",
              "      <td>1</td>\n",
              "      <td>36</td>\n",
              "      <td>0</td>\n",
              "      <td>0</td>\n",
              "      <td>177</td>\n",
              "      <td>73</td>\n",
              "      <td>5.10a</td>\n",
              "      <td>V3</td>\n",
              "    </tr>\n",
              "    <tr>\n",
              "      <th>2</th>\n",
              "      <td>1</td>\n",
              "      <td>36</td>\n",
              "      <td>0</td>\n",
              "      <td>0</td>\n",
              "      <td>177</td>\n",
              "      <td>73</td>\n",
              "      <td>5.10a</td>\n",
              "      <td>V3</td>\n",
              "    </tr>\n",
              "    <tr>\n",
              "      <th>3</th>\n",
              "      <td>1</td>\n",
              "      <td>36</td>\n",
              "      <td>0</td>\n",
              "      <td>0</td>\n",
              "      <td>177</td>\n",
              "      <td>73</td>\n",
              "      <td>5.10a</td>\n",
              "      <td>V3</td>\n",
              "    </tr>\n",
              "    <tr>\n",
              "      <th>4</th>\n",
              "      <td>1</td>\n",
              "      <td>36</td>\n",
              "      <td>0</td>\n",
              "      <td>0</td>\n",
              "      <td>177</td>\n",
              "      <td>73</td>\n",
              "      <td>5.10a</td>\n",
              "      <td>V3</td>\n",
              "    </tr>\n",
              "  </tbody>\n",
              "</table>\n",
              "</div>"
            ],
            "text/plain": [
              "   user_id  grade_id  climb_type  sex  height  weight usa_routes usa_boulders\n",
              "0        1        36           0    0     177      73      5.10a           V3\n",
              "1        1        36           0    0     177      73      5.10a           V3\n",
              "2        1        36           0    0     177      73      5.10a           V3\n",
              "3        1        36           0    0     177      73      5.10a           V3\n",
              "4        1        36           0    0     177      73      5.10a           V3"
            ]
          },
          "metadata": {
            "tags": []
          },
          "execution_count": 12
        }
      ]
    },
    {
      "cell_type": "markdown",
      "metadata": {
        "id": "8Hx-J4fXcjZu",
        "colab_type": "text"
      },
      "source": [
        "______\n",
        "## Separating out Tall vs. Short \n",
        "\n",
        "\n",
        "1. Segment out height  categories with gender in mind \n",
        ">* Instead of taking the average height or weight from a country-wide study, I will be basing my categories off of this specific climbing log's population. \n",
        ">* \"Average\" categories in height will be based on the inner quartile range for each gender\n",
        ">* All other categories(\"short\", \"tall\") will be measured above or below the IQR's of this dataset based on sex\n",
        "2. Create separate data frames based on this\n",
        "\n"
      ]
    },
    {
      "cell_type": "code",
      "metadata": {
        "id": "uK9nX5iZch3T",
        "colab_type": "code",
        "outputId": "ff27d07a-3851-44eb-f516-2c95b165510a",
        "colab": {
          "base_uri": "https://localhost:8080/",
          "height": 297
        }
      },
      "source": [
        "#Female height stats\n",
        "rock[rock.sex == 1].describe()\n",
        "\n",
        "# short= <158\n",
        "# avg=158-170\n",
        "# tall= >170\n"
      ],
      "execution_count": 0,
      "outputs": [
        {
          "output_type": "execute_result",
          "data": {
            "text/html": [
              "<div>\n",
              "<style scoped>\n",
              "    .dataframe tbody tr th:only-of-type {\n",
              "        vertical-align: middle;\n",
              "    }\n",
              "\n",
              "    .dataframe tbody tr th {\n",
              "        vertical-align: top;\n",
              "    }\n",
              "\n",
              "    .dataframe thead th {\n",
              "        text-align: right;\n",
              "    }\n",
              "</style>\n",
              "<table border=\"1\" class=\"dataframe\">\n",
              "  <thead>\n",
              "    <tr style=\"text-align: right;\">\n",
              "      <th></th>\n",
              "      <th>user_id</th>\n",
              "      <th>grade_id</th>\n",
              "      <th>climb_type</th>\n",
              "      <th>sex</th>\n",
              "      <th>height</th>\n",
              "      <th>weight</th>\n",
              "    </tr>\n",
              "  </thead>\n",
              "  <tbody>\n",
              "    <tr>\n",
              "      <th>count</th>\n",
              "      <td>246396.000000</td>\n",
              "      <td>246396.000000</td>\n",
              "      <td>246396.000000</td>\n",
              "      <td>246396.0</td>\n",
              "      <td>246396.000000</td>\n",
              "      <td>246396.000000</td>\n",
              "    </tr>\n",
              "    <tr>\n",
              "      <th>mean</th>\n",
              "      <td>30234.513718</td>\n",
              "      <td>43.646094</td>\n",
              "      <td>0.208912</td>\n",
              "      <td>1.0</td>\n",
              "      <td>164.513304</td>\n",
              "      <td>54.187426</td>\n",
              "    </tr>\n",
              "    <tr>\n",
              "      <th>std</th>\n",
              "      <td>17493.507404</td>\n",
              "      <td>9.214684</td>\n",
              "      <td>0.406532</td>\n",
              "      <td>0.0</td>\n",
              "      <td>7.202574</td>\n",
              "      <td>7.432530</td>\n",
              "    </tr>\n",
              "    <tr>\n",
              "      <th>min</th>\n",
              "      <td>4.000000</td>\n",
              "      <td>7.000000</td>\n",
              "      <td>0.000000</td>\n",
              "      <td>1.0</td>\n",
              "      <td>135.000000</td>\n",
              "      <td>40.000000</td>\n",
              "    </tr>\n",
              "    <tr>\n",
              "      <th>25%</th>\n",
              "      <td>16501.000000</td>\n",
              "      <td>38.000000</td>\n",
              "      <td>0.000000</td>\n",
              "      <td>1.0</td>\n",
              "      <td>160.000000</td>\n",
              "      <td>48.000000</td>\n",
              "    </tr>\n",
              "    <tr>\n",
              "      <th>50%</th>\n",
              "      <td>28706.000000</td>\n",
              "      <td>44.000000</td>\n",
              "      <td>0.000000</td>\n",
              "      <td>1.0</td>\n",
              "      <td>165.000000</td>\n",
              "      <td>53.000000</td>\n",
              "    </tr>\n",
              "    <tr>\n",
              "      <th>75%</th>\n",
              "      <td>42935.000000</td>\n",
              "      <td>51.000000</td>\n",
              "      <td>0.000000</td>\n",
              "      <td>1.0</td>\n",
              "      <td>170.000000</td>\n",
              "      <td>58.000000</td>\n",
              "    </tr>\n",
              "    <tr>\n",
              "      <th>max</th>\n",
              "      <td>67015.000000</td>\n",
              "      <td>75.000000</td>\n",
              "      <td>1.000000</td>\n",
              "      <td>1.0</td>\n",
              "      <td>200.000000</td>\n",
              "      <td>100.000000</td>\n",
              "    </tr>\n",
              "  </tbody>\n",
              "</table>\n",
              "</div>"
            ],
            "text/plain": [
              "             user_id       grade_id  ...         height         weight\n",
              "count  246396.000000  246396.000000  ...  246396.000000  246396.000000\n",
              "mean    30234.513718      43.646094  ...     164.513304      54.187426\n",
              "std     17493.507404       9.214684  ...       7.202574       7.432530\n",
              "min         4.000000       7.000000  ...     135.000000      40.000000\n",
              "25%     16501.000000      38.000000  ...     160.000000      48.000000\n",
              "50%     28706.000000      44.000000  ...     165.000000      53.000000\n",
              "75%     42935.000000      51.000000  ...     170.000000      58.000000\n",
              "max     67015.000000      75.000000  ...     200.000000     100.000000\n",
              "\n",
              "[8 rows x 6 columns]"
            ]
          },
          "metadata": {
            "tags": []
          },
          "execution_count": 13
        }
      ]
    },
    {
      "cell_type": "code",
      "metadata": {
        "id": "8k8OZrPUdV8o",
        "colab_type": "code",
        "outputId": "5d6e1587-3fd9-4608-e2db-2d925b708b88",
        "colab": {
          "base_uri": "https://localhost:8080/",
          "height": 297
        }
      },
      "source": [
        "#Male height stats\n",
        "rock[rock.sex == 0].describe()\n",
        "\n",
        "# short= <174\n",
        "# avg= 174-183\n",
        "# tall= >183"
      ],
      "execution_count": 0,
      "outputs": [
        {
          "output_type": "execute_result",
          "data": {
            "text/html": [
              "<div>\n",
              "<style scoped>\n",
              "    .dataframe tbody tr th:only-of-type {\n",
              "        vertical-align: middle;\n",
              "    }\n",
              "\n",
              "    .dataframe tbody tr th {\n",
              "        vertical-align: top;\n",
              "    }\n",
              "\n",
              "    .dataframe thead th {\n",
              "        text-align: right;\n",
              "    }\n",
              "</style>\n",
              "<table border=\"1\" class=\"dataframe\">\n",
              "  <thead>\n",
              "    <tr style=\"text-align: right;\">\n",
              "      <th></th>\n",
              "      <th>user_id</th>\n",
              "      <th>grade_id</th>\n",
              "      <th>climb_type</th>\n",
              "      <th>sex</th>\n",
              "      <th>height</th>\n",
              "      <th>weight</th>\n",
              "    </tr>\n",
              "  </thead>\n",
              "  <tbody>\n",
              "    <tr>\n",
              "      <th>count</th>\n",
              "      <td>2.577157e+06</td>\n",
              "      <td>2.577157e+06</td>\n",
              "      <td>2.577157e+06</td>\n",
              "      <td>2577157.0</td>\n",
              "      <td>2.577157e+06</td>\n",
              "      <td>2.577157e+06</td>\n",
              "    </tr>\n",
              "    <tr>\n",
              "      <th>mean</th>\n",
              "      <td>2.556321e+04</td>\n",
              "      <td>4.698894e+01</td>\n",
              "      <td>2.992057e-01</td>\n",
              "      <td>0.0</td>\n",
              "      <td>1.778378e+02</td>\n",
              "      <td>7.001573e+01</td>\n",
              "    </tr>\n",
              "    <tr>\n",
              "      <th>std</th>\n",
              "      <td>1.720688e+04</td>\n",
              "      <td>9.229671e+00</td>\n",
              "      <td>4.579102e-01</td>\n",
              "      <td>0.0</td>\n",
              "      <td>7.078003e+00</td>\n",
              "      <td>8.390036e+00</td>\n",
              "    </tr>\n",
              "    <tr>\n",
              "      <th>min</th>\n",
              "      <td>1.000000e+00</td>\n",
              "      <td>1.000000e+00</td>\n",
              "      <td>0.000000e+00</td>\n",
              "      <td>0.0</td>\n",
              "      <td>1.350000e+02</td>\n",
              "      <td>4.000000e+01</td>\n",
              "    </tr>\n",
              "    <tr>\n",
              "      <th>25%</th>\n",
              "      <td>1.073800e+04</td>\n",
              "      <td>4.000000e+01</td>\n",
              "      <td>0.000000e+00</td>\n",
              "      <td>0.0</td>\n",
              "      <td>1.730000e+02</td>\n",
              "      <td>6.300000e+01</td>\n",
              "    </tr>\n",
              "    <tr>\n",
              "      <th>50%</th>\n",
              "      <td>2.317200e+04</td>\n",
              "      <td>4.900000e+01</td>\n",
              "      <td>0.000000e+00</td>\n",
              "      <td>0.0</td>\n",
              "      <td>1.780000e+02</td>\n",
              "      <td>6.800000e+01</td>\n",
              "    </tr>\n",
              "    <tr>\n",
              "      <th>75%</th>\n",
              "      <td>3.797200e+04</td>\n",
              "      <td>5.300000e+01</td>\n",
              "      <td>1.000000e+00</td>\n",
              "      <td>0.0</td>\n",
              "      <td>1.820000e+02</td>\n",
              "      <td>7.300000e+01</td>\n",
              "    </tr>\n",
              "    <tr>\n",
              "      <th>max</th>\n",
              "      <td>6.702500e+04</td>\n",
              "      <td>8.300000e+01</td>\n",
              "      <td>1.000000e+00</td>\n",
              "      <td>0.0</td>\n",
              "      <td>2.120000e+02</td>\n",
              "      <td>1.000000e+02</td>\n",
              "    </tr>\n",
              "  </tbody>\n",
              "</table>\n",
              "</div>"
            ],
            "text/plain": [
              "            user_id      grade_id  ...        height        weight\n",
              "count  2.577157e+06  2.577157e+06  ...  2.577157e+06  2.577157e+06\n",
              "mean   2.556321e+04  4.698894e+01  ...  1.778378e+02  7.001573e+01\n",
              "std    1.720688e+04  9.229671e+00  ...  7.078003e+00  8.390036e+00\n",
              "min    1.000000e+00  1.000000e+00  ...  1.350000e+02  4.000000e+01\n",
              "25%    1.073800e+04  4.000000e+01  ...  1.730000e+02  6.300000e+01\n",
              "50%    2.317200e+04  4.900000e+01  ...  1.780000e+02  6.800000e+01\n",
              "75%    3.797200e+04  5.300000e+01  ...  1.820000e+02  7.300000e+01\n",
              "max    6.702500e+04  8.300000e+01  ...  2.120000e+02  1.000000e+02\n",
              "\n",
              "[8 rows x 6 columns]"
            ]
          },
          "metadata": {
            "tags": []
          },
          "execution_count": 14
        }
      ]
    },
    {
      "cell_type": "code",
      "metadata": {
        "id": "6xTuZExLiJNo",
        "colab_type": "code",
        "colab": {}
      },
      "source": [
        "#creating 3 different data frames for height & weight differences\n",
        "h_tall = rock[((rock.sex == 1) & (rock.height > 170)) | ((rock.sex == 0) & (rock.height > 183))]\n",
        "h_short = rock[((rock.sex == 1) & (rock.height < 158)) | ((rock.sex == 0) & (rock.height < 174))]\n",
        "h_avg = rock[((rock.sex == 1) & ((rock.height >= 158) & (rock.height <= 170)) | ((rock.sex == 0) & ((rock.height >= 174) & (rock.height <= 183))))]\n"
      ],
      "execution_count": 0,
      "outputs": []
    },
    {
      "cell_type": "markdown",
      "metadata": {
        "id": "XFasDsBNGXHt",
        "colab_type": "text"
      },
      "source": [
        "_______\n",
        "## Tall vs. Short  EDA\n",
        "* In this section I will separated out tall versus short data\n",
        "* Look at the summary stastistics of each table\n",
        "* Visualize the differences between tall vs. short grades"
      ]
    },
    {
      "cell_type": "code",
      "metadata": {
        "id": "4d2cdzYqTc-4",
        "colab_type": "code",
        "outputId": "3d3449eb-e985-4b7b-c552-df89a74b5d32",
        "colab": {
          "base_uri": "https://localhost:8080/",
          "height": 68
        }
      },
      "source": [
        "#TALL vs SHORT Labelling the means\n",
        "h_tall_mu = h_tall.grade_id.mean()\n",
        "h_short_mu = h_short.grade_id.mean()\n",
        "h_avg_mu = h_avg.grade_id.mean()#for fun\n",
        "print (f\"Short climber average difficulty: {h_short_mu}\")\n",
        "print (f\"Average climber average difficulty: {h_avg_mu}\")\n",
        "print (f\"Tall climber average difficulty: {h_tall_mu}\")"
      ],
      "execution_count": 0,
      "outputs": [
        {
          "output_type": "stream",
          "text": [
            "Short climber average difficulty: 47.72713102094409\n",
            "Average climber average difficulty: 46.689818030281984\n",
            "Tall climber average difficulty: 45.36608887795848\n"
          ],
          "name": "stdout"
        }
      ]
    },
    {
      "cell_type": "code",
      "metadata": {
        "id": "3PLUrYJPHExZ",
        "colab_type": "code",
        "outputId": "ec7d16c5-68b2-49c7-9333-dc6a5ead5231",
        "colab": {
          "base_uri": "https://localhost:8080/",
          "height": 297
        }
      },
      "source": [
        "#Short summary stastistics\n",
        "h_short.describe()"
      ],
      "execution_count": 0,
      "outputs": [
        {
          "output_type": "execute_result",
          "data": {
            "text/html": [
              "<div>\n",
              "<style scoped>\n",
              "    .dataframe tbody tr th:only-of-type {\n",
              "        vertical-align: middle;\n",
              "    }\n",
              "\n",
              "    .dataframe tbody tr th {\n",
              "        vertical-align: top;\n",
              "    }\n",
              "\n",
              "    .dataframe thead th {\n",
              "        text-align: right;\n",
              "    }\n",
              "</style>\n",
              "<table border=\"1\" class=\"dataframe\">\n",
              "  <thead>\n",
              "    <tr style=\"text-align: right;\">\n",
              "      <th></th>\n",
              "      <th>user_id</th>\n",
              "      <th>grade_id</th>\n",
              "      <th>climb_type</th>\n",
              "      <th>sex</th>\n",
              "      <th>height</th>\n",
              "      <th>weight</th>\n",
              "    </tr>\n",
              "  </thead>\n",
              "  <tbody>\n",
              "    <tr>\n",
              "      <th>count</th>\n",
              "      <td>699911.000000</td>\n",
              "      <td>699911.000000</td>\n",
              "      <td>699911.000000</td>\n",
              "      <td>699911.000000</td>\n",
              "      <td>699911.000000</td>\n",
              "      <td>699911.000000</td>\n",
              "    </tr>\n",
              "    <tr>\n",
              "      <th>mean</th>\n",
              "      <td>26370.692461</td>\n",
              "      <td>47.727131</td>\n",
              "      <td>0.283236</td>\n",
              "      <td>0.048905</td>\n",
              "      <td>168.320226</td>\n",
              "      <td>62.658032</td>\n",
              "    </tr>\n",
              "    <tr>\n",
              "      <th>std</th>\n",
              "      <td>17385.393721</td>\n",
              "      <td>9.416807</td>\n",
              "      <td>0.450570</td>\n",
              "      <td>0.215669</td>\n",
              "      <td>5.735909</td>\n",
              "      <td>7.671320</td>\n",
              "    </tr>\n",
              "    <tr>\n",
              "      <th>min</th>\n",
              "      <td>10.000000</td>\n",
              "      <td>7.000000</td>\n",
              "      <td>0.000000</td>\n",
              "      <td>0.000000</td>\n",
              "      <td>135.000000</td>\n",
              "      <td>40.000000</td>\n",
              "    </tr>\n",
              "    <tr>\n",
              "      <th>25%</th>\n",
              "      <td>11753.000000</td>\n",
              "      <td>40.000000</td>\n",
              "      <td>0.000000</td>\n",
              "      <td>0.000000</td>\n",
              "      <td>167.000000</td>\n",
              "      <td>58.000000</td>\n",
              "    </tr>\n",
              "    <tr>\n",
              "      <th>50%</th>\n",
              "      <td>24377.000000</td>\n",
              "      <td>49.000000</td>\n",
              "      <td>0.000000</td>\n",
              "      <td>0.000000</td>\n",
              "      <td>170.000000</td>\n",
              "      <td>63.000000</td>\n",
              "    </tr>\n",
              "    <tr>\n",
              "      <th>75%</th>\n",
              "      <td>38874.000000</td>\n",
              "      <td>55.000000</td>\n",
              "      <td>1.000000</td>\n",
              "      <td>0.000000</td>\n",
              "      <td>172.000000</td>\n",
              "      <td>68.000000</td>\n",
              "    </tr>\n",
              "    <tr>\n",
              "      <th>max</th>\n",
              "      <td>67019.000000</td>\n",
              "      <td>83.000000</td>\n",
              "      <td>1.000000</td>\n",
              "      <td>1.000000</td>\n",
              "      <td>173.000000</td>\n",
              "      <td>100.000000</td>\n",
              "    </tr>\n",
              "  </tbody>\n",
              "</table>\n",
              "</div>"
            ],
            "text/plain": [
              "             user_id       grade_id  ...         height         weight\n",
              "count  699911.000000  699911.000000  ...  699911.000000  699911.000000\n",
              "mean    26370.692461      47.727131  ...     168.320226      62.658032\n",
              "std     17385.393721       9.416807  ...       5.735909       7.671320\n",
              "min        10.000000       7.000000  ...     135.000000      40.000000\n",
              "25%     11753.000000      40.000000  ...     167.000000      58.000000\n",
              "50%     24377.000000      49.000000  ...     170.000000      63.000000\n",
              "75%     38874.000000      55.000000  ...     172.000000      68.000000\n",
              "max     67019.000000      83.000000  ...     173.000000     100.000000\n",
              "\n",
              "[8 rows x 6 columns]"
            ]
          },
          "metadata": {
            "tags": []
          },
          "execution_count": 17
        }
      ]
    },
    {
      "cell_type": "code",
      "metadata": {
        "id": "aONRzdQ4HJT5",
        "colab_type": "code",
        "outputId": "257ce3ae-aa95-42a5-83ec-eb48334d38f7",
        "colab": {
          "base_uri": "https://localhost:8080/",
          "height": 297
        }
      },
      "source": [
        "#Tall summary stastistics\n",
        "h_tall.describe()"
      ],
      "execution_count": 0,
      "outputs": [
        {
          "output_type": "execute_result",
          "data": {
            "text/html": [
              "<div>\n",
              "<style scoped>\n",
              "    .dataframe tbody tr th:only-of-type {\n",
              "        vertical-align: middle;\n",
              "    }\n",
              "\n",
              "    .dataframe tbody tr th {\n",
              "        vertical-align: top;\n",
              "    }\n",
              "\n",
              "    .dataframe thead th {\n",
              "        text-align: right;\n",
              "    }\n",
              "</style>\n",
              "<table border=\"1\" class=\"dataframe\">\n",
              "  <thead>\n",
              "    <tr style=\"text-align: right;\">\n",
              "      <th></th>\n",
              "      <th>user_id</th>\n",
              "      <th>grade_id</th>\n",
              "      <th>climb_type</th>\n",
              "      <th>sex</th>\n",
              "      <th>height</th>\n",
              "      <th>weight</th>\n",
              "    </tr>\n",
              "  </thead>\n",
              "  <tbody>\n",
              "    <tr>\n",
              "      <th>count</th>\n",
              "      <td>532663.000000</td>\n",
              "      <td>532663.000000</td>\n",
              "      <td>532663.000000</td>\n",
              "      <td>532663.000000</td>\n",
              "      <td>532663.000000</td>\n",
              "      <td>532663.000000</td>\n",
              "    </tr>\n",
              "    <tr>\n",
              "      <th>mean</th>\n",
              "      <td>25273.738262</td>\n",
              "      <td>45.366089</td>\n",
              "      <td>0.305630</td>\n",
              "      <td>0.081308</td>\n",
              "      <td>186.562175</td>\n",
              "      <td>76.053920</td>\n",
              "    </tr>\n",
              "    <tr>\n",
              "      <th>std</th>\n",
              "      <td>17388.492937</td>\n",
              "      <td>9.103909</td>\n",
              "      <td>0.460674</td>\n",
              "      <td>0.273308</td>\n",
              "      <td>4.927101</td>\n",
              "      <td>8.682478</td>\n",
              "    </tr>\n",
              "    <tr>\n",
              "      <th>min</th>\n",
              "      <td>6.000000</td>\n",
              "      <td>7.000000</td>\n",
              "      <td>0.000000</td>\n",
              "      <td>0.000000</td>\n",
              "      <td>171.000000</td>\n",
              "      <td>40.000000</td>\n",
              "    </tr>\n",
              "    <tr>\n",
              "      <th>25%</th>\n",
              "      <td>10115.000000</td>\n",
              "      <td>40.000000</td>\n",
              "      <td>0.000000</td>\n",
              "      <td>0.000000</td>\n",
              "      <td>185.000000</td>\n",
              "      <td>73.000000</td>\n",
              "    </tr>\n",
              "    <tr>\n",
              "      <th>50%</th>\n",
              "      <td>22986.000000</td>\n",
              "      <td>46.000000</td>\n",
              "      <td>0.000000</td>\n",
              "      <td>0.000000</td>\n",
              "      <td>186.000000</td>\n",
              "      <td>78.000000</td>\n",
              "    </tr>\n",
              "    <tr>\n",
              "      <th>75%</th>\n",
              "      <td>37569.000000</td>\n",
              "      <td>51.000000</td>\n",
              "      <td>1.000000</td>\n",
              "      <td>0.000000</td>\n",
              "      <td>189.000000</td>\n",
              "      <td>83.000000</td>\n",
              "    </tr>\n",
              "    <tr>\n",
              "      <th>max</th>\n",
              "      <td>67022.000000</td>\n",
              "      <td>83.000000</td>\n",
              "      <td>1.000000</td>\n",
              "      <td>1.000000</td>\n",
              "      <td>212.000000</td>\n",
              "      <td>100.000000</td>\n",
              "    </tr>\n",
              "  </tbody>\n",
              "</table>\n",
              "</div>"
            ],
            "text/plain": [
              "             user_id       grade_id  ...         height         weight\n",
              "count  532663.000000  532663.000000  ...  532663.000000  532663.000000\n",
              "mean    25273.738262      45.366089  ...     186.562175      76.053920\n",
              "std     17388.492937       9.103909  ...       4.927101       8.682478\n",
              "min         6.000000       7.000000  ...     171.000000      40.000000\n",
              "25%     10115.000000      40.000000  ...     185.000000      73.000000\n",
              "50%     22986.000000      46.000000  ...     186.000000      78.000000\n",
              "75%     37569.000000      51.000000  ...     189.000000      83.000000\n",
              "max     67022.000000      83.000000  ...     212.000000     100.000000\n",
              "\n",
              "[8 rows x 6 columns]"
            ]
          },
          "metadata": {
            "tags": []
          },
          "execution_count": 18
        }
      ]
    },
    {
      "cell_type": "code",
      "metadata": {
        "id": "uFwGtBKW361Z",
        "colab_type": "code",
        "outputId": "db496b97-b131-49f5-8b64-b84c23e4f08f",
        "colab": {
          "base_uri": "https://localhost:8080/",
          "height": 54
        }
      },
      "source": [
        "#creating a dictionary & list to make sense of the grade_id's\n",
        "climb_ratings= rock.set_index('grade_id').to_dict()['usa_routes']\n",
        "print (climb_ratings)\n",
        "full_ratings= ['3/4', '5.1', '5.2', '5.3', '5.4', '5.5', '5.6', '5.7', '5.8', '5.9','5.10a','5.10b','5.10c','5.10d','5.11a', '5.11b','5.11d','5.12a','5.12b','5.12c','5.12d','5.13a','5.13b','5.13c','5.13d','5.14a','5.14b','5.14b/c','5.14c', '5.14d', '5.15a', '5.15b', '5.15c']"
      ],
      "execution_count": 0,
      "outputs": [
        {
          "output_type": "stream",
          "text": [
            "{36: '5.10a', 38: '5.10b', 40: '5.10c', 42: '5.10d', 44: '5.11a', 46: '5.11b', 49: '5.11d', 51: '5.12a', 53: '5.12b', 55: '5.12c', 57: '5.12d', 62: '5.13b', 59: '5.13a', 64: '5.13c', 66: '5.13d', 72: '5.14c', 68: '5.14a', 70: '5.14b', 75: '5.14d', 31: '5.8', 33: '5.9', 21: '5.4', 29: '5.7', 13: '5.3', 1: '3/4', 71: '5.14b/c', 77: '5.15a', 73: '5.14c/d', 23: '5.5', 25: '5.6', 17: '5.3', 15: '5.3', 79: '5.15b', 7: '5.1', 83: '5.15c', 81: '5.15c'}\n"
          ],
          "name": "stdout"
        }
      ]
    },
    {
      "cell_type": "code",
      "metadata": {
        "id": "6f4SM9VjHwUn",
        "colab_type": "code",
        "outputId": "75b9bdf3-0da5-444b-fb70-9aa5eb80a4b5",
        "colab": {
          "base_uri": "https://localhost:8080/",
          "height": 1089
        }
      },
      "source": [
        "# Graphing Tall versus Short\n",
        "\n",
        "fig= plt.figure(figsize=(15,15))\n",
        "\n",
        "#Tall \n",
        "ax1 = fig.add_subplot(3,1,1)\n",
        "sns.countplot(x='grade_id', data=h_tall, palette = \"Blues_d\")\n",
        "plt.xlabel(\"Grade ID\", fontsize= 14)\n",
        "plt.ylabel(\"Count\", fontsize= 14)\n",
        "plt.title(\"Tall Rock Climbing Grades\", fontsize= 18)\n",
        "ax1.set_xticklabels(full_ratings, rotation= 60)\n",
        "\n",
        "#Short\n",
        "ax2 = plt.subplot(3,1,2)\n",
        "sns.countplot(x=\"grade_id\", data= h_short, palette = \"autumn\")\n",
        "plt.xlabel(\"Grade ID\", fontsize= 14)\n",
        "plt.ylabel(\"Count\", fontsize= 14)\n",
        "plt.title(\"Short Rock Climbing Grades\", fontsize= 18)\n",
        "ax2.set_xticklabels(full_ratings, rotation= 60)\n",
        "\n",
        "#joint histogram\n",
        "plt.subplot (3,1,3)\n",
        "plt.hist(h_short[\"grade_id\"],bins=30, label= \"Short grades\")\n",
        "plt.hist(h_tall[\"grade_id\"],bins=30, label= \"Tall grades\")\n",
        "plt.axvline(h_tall_mu, color='k',linestyle='dashed', label=(f'Tall mean={h_tall_mu:.2f} ≈ 5.11a/b'))\n",
        "plt.axvline(h_short_mu, color='k', label=(f'Short mean={h_short_mu:.2f} ≈ 5.11c'))\n",
        "plt.xlabel(\"Grade ID\", fontsize= 14)\n",
        "plt.ylabel(\"Count\", fontsize= 14)\n",
        "plt.title('Tale vs. Short Histogram', fontsize= 18)\n",
        "plt.legend()\n",
        "\n",
        "plt.tight_layout()"
      ],
      "execution_count": 0,
      "outputs": [
        {
          "output_type": "display_data",
          "data": {
            "image/png": "[encoded data removed]",
            "text/plain": [
              "<Figure size 1080x1080 with 3 Axes>"
            ]
          },
          "metadata": {
            "tags": []
          }
        }
      ]
    },
    {
      "cell_type": "code",
      "metadata": {
        "id": "JVd1FUYE32hF",
        "colab_type": "code",
        "colab": {}
      },
      "source": [
        "#Function for generating \"short\", \"average\", and \"tall\" labels\n",
        "\n",
        "def height (x):\n",
        "  if x.sex == 0:\n",
        "    if x.height < 174:\n",
        "      return \"Short\"\n",
        "    elif x.height >= 174 and x.height <=183:\n",
        "      return \"Average\"\n",
        "    else:\n",
        "      return \"Tall\"\n",
        "  else:\n",
        "    if x.height < 158:\n",
        "      return \"Short\"\n",
        "    elif x.height >= 158 and x.height <=170:\n",
        "      return \"Average\"\n",
        "    else:\n",
        "      return \"Tall\"\n",
        "\n",
        "rock[\"height_label\"] = rock[['sex', 'height']].apply (height, axis=1)"
      ],
      "execution_count": 0,
      "outputs": []
    },
    {
      "cell_type": "code",
      "metadata": {
        "id": "XzXNyqaZIymA",
        "colab_type": "code",
        "outputId": "4891a654-d52d-4e0d-8da5-c9ce900d9ae6",
        "colab": {
          "base_uri": "https://localhost:8080/",
          "height": 555
        }
      },
      "source": [
        "#Generate Plot\n",
        "fig, ax = plt.subplots(figsize=(15,8))\n",
        "sns.violinplot(x=\"height_label\", y=\"grade_id\", data = rock)\n",
        "plt.title(\"Height Stastistics\", fontsize=18)\n",
        "plt.xlabel(\"Height Label\", fontsize= 14)\n",
        "plt.ylabel(\"Grade of Rock Climb\", fontsize= 14)\n",
        "plt.show"
      ],
      "execution_count": 0,
      "outputs": [
        {
          "output_type": "stream",
          "text": [
            "No handles with labels found to put in legend.\n"
          ],
          "name": "stderr"
        },
        {
          "output_type": "execute_result",
          "data": {
            "text/plain": [
              "<function matplotlib.pyplot.show>"
            ]
          },
          "metadata": {
            "tags": []
          },
          "execution_count": 22
        },
        {
          "output_type": "display_data",
          "data": {
            "image/png": "[encoded data removed]",
            "text/plain": [
              "<Figure size 1080x576 with 1 Axes>"
            ]
          },
          "metadata": {
            "tags": []
          }
        }
      ]
    },
    {
      "cell_type": "markdown",
      "metadata": {
        "id": "mss9yV8oglVs",
        "colab_type": "text"
      },
      "source": [
        "## Initial Impressions from EDA\n",
        "\n",
        "\n",
        "*   Suprisingly short climbers have the highest climbing grade average at 47.727 (approximately an 5.11c)! This is contrary to popular thought that tall people are better climbers.\n",
        "* There are slightly more outliers in the average category which makes sense being that it is the largest represented category\n",
        "* All three heigh categories have a spike at around the climbing rating of 49 or 5.11d.\n",
        "_____\n",
        "\n",
        "\n"
      ]
    },
    {
      "cell_type": "markdown",
      "metadata": {
        "id": "vKsZL6SWksEr",
        "colab_type": "text"
      },
      "source": [
        "# Hypothesis Test\n",
        "\n",
        "### Process\n",
        "1. State the hypothesis and significance level\n",
        "2. For fun, try a T-test and a Z-test to test the hypothesis, and see if there are differing results \n",
        "\n",
        "### Stating the Hypothesis & Alpha:\n",
        "* Null hypothesis \n",
        ">$H_0: \\mu1 = \\mu2 $\n",
        ">*There is no difference between the average short & tall climbing grades*\n",
        "\n",
        "* Alternative hypothesis \n",
        "> $ H_1: \\mu1 > \\mu2 $\n",
        ">*Average short climbing grades are higher than tall climbing grades*\n",
        "\n",
        "* Significance Level\n",
        "> $ {\\alpha = .01} $"
      ]
    },
    {
      "cell_type": "code",
      "metadata": {
        "id": "Tq7E3jMZgkE3",
        "colab_type": "code",
        "outputId": "98ab6eca-615f-49b8-c003-0df0c89886d9",
        "colab": {
          "base_uri": "https://localhost:8080/",
          "height": 51
        }
      },
      "source": [
        "#Restating the means\n",
        "print (f\"Tall climber average difficulty: {h_tall_mu}\")\n",
        "print (f\"Short climber average difficulty: {h_short_mu}\")"
      ],
      "execution_count": 0,
      "outputs": [
        {
          "output_type": "stream",
          "text": [
            "Tall climber average difficulty: 45.36608887795848\n",
            "Short climber average difficulty: 47.72713102094409\n"
          ],
          "name": "stdout"
        }
      ]
    },
    {
      "cell_type": "code",
      "metadata": {
        "id": "2ol9wdwEWI4d",
        "colab_type": "code",
        "outputId": "06e931f1-f769-435f-fc3b-dd657a0fd2dd",
        "colab": {
          "base_uri": "https://localhost:8080/",
          "height": 34
        }
      },
      "source": [
        "#Concatenate the tall & short df's together, calculate their combined mean, and turn both columns into arrays\n",
        "\n",
        "#concatenating the two subsetted data frames\n",
        "combined_df= pd.concat([h_tall, h_short])\n",
        "\n",
        "#computing the combined mean\n",
        "combined_mean= np.mean(combined_df[\"grade_id\"])\n",
        "print (f\"Combined mean: {combined_mean}\")\n",
        "\n",
        "#turning into arrays for functions\n",
        "tall_arry = h_tall[\"grade_id\"].values\n",
        "short_arry = h_short[\"grade_id\"].values"
      ],
      "execution_count": 0,
      "outputs": [
        {
          "output_type": "stream",
          "text": [
            "Combined mean: 46.70679488614882\n"
          ],
          "name": "stdout"
        }
      ]
    },
    {
      "cell_type": "code",
      "metadata": {
        "id": "HUD_f86Rn-Bb",
        "colab_type": "code",
        "outputId": "a34464f3-05a1-4039-d6f7-b537f5dccaa2",
        "colab": {
          "base_uri": "https://localhost:8080/",
          "height": 68
        }
      },
      "source": [
        "#T-TEST two sample/one-tail\n",
        "\n",
        "ttest, p = ttest_ind(short_arry,tall_arry)\n",
        "\n",
        "#Results\n",
        "print (\"T-Test Results:\")\n",
        "print(f\"P-value:{p:.5f}\")\n",
        "if p <0.01:\n",
        "  print(\"we reject null hypothesis\")\n",
        "else:\n",
        "  print(\"we accept null hypothesis\")"
      ],
      "execution_count": 0,
      "outputs": [
        {
          "output_type": "stream",
          "text": [
            "T-Test Results:\n",
            "P-value:0.00000\n",
            "we reject null hypothesis\n"
          ],
          "name": "stdout"
        }
      ]
    },
    {
      "cell_type": "code",
      "metadata": {
        "id": "loimeaSWmvH3",
        "colab_type": "code",
        "outputId": "68ed02bb-4d29-4092-f09d-35ca8defa746",
        "colab": {
          "base_uri": "https://localhost:8080/",
          "height": 102
        }
      },
      "source": [
        "#Z-TEST two sample/one-tail \n",
        "\n",
        "#z-test \n",
        "ztest ,pval = stests.ztest(short_arry, x2=tall_arry, value=0)\n",
        "\n",
        "#results\n",
        "print(\"Z-Test Results:\")\n",
        "print(f\"P-value:{pval:.5f}\")\n",
        "if pval < 0.01:    # alpha value is 1%\n",
        "    print(\"We reject the null hypothesis\")\n",
        "else:\n",
        "    print(\"We accept the null hypothesis\")\n",
        "    \n",
        "# Compute mean and standard deviation of the current sample: mu, sigma\n",
        "n= len(rock[\"grade_id\"])\n",
        "sd = np.std(rock[\"grade_id\"])\n",
        "z= 2.575 #critical z-value for 99% confidence interval\n",
        "\n",
        "#Compute the 99% confidence interval\n",
        "margin_er = z * (sd/math.sqrt(n))\n",
        "\n",
        "# Print the confidence interval & margin of error\n",
        "print(f\"The margin of error = {margin_er}\")\n",
        "print(f'The 99% confidence interval = [{combined_mean- margin_er}, {combined_mean + margin_er}]')"
      ],
      "execution_count": 0,
      "outputs": [
        {
          "output_type": "stream",
          "text": [
            "Z-Test Results:\n",
            "P-value:0.00000\n",
            "We reject the null hypothesis\n",
            "The margin of error = 0.014215479244573143\n",
            "The 99% confidence interval = [46.692579406904244, 46.7210103653934]\n"
          ],
          "name": "stdout"
        }
      ]
    },
    {
      "cell_type": "markdown",
      "metadata": {
        "id": "c9aAWIWnqUUc",
        "colab_type": "text"
      },
      "source": [
        "## Results & Conclusions\n",
        "\n",
        "\n",
        "*   The p-value is incredibly small with both the T & Z tests, and it is stasistically not probable the the difference in short & tall climbing grades is due to chance \n",
        "*   Therefore, we can say that based on this dataset \"short\" climbers are in fact climbing harder grades on average than their taller counter parts.\n",
        "* For future investigation:\n",
        " >* Experiment with different tall versus short segments of this dataset. I would be curious if the criteria for tall versus short was made even more extreme what that would do to the data\n",
        " >* Separate out bouldering climbing versus rock climbing and see how that changes the tall versus short averages (perhaps the style of climbing matters)\n",
        " >* Separate out male versus female and see if that changes the tall versus short dynamic and if one sex has more of an advantage there\n",
        "\n"
      ]
    }
  ]
}
