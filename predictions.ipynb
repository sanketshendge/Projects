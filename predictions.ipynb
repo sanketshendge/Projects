{
  "nbformat": 4,
  "nbformat_minor": 0,
  "metadata": {
    "colab": {
      "name": "predictions.ipynb",
      "version": "0.3.2",
      "provenance": [],
      "collapsed_sections": [],
      "include_colab_link": true
    },
    "kernelspec": {
      "name": "python3",
      "display_name": "Python 3"
    },
    "accelerator": "GPU"
  },
  "cells": [
    {
      "cell_type": "markdown",
      "metadata": {
        "id": "view-in-github",
        "colab_type": "text"
      },
      "source": [
        "<a href=\"https://colab.research.google.com/github/Colley-K/rock_climbing_recommendation_system/blob/master/predictions.ipynb\" target=\"_parent\"><img src=\"https://colab.research.google.com/assets/colab-badge.svg\" alt=\"Open In Colab\"/></a>"
      ]
    },
    {
      "cell_type": "markdown",
      "metadata": {
        "id": "KDQxeZ0YTFWs",
        "colab_type": "text"
      },
      "source": [
        "![alt text](https://drive.google.com/uc?id=114PIzJJDi9tTXbDPtyJQy-h8LMYvJr_m)\n",
        "\n",
        "**Data**: Kaggle climbing dataset that was scraped from the international climbing website 8au.nu\n",
        "\n",
        "**Type of Recommendation System**: User-based Collaborative filter\n",
        "\n",
        "**Algorithm**: SVD++ & the Surprise Library\n",
        "\n",
        "**Future Improvements:** \n",
        "* Create a filtering system so a climber could filter out the type, difficulty of climb, & country before receiving their recommendation\n",
        "* Without GPU  limitations, I would love to train on the full dataset in the future. Prelimnary tests confirmed that the bigger the training size, the more accurate the prediction. Alas, I'm confined to the free GPU's of Google Colab's computing power.\n",
        "* Laslty, this could also be improved by connecting to the 8a.nu website so the user could input their actual user ID instead of  their \"user_id number\" which the user is most likely not aware of\n",
        "\n",
        "**Enjoy!**"
      ]
    },
    {
      "cell_type": "code",
      "metadata": {
        "colab_type": "code",
        "outputId": "cebdbed6-1489-4c41-e586-c260dc47f69e",
        "id": "KHYjuy64Z8E3",
        "colab": {
          "resources": {
            "http://localhost:8080/nbextensions/google.colab/files.js": {
              "data": "Ly8gQ29weXJpZ2h0IDIwMTcgR29vZ2xlIExMQwovLwovLyBMaWNlbnNlZCB1bmRlciB0aGUgQXBhY2hlIExpY2Vuc2UsIFZlcnNpb24gMi4wICh0aGUgIkxpY2Vuc2UiKTsKLy8geW91IG1heSBub3QgdXNlIHRoaXMgZmlsZSBleGNlcHQgaW4gY29tcGxpYW5jZSB3aXRoIHRoZSBMaWNlbnNlLgovLyBZb3UgbWF5IG9idGFpbiBhIGNvcHkgb2YgdGhlIExpY2Vuc2UgYXQKLy8KLy8gICAgICBodHRwOi8vd3d3LmFwYWNoZS5vcmcvbGljZW5zZXMvTElDRU5TRS0yLjAKLy8KLy8gVW5sZXNzIHJlcXVpcmVkIGJ5IGFwcGxpY2FibGUgbGF3IG9yIGFncmVlZCB0byBpbiB3cml0aW5nLCBzb2Z0d2FyZQovLyBkaXN0cmlidXRlZCB1bmRlciB0aGUgTGljZW5zZSBpcyBkaXN0cmlidXRlZCBvbiBhbiAiQVMgSVMiIEJBU0lTLAovLyBXSVRIT1VUIFdBUlJBTlRJRVMgT1IgQ09ORElUSU9OUyBPRiBBTlkgS0lORCwgZWl0aGVyIGV4cHJlc3Mgb3IgaW1wbGllZC4KLy8gU2VlIHRoZSBMaWNlbnNlIGZvciB0aGUgc3BlY2lmaWMgbGFuZ3VhZ2UgZ292ZXJuaW5nIHBlcm1pc3Npb25zIGFuZAovLyBsaW1pdGF0aW9ucyB1bmRlciB0aGUgTGljZW5zZS4KCi8qKgogKiBAZmlsZW92ZXJ2aWV3IEhlbHBlcnMgZm9yIGdvb2dsZS5jb2xhYiBQeXRob24gbW9kdWxlLgogKi8KKGZ1bmN0aW9uKHNjb3BlKSB7CmZ1bmN0aW9uIHNwYW4odGV4dCwgc3R5bGVBdHRyaWJ1dGVzID0ge30pIHsKICBjb25zdCBlbGVtZW50ID0gZG9jdW1lbnQuY3JlYXRlRWxlbWVudCgnc3BhbicpOwogIGVsZW1lbnQudGV4dENvbnRlbnQgPSB0ZXh0OwogIGZvciAoY29uc3Qga2V5IG9mIE9iamVjdC5rZXlzKHN0eWxlQXR0cmlidXRlcykpIHsKICAgIGVsZW1lbnQuc3R5bGVba2V5XSA9IHN0eWxlQXR0cmlidXRlc1trZXldOwogIH0KICByZXR1cm4gZWxlbWVudDsKfQoKLy8gTWF4IG51bWJlciBvZiBieXRlcyB3aGljaCB3aWxsIGJlIHVwbG9hZGVkIGF0IGEgdGltZS4KY29uc3QgTUFYX1BBWUxPQURfU0laRSA9IDEwMCAqIDEwMjQ7Ci8vIE1heCBhbW91bnQgb2YgdGltZSB0byBibG9jayB3YWl0aW5nIGZvciB0aGUgdXNlci4KY29uc3QgRklMRV9DSEFOR0VfVElNRU9VVF9NUyA9IDMwICogMTAwMDsKCmZ1bmN0aW9uIF91cGxvYWRGaWxlcyhpbnB1dElkLCBvdXRwdXRJZCkgewogIGNvbnN0IHN0ZXBzID0gdXBsb2FkRmlsZXNTdGVwKGlucHV0SWQsIG91dHB1dElkKTsKICBjb25zdCBvdXRwdXRFbGVtZW50ID0gZG9jdW1lbnQuZ2V0RWxlbWVudEJ5SWQob3V0cHV0SWQpOwogIC8vIENhY2hlIHN0ZXBzIG9uIHRoZSBvdXRwdXRFbGVtZW50IHRvIG1ha2UgaXQgYXZhaWxhYmxlIGZvciB0aGUgbmV4dCBjYWxsCiAgLy8gdG8gdXBsb2FkRmlsZXNDb250aW51ZSBmcm9tIFB5dGhvbi4KICBvdXRwdXRFbGVtZW50LnN0ZXBzID0gc3RlcHM7CgogIHJldHVybiBfdXBsb2FkRmlsZXNDb250aW51ZShvdXRwdXRJZCk7Cn0KCi8vIFRoaXMgaXMgcm91Z2hseSBhbiBhc3luYyBnZW5lcmF0b3IgKG5vdCBzdXBwb3J0ZWQgaW4gdGhlIGJyb3dzZXIgeWV0KSwKLy8gd2hlcmUgdGhlcmUgYXJlIG11bHRpcGxlIGFzeW5jaHJvbm91cyBzdGVwcyBhbmQgdGhlIFB5dGhvbiBzaWRlIGlzIGdvaW5nCi8vIHRvIHBvbGwgZm9yIGNvbXBsZXRpb24gb2YgZWFjaCBzdGVwLgovLyBUaGlzIHVzZXMgYSBQcm9taXNlIHRvIGJsb2NrIHRoZSBweXRob24gc2lkZSBvbiBjb21wbGV0aW9uIG9mIGVhY2ggc3RlcCwKLy8gdGhlbiBwYXNzZXMgdGhlIHJlc3VsdCBvZiB0aGUgcHJldmlvdXMgc3RlcCBhcyB0aGUgaW5wdXQgdG8gdGhlIG5leHQgc3RlcC4KZnVuY3Rpb24gX3VwbG9hZEZpbGVzQ29udGludWUob3V0cHV0SWQpIHsKICBjb25zdCBvdXRwdXRFbGVtZW50ID0gZG9jdW1lbnQuZ2V0RWxlbWVudEJ5SWQob3V0cHV0SWQpOwogIGNvbnN0IHN0ZXBzID0gb3V0cHV0RWxlbWVudC5zdGVwczsKCiAgY29uc3QgbmV4dCA9IHN0ZXBzLm5leHQob3V0cHV0RWxlbWVudC5sYXN0UHJvbWlzZVZhbHVlKTsKICByZXR1cm4gUHJvbWlzZS5yZXNvbHZlKG5leHQudmFsdWUucHJvbWlzZSkudGhlbigodmFsdWUpID0+IHsKICAgIC8vIENhY2hlIHRoZSBsYXN0IHByb21pc2UgdmFsdWUgdG8gbWFrZSBpdCBhdmFpbGFibGUgdG8gdGhlIG5leHQKICAgIC8vIHN0ZXAgb2YgdGhlIGdlbmVyYXRvci4KICAgIG91dHB1dEVsZW1lbnQubGFzdFByb21pc2VWYWx1ZSA9IHZhbHVlOwogICAgcmV0dXJuIG5leHQudmFsdWUucmVzcG9uc2U7CiAgfSk7Cn0KCi8qKgogKiBHZW5lcmF0b3IgZnVuY3Rpb24gd2hpY2ggaXMgY2FsbGVkIGJldHdlZW4gZWFjaCBhc3luYyBzdGVwIG9mIHRoZSB1cGxvYWQKICogcHJvY2Vzcy4KICogQHBhcmFtIHtzdHJpbmd9IGlucHV0SWQgRWxlbWVudCBJRCBvZiB0aGUgaW5wdXQgZmlsZSBwaWNrZXIgZWxlbWVudC4KICogQHBhcmFtIHtzdHJpbmd9IG91dHB1dElkIEVsZW1lbnQgSUQgb2YgdGhlIG91dHB1dCBkaXNwbGF5LgogKiBAcmV0dXJuIHshSXRlcmFibGU8IU9iamVjdD59IEl0ZXJhYmxlIG9mIG5leHQgc3RlcHMuCiAqLwpmdW5jdGlvbiogdXBsb2FkRmlsZXNTdGVwKGlucHV0SWQsIG91dHB1dElkKSB7CiAgY29uc3QgaW5wdXRFbGVtZW50ID0gZG9jdW1lbnQuZ2V0RWxlbWVudEJ5SWQoaW5wdXRJZCk7CiAgaW5wdXRFbGVtZW50LmRpc2FibGVkID0gZmFsc2U7CgogIGNvbnN0IG91dHB1dEVsZW1lbnQgPSBkb2N1bWVudC5nZXRFbGVtZW50QnlJZChvdXRwdXRJZCk7CiAgb3V0cHV0RWxlbWVudC5pbm5lckhUTUwgPSAnJzsKCiAgY29uc3QgcGlja2VkUHJvbWlzZSA9IG5ldyBQcm9taXNlKChyZXNvbHZlKSA9PiB7CiAgICBpbnB1dEVsZW1lbnQuYWRkRXZlbnRMaXN0ZW5lcignY2hhbmdlJywgKGUpID0+IHsKICAgICAgcmVzb2x2ZShlLnRhcmdldC5maWxlcyk7CiAgICB9KTsKICB9KTsKCiAgY29uc3QgY2FuY2VsID0gZG9jdW1lbnQuY3JlYXRlRWxlbWVudCgnYnV0dG9uJyk7CiAgaW5wdXRFbGVtZW50LnBhcmVudEVsZW1lbnQuYXBwZW5kQ2hpbGQoY2FuY2VsKTsKICBjYW5jZWwudGV4dENvbnRlbnQgPSAnQ2FuY2VsIHVwbG9hZCc7CiAgY29uc3QgY2FuY2VsUHJvbWlzZSA9IG5ldyBQcm9taXNlKChyZXNvbHZlKSA9PiB7CiAgICBjYW5jZWwub25jbGljayA9ICgpID0+IHsKICAgICAgcmVzb2x2ZShudWxsKTsKICAgIH07CiAgfSk7CgogIC8vIENhbmNlbCB1cGxvYWQgaWYgdXNlciBoYXNuJ3QgcGlja2VkIGFueXRoaW5nIGluIHRpbWVvdXQuCiAgY29uc3QgdGltZW91dFByb21pc2UgPSBuZXcgUHJvbWlzZSgocmVzb2x2ZSkgPT4gewogICAgc2V0VGltZW91dCgoKSA9PiB7CiAgICAgIHJlc29sdmUobnVsbCk7CiAgICB9LCBGSUxFX0NIQU5HRV9USU1FT1VUX01TKTsKICB9KTsKCiAgLy8gV2FpdCBmb3IgdGhlIHVzZXIgdG8gcGljayB0aGUgZmlsZXMuCiAgY29uc3QgZmlsZXMgPSB5aWVsZCB7CiAgICBwcm9taXNlOiBQcm9taXNlLnJhY2UoW3BpY2tlZFByb21pc2UsIHRpbWVvdXRQcm9taXNlLCBjYW5jZWxQcm9taXNlXSksCiAgICByZXNwb25zZTogewogICAgICBhY3Rpb246ICdzdGFydGluZycsCiAgICB9CiAgfTsKCiAgaWYgKCFmaWxlcykgewogICAgcmV0dXJuIHsKICAgICAgcmVzcG9uc2U6IHsKICAgICAgICBhY3Rpb246ICdjb21wbGV0ZScsCiAgICAgIH0KICAgIH07CiAgfQoKICBjYW5jZWwucmVtb3ZlKCk7CgogIC8vIERpc2FibGUgdGhlIGlucHV0IGVsZW1lbnQgc2luY2UgZnVydGhlciBwaWNrcyBhcmUgbm90IGFsbG93ZWQuCiAgaW5wdXRFbGVtZW50LmRpc2FibGVkID0gdHJ1ZTsKCiAgZm9yIChjb25zdCBmaWxlIG9mIGZpbGVzKSB7CiAgICBjb25zdCBsaSA9IGRvY3VtZW50LmNyZWF0ZUVsZW1lbnQoJ2xpJyk7CiAgICBsaS5hcHBlbmQoc3BhbihmaWxlLm5hbWUsIHtmb250V2VpZ2h0OiAnYm9sZCd9KSk7CiAgICBsaS5hcHBlbmQoc3BhbigKICAgICAgICBgKCR7ZmlsZS50eXBlIHx8ICduL2EnfSkgLSAke2ZpbGUuc2l6ZX0gYnl0ZXMsIGAgKwogICAgICAgIGBsYXN0IG1vZGlmaWVkOiAkewogICAgICAgICAgICBmaWxlLmxhc3RNb2RpZmllZERhdGUgPyBmaWxlLmxhc3RNb2RpZmllZERhdGUudG9Mb2NhbGVEYXRlU3RyaW5nKCkgOgogICAgICAgICAgICAgICAgICAgICAgICAgICAgICAgICAgICAnbi9hJ30gLSBgKSk7CiAgICBjb25zdCBwZXJjZW50ID0gc3BhbignMCUgZG9uZScpOwogICAgbGkuYXBwZW5kQ2hpbGQocGVyY2VudCk7CgogICAgb3V0cHV0RWxlbWVudC5hcHBlbmRDaGlsZChsaSk7CgogICAgY29uc3QgZmlsZURhdGFQcm9taXNlID0gbmV3IFByb21pc2UoKHJlc29sdmUpID0+IHsKICAgICAgY29uc3QgcmVhZGVyID0gbmV3IEZpbGVSZWFkZXIoKTsKICAgICAgcmVhZGVyLm9ubG9hZCA9IChlKSA9PiB7CiAgICAgICAgcmVzb2x2ZShlLnRhcmdldC5yZXN1bHQpOwogICAgICB9OwogICAgICByZWFkZXIucmVhZEFzQXJyYXlCdWZmZXIoZmlsZSk7CiAgICB9KTsKICAgIC8vIFdhaXQgZm9yIHRoZSBkYXRhIHRvIGJlIHJlYWR5LgogICAgbGV0IGZpbGVEYXRhID0geWllbGQgewogICAgICBwcm9taXNlOiBmaWxlRGF0YVByb21pc2UsCiAgICAgIHJlc3BvbnNlOiB7CiAgICAgICAgYWN0aW9uOiAnY29udGludWUnLAogICAgICB9CiAgICB9OwoKICAgIC8vIFVzZSBhIGNodW5rZWQgc2VuZGluZyB0byBhdm9pZCBtZXNzYWdlIHNpemUgbGltaXRzLiBTZWUgYi82MjExNTY2MC4KICAgIGxldCBwb3NpdGlvbiA9IDA7CiAgICB3aGlsZSAocG9zaXRpb24gPCBmaWxlRGF0YS5ieXRlTGVuZ3RoKSB7CiAgICAgIGNvbnN0IGxlbmd0aCA9IE1hdGgubWluKGZpbGVEYXRhLmJ5dGVMZW5ndGggLSBwb3NpdGlvbiwgTUFYX1BBWUxPQURfU0laRSk7CiAgICAgIGNvbnN0IGNodW5rID0gbmV3IFVpbnQ4QXJyYXkoZmlsZURhdGEsIHBvc2l0aW9uLCBsZW5ndGgpOwogICAgICBwb3NpdGlvbiArPSBsZW5ndGg7CgogICAgICBjb25zdCBiYXNlNjQgPSBidG9hKFN0cmluZy5mcm9tQ2hhckNvZGUuYXBwbHkobnVsbCwgY2h1bmspKTsKICAgICAgeWllbGQgewogICAgICAgIHJlc3BvbnNlOiB7CiAgICAgICAgICBhY3Rpb246ICdhcHBlbmQnLAogICAgICAgICAgZmlsZTogZmlsZS5uYW1lLAogICAgICAgICAgZGF0YTogYmFzZTY0LAogICAgICAgIH0sCiAgICAgIH07CiAgICAgIHBlcmNlbnQudGV4dENvbnRlbnQgPQogICAgICAgICAgYCR7TWF0aC5yb3VuZCgocG9zaXRpb24gLyBmaWxlRGF0YS5ieXRlTGVuZ3RoKSAqIDEwMCl9JSBkb25lYDsKICAgIH0KICB9CgogIC8vIEFsbCBkb25lLgogIHlpZWxkIHsKICAgIHJlc3BvbnNlOiB7CiAgICAgIGFjdGlvbjogJ2NvbXBsZXRlJywKICAgIH0KICB9Owp9CgpzY29wZS5nb29nbGUgPSBzY29wZS5nb29nbGUgfHwge307CnNjb3BlLmdvb2dsZS5jb2xhYiA9IHNjb3BlLmdvb2dsZS5jb2xhYiB8fCB7fTsKc2NvcGUuZ29vZ2xlLmNvbGFiLl9maWxlcyA9IHsKICBfdXBsb2FkRmlsZXMsCiAgX3VwbG9hZEZpbGVzQ29udGludWUsCn07Cn0pKHNlbGYpOwo=",
              "ok": true,
              "headers": [
                [
                  "content-type",
                  "application/javascript"
                ]
              ],
              "status": 200,
              "status_text": ""
            }
          },
          "base_uri": "https://localhost:8080/",
          "height": 485
        }
      },
      "source": [
        "#Initial set-up \n",
        "\n",
        "#mount google drive\n",
        "from google.colab import drive\n",
        "drive.mount('/content/drive')#click on the link it provides and copy and paste that code into the authorization area\n",
        "\n",
        "#access the OS system to work with current directories:\n",
        "import os \n",
        "os.getcwd() \n",
        "\n",
        "#importing functions for this notebook\n",
        "from google.colab import files\n",
        "uploaded = files.upload()\n",
        "\n",
        "#importing functions for this notebook\n",
        "from google.colab import files\n",
        "uploaded = files.upload()\n",
        "\n",
        "#Installs\n",
        "!pip install surprise\n",
        "\n",
        "#import coldstart_thresholds as cst\n",
        "import function as f\n",
        "import final_ml_predict as fml\n",
        "import pandas as pd"
      ],
      "execution_count": 1,
      "outputs": [
        {
          "output_type": "stream",
          "text": [
            "Go to this URL in a browser: https://accounts.google.com/o/oauth2/auth?client_id=947318989803-6bn6qk8qdgf4n4g3pfee6491hc0brc4i.apps.googleusercontent.com&redirect_uri=urn%3Aietf%3Awg%3Aoauth%3A2.0%3Aoob&scope=email%20https%3A%2F%2Fwww.googleapis.com%2Fauth%2Fdocs.test%20https%3A%2F%2Fwww.googleapis.com%2Fauth%2Fdrive%20https%3A%2F%2Fwww.googleapis.com%2Fauth%2Fdrive.photos.readonly%20https%3A%2F%2Fwww.googleapis.com%2Fauth%2Fpeopleapi.readonly&response_type=code\n",
            "\n",
            "Enter your authorization code:\n",
            "··········\n",
            "Mounted at /content/drive\n"
          ],
          "name": "stdout"
        },
        {
          "output_type": "display_data",
          "data": {
            "text/html": [
              "\n",
              "     <input type=\"file\" id=\"files-8b0b091f-bb31-41aa-ae16-39e188cec35f\" name=\"files[]\" multiple disabled />\n",
              "     <output id=\"result-8b0b091f-bb31-41aa-ae16-39e188cec35f\">\n",
              "      Upload widget is only available when the cell has been executed in the\n",
              "      current browser session. Please rerun this cell to enable.\n",
              "      </output>\n",
              "      <script src=\"/nbextensions/google.colab/files.js\"></script> "
            ],
            "text/plain": [
              "<IPython.core.display.HTML object>"
            ]
          },
          "metadata": {
            "tags": []
          }
        },
        {
          "output_type": "stream",
          "text": [
            "Saving function.py to function.py\n"
          ],
          "name": "stdout"
        },
        {
          "output_type": "display_data",
          "data": {
            "text/html": [
              "\n",
              "     <input type=\"file\" id=\"files-8b9bed92-63ec-4ed3-b778-da0195bf354f\" name=\"files[]\" multiple disabled />\n",
              "     <output id=\"result-8b9bed92-63ec-4ed3-b778-da0195bf354f\">\n",
              "      Upload widget is only available when the cell has been executed in the\n",
              "      current browser session. Please rerun this cell to enable.\n",
              "      </output>\n",
              "      <script src=\"/nbextensions/google.colab/files.js\"></script> "
            ],
            "text/plain": [
              "<IPython.core.display.HTML object>"
            ]
          },
          "metadata": {
            "tags": []
          }
        },
        {
          "output_type": "stream",
          "text": [
            "Saving final_ml_predict.py to final_ml_predict.py\n",
            "Collecting surprise\n",
            "  Downloading https://files.pythonhosted.org/packages/61/de/e5cba8682201fcf9c3719a6fdda95693468ed061945493dea2dd37c5618b/surprise-0.1-py2.py3-none-any.whl\n",
            "Collecting scikit-surprise (from surprise)\n",
            "\u001b[?25l  Downloading https://files.pythonhosted.org/packages/4d/fc/cd4210b247d1dca421c25994740cbbf03c5e980e31881f10eaddf45fdab0/scikit-surprise-1.0.6.tar.gz (3.3MB)\n",
            "\u001b[K     |████████████████████████████████| 3.3MB 3.5MB/s \n",
            "\u001b[?25hRequirement already satisfied: joblib>=0.11 in /usr/local/lib/python3.6/dist-packages (from scikit-surprise->surprise) (0.13.2)\n",
            "Requirement already satisfied: numpy>=1.11.2 in /usr/local/lib/python3.6/dist-packages (from scikit-surprise->surprise) (1.16.4)\n",
            "Requirement already satisfied: scipy>=1.0.0 in /usr/local/lib/python3.6/dist-packages (from scikit-surprise->surprise) (1.3.0)\n",
            "Requirement already satisfied: six>=1.10.0 in /usr/local/lib/python3.6/dist-packages (from scikit-surprise->surprise) (1.12.0)\n",
            "Building wheels for collected packages: scikit-surprise\n",
            "  Building wheel for scikit-surprise (setup.py) ... \u001b[?25l\u001b[?25hdone\n",
            "  Stored in directory: /root/.cache/pip/wheels/ec/c0/55/3a28eab06b53c220015063ebbdb81213cd3dcbb72c088251ec\n",
            "Successfully built scikit-surprise\n",
            "Installing collected packages: scikit-surprise, surprise\n",
            "Successfully installed scikit-surprise-1.0.6 surprise-0.1\n"
          ],
          "name": "stdout"
        }
      ]
    },
    {
      "cell_type": "markdown",
      "metadata": {
        "id": "OBOSbh7kEDeY",
        "colab_type": "text"
      },
      "source": [
        "###Due to RAM issues, the fitting, testing, and predicting took place in the [create_top_ten_df notebook](https://colab.research.google.com/drive/1-Ml604746if6IxYaTxrnikVM8v99o2RM)"
      ]
    },
    {
      "cell_type": "code",
      "metadata": {
        "id": "eUxl-akRVW_M",
        "colab_type": "code",
        "colab": {}
      },
      "source": [
        "#Read in the two df's\n",
        "rock6x = pd.read_csv('drive/My Drive/Capstone/data/rock6x.csv', low_memory=False)  #choosen df that filtered out routes occuring less than 6 times                                    )\n",
        "top_ten = pd.read_csv('drive/My Drive/Capstone/data/top_n_predict65_wparams.csv', low_memory=False) # created in the create_top_ten_df notebook due to Ram issues"
      ],
      "execution_count": 0,
      "outputs": []
    },
    {
      "cell_type": "code",
      "metadata": {
        "id": "010Ops1JYmv2",
        "colab_type": "code",
        "colab": {}
      },
      "source": [
        "#Clean up both dataframes\n",
        "rock6x= fml.pretty_ref_df(rock6x)\n",
        "top_ten= fml.pretty_top_ten_df(top_ten)"
      ],
      "execution_count": 0,
      "outputs": []
    },
    {
      "cell_type": "code",
      "metadata": {
        "id": "ypucsrR_ZOY5",
        "colab_type": "code",
        "colab": {
          "base_uri": "https://localhost:8080/",
          "height": 393
        },
        "outputId": "762a7304-5e1d-437a-d804-1c7620c884df"
      },
      "source": [
        "#Predict users top_ten routes\n",
        "fml.top_ten_prediction(\"12\", top_ten, rock6x)"
      ],
      "execution_count": 4,
      "outputs": [
        {
          "output_type": "stream",
          "text": [
            "Where in the world should you climb next?\n",
            "Top Ten Rock Climbing Recommendations for User #12:\n"
          ],
          "name": "stdout"
        },
        {
          "output_type": "execute_result",
          "data": {
            "text/html": [
              "<div>\n",
              "<style scoped>\n",
              "    .dataframe tbody tr th:only-of-type {\n",
              "        vertical-align: middle;\n",
              "    }\n",
              "\n",
              "    .dataframe tbody tr th {\n",
              "        vertical-align: top;\n",
              "    }\n",
              "\n",
              "    .dataframe thead th {\n",
              "        text-align: right;\n",
              "    }\n",
              "</style>\n",
              "<table border=\"1\" class=\"dataframe\">\n",
              "  <thead>\n",
              "    <tr style=\"text-align: right;\">\n",
              "      <th></th>\n",
              "      <th>route</th>\n",
              "      <th>user_rate_predict</th>\n",
              "      <th>avg_rating</th>\n",
              "      <th>num_users_rate</th>\n",
              "      <th>climb_type</th>\n",
              "      <th>usa_routes</th>\n",
              "      <th>usa_boulders</th>\n",
              "      <th>crag</th>\n",
              "      <th>country</th>\n",
              "    </tr>\n",
              "  </thead>\n",
              "  <tbody>\n",
              "    <tr>\n",
              "      <th>1</th>\n",
              "      <td>Abstrakt</td>\n",
              "      <td>2.965450796247701</td>\n",
              "      <td>2.931</td>\n",
              "      <td>29</td>\n",
              "      <td>Rope Climb</td>\n",
              "      <td>5.13b</td>\n",
              "      <td>V11</td>\n",
              "      <td>Hylteberget</td>\n",
              "      <td>SWE</td>\n",
              "    </tr>\n",
              "    <tr>\n",
              "      <th>2</th>\n",
              "      <td>Hegar</td>\n",
              "      <td>2.809462278617374</td>\n",
              "      <td>2.778</td>\n",
              "      <td>27</td>\n",
              "      <td>Rope Climb</td>\n",
              "      <td>5.10d</td>\n",
              "      <td>V4/V5</td>\n",
              "      <td>Nissedal</td>\n",
              "      <td>NOR</td>\n",
              "    </tr>\n",
              "    <tr>\n",
              "      <th>3</th>\n",
              "      <td>Thaiboxing</td>\n",
              "      <td>2.767406704232296</td>\n",
              "      <td>2.811</td>\n",
              "      <td>37</td>\n",
              "      <td>Rope Climb</td>\n",
              "      <td>5.12b</td>\n",
              "      <td>V8</td>\n",
              "      <td>Jarlsberget</td>\n",
              "      <td>NOR</td>\n",
              "    </tr>\n",
              "    <tr>\n",
              "      <th>4</th>\n",
              "      <td>Vestpillaren</td>\n",
              "      <td>2.7656782513690805</td>\n",
              "      <td>2.919</td>\n",
              "      <td>86</td>\n",
              "      <td>Rope Climb</td>\n",
              "      <td>5.10c</td>\n",
              "      <td>V4</td>\n",
              "      <td>Lofoten</td>\n",
              "      <td>NOR</td>\n",
              "    </tr>\n",
              "    <tr>\n",
              "      <th>5</th>\n",
              "      <td>Quimera</td>\n",
              "      <td>2.745291868794412</td>\n",
              "      <td>2.900</td>\n",
              "      <td>20</td>\n",
              "      <td>Rope Climb</td>\n",
              "      <td>5.11a</td>\n",
              "      <td>V5</td>\n",
              "      <td>Pego</td>\n",
              "      <td>ESP</td>\n",
              "    </tr>\n",
              "    <tr>\n",
              "      <th>6</th>\n",
              "      <td>Trampoline</td>\n",
              "      <td>2.7450755717280315</td>\n",
              "      <td>2.000</td>\n",
              "      <td>1</td>\n",
              "      <td>Bouldering</td>\n",
              "      <td>5.12a</td>\n",
              "      <td>V7</td>\n",
              "      <td>Smuggs</td>\n",
              "      <td>USA</td>\n",
              "    </tr>\n",
              "    <tr>\n",
              "      <th>7</th>\n",
              "      <td>Magnetfinger</td>\n",
              "      <td>2.7443795704718594</td>\n",
              "      <td>2.939</td>\n",
              "      <td>49</td>\n",
              "      <td>Rope Climb</td>\n",
              "      <td>5.13a</td>\n",
              "      <td>V10</td>\n",
              "      <td>Pfalz</td>\n",
              "      <td>DEU</td>\n",
              "    </tr>\n",
              "    <tr>\n",
              "      <th>8</th>\n",
              "      <td>Villskudd</td>\n",
              "      <td>2.7339687745935484</td>\n",
              "      <td>2.820</td>\n",
              "      <td>128</td>\n",
              "      <td>Rope Climb</td>\n",
              "      <td>5.10a</td>\n",
              "      <td>V3</td>\n",
              "      <td>Bohuslan</td>\n",
              "      <td>SWE</td>\n",
              "    </tr>\n",
              "    <tr>\n",
              "      <th>9</th>\n",
              "      <td>Prismaster</td>\n",
              "      <td>2.731965630823839</td>\n",
              "      <td>2.649</td>\n",
              "      <td>114</td>\n",
              "      <td>Rope Climb</td>\n",
              "      <td>5.10a</td>\n",
              "      <td>V3</td>\n",
              "      <td>Bohuslan</td>\n",
              "      <td>SWE</td>\n",
              "    </tr>\n",
              "    <tr>\n",
              "      <th>10</th>\n",
              "      <td>Kachoong</td>\n",
              "      <td>2.724216995120893</td>\n",
              "      <td>2.850</td>\n",
              "      <td>40</td>\n",
              "      <td>Rope Climb</td>\n",
              "      <td>5.10d</td>\n",
              "      <td>V4/V5</td>\n",
              "      <td>Arapiles</td>\n",
              "      <td>AUS</td>\n",
              "    </tr>\n",
              "  </tbody>\n",
              "</table>\n",
              "</div>"
            ],
            "text/plain": [
              "           route   user_rate_predict  ...         crag  country\n",
              "1       Abstrakt   2.965450796247701  ...  Hylteberget      SWE\n",
              "2          Hegar   2.809462278617374  ...     Nissedal      NOR\n",
              "3     Thaiboxing   2.767406704232296  ...  Jarlsberget      NOR\n",
              "4   Vestpillaren  2.7656782513690805  ...      Lofoten      NOR\n",
              "5        Quimera   2.745291868794412  ...         Pego      ESP\n",
              "6     Trampoline  2.7450755717280315  ...       Smuggs      USA\n",
              "7   Magnetfinger  2.7443795704718594  ...        Pfalz      DEU\n",
              "8      Villskudd  2.7339687745935484  ...     Bohuslan      SWE\n",
              "9     Prismaster   2.731965630823839  ...     Bohuslan      SWE\n",
              "10      Kachoong   2.724216995120893  ...     Arapiles      AUS\n",
              "\n",
              "[10 rows x 9 columns]"
            ]
          },
          "metadata": {
            "tags": []
          },
          "execution_count": 4
        }
      ]
    },
    {
      "cell_type": "code",
      "metadata": {
        "id": "C-1lyPouZKj2",
        "colab_type": "code",
        "colab": {
          "base_uri": "https://localhost:8080/",
          "height": 410
        },
        "outputId": "6a00b1e9-6477-4d69-91ab-95447322a232"
      },
      "source": [
        "#Predict user not in datframe average top_ten routes\n",
        "fml.top_ten_prediction(\"33\", top_ten, rock6x)"
      ],
      "execution_count": 5,
      "outputs": [
        {
          "output_type": "stream",
          "text": [
            "Where in the world should you climb next?\n",
            "ERROR: User #33 does not have enough historic recommendations to provide an accurate prediction\n",
            "Average Top Ten Rock Climbing Recommendations in the World:\n"
          ],
          "name": "stdout"
        },
        {
          "output_type": "execute_result",
          "data": {
            "text/html": [
              "<div>\n",
              "<style scoped>\n",
              "    .dataframe tbody tr th:only-of-type {\n",
              "        vertical-align: middle;\n",
              "    }\n",
              "\n",
              "    .dataframe tbody tr th {\n",
              "        vertical-align: top;\n",
              "    }\n",
              "\n",
              "    .dataframe thead th {\n",
              "        text-align: right;\n",
              "    }\n",
              "</style>\n",
              "<table border=\"1\" class=\"dataframe\">\n",
              "  <thead>\n",
              "    <tr style=\"text-align: right;\">\n",
              "      <th></th>\n",
              "      <th>route</th>\n",
              "      <th>avg_rating</th>\n",
              "      <th>num_users_rate</th>\n",
              "      <th>climb_type</th>\n",
              "      <th>usa_routes</th>\n",
              "      <th>usa_boulders</th>\n",
              "      <th>crag</th>\n",
              "      <th>country</th>\n",
              "    </tr>\n",
              "  </thead>\n",
              "  <tbody>\n",
              "    <tr>\n",
              "      <th>1</th>\n",
              "      <td>Schonheitsregen</td>\n",
              "      <td>2.943</td>\n",
              "      <td>53</td>\n",
              "      <td>Bouldering</td>\n",
              "      <td>5.12b</td>\n",
              "      <td>V8</td>\n",
              "      <td>Zillertal</td>\n",
              "      <td>AUT</td>\n",
              "    </tr>\n",
              "    <tr>\n",
              "      <th>2</th>\n",
              "      <td>Aegialis</td>\n",
              "      <td>2.947</td>\n",
              "      <td>246</td>\n",
              "      <td>Rope Climb</td>\n",
              "      <td>5.12d</td>\n",
              "      <td>V9</td>\n",
              "      <td>Kalymnos</td>\n",
              "      <td>GRC</td>\n",
              "    </tr>\n",
              "    <tr>\n",
              "      <th>3</th>\n",
              "      <td>Checkerboard</td>\n",
              "      <td>2.972</td>\n",
              "      <td>177</td>\n",
              "      <td>Bouldering</td>\n",
              "      <td>5.12c</td>\n",
              "      <td>V8/9</td>\n",
              "      <td>Bishop</td>\n",
              "      <td>USA</td>\n",
              "    </tr>\n",
              "    <tr>\n",
              "      <th>4</th>\n",
              "      <td>Aegialis</td>\n",
              "      <td>2.947</td>\n",
              "      <td>246</td>\n",
              "      <td>Rope Climb</td>\n",
              "      <td>5.12d</td>\n",
              "      <td>V9</td>\n",
              "      <td>Kalymnos</td>\n",
              "      <td>GRC</td>\n",
              "    </tr>\n",
              "    <tr>\n",
              "      <th>5</th>\n",
              "      <td>Aegialis</td>\n",
              "      <td>2.947</td>\n",
              "      <td>246</td>\n",
              "      <td>Rope Climb</td>\n",
              "      <td>5.12d</td>\n",
              "      <td>V9</td>\n",
              "      <td>Kalymnos</td>\n",
              "      <td>GRC</td>\n",
              "    </tr>\n",
              "    <tr>\n",
              "      <th>6</th>\n",
              "      <td>Geminis</td>\n",
              "      <td>2.963</td>\n",
              "      <td>81</td>\n",
              "      <td>Rope Climb</td>\n",
              "      <td>5.14a</td>\n",
              "      <td>V14</td>\n",
              "      <td>Rodellar</td>\n",
              "      <td>ESP</td>\n",
              "    </tr>\n",
              "    <tr>\n",
              "      <th>7</th>\n",
              "      <td>Shosholoza</td>\n",
              "      <td>2.974</td>\n",
              "      <td>78</td>\n",
              "      <td>Bouldering</td>\n",
              "      <td>5.13c</td>\n",
              "      <td>V12</td>\n",
              "      <td>Rocklands</td>\n",
              "      <td>ZAF</td>\n",
              "    </tr>\n",
              "    <tr>\n",
              "      <th>8</th>\n",
              "      <td>Predator</td>\n",
              "      <td>2.972</td>\n",
              "      <td>71</td>\n",
              "      <td>Rope Climb</td>\n",
              "      <td>5.13b</td>\n",
              "      <td>V11</td>\n",
              "      <td>Rumney</td>\n",
              "      <td>USA</td>\n",
              "    </tr>\n",
              "    <tr>\n",
              "      <th>9</th>\n",
              "      <td>Lubna</td>\n",
              "      <td>2.959</td>\n",
              "      <td>121</td>\n",
              "      <td>Rope Climb</td>\n",
              "      <td>5.12b</td>\n",
              "      <td>V8</td>\n",
              "      <td>Finale</td>\n",
              "      <td>ITA</td>\n",
              "    </tr>\n",
              "    <tr>\n",
              "      <th>10</th>\n",
              "      <td>Karma</td>\n",
              "      <td>2.971</td>\n",
              "      <td>69</td>\n",
              "      <td>Bouldering</td>\n",
              "      <td>5.13c</td>\n",
              "      <td>V12</td>\n",
              "      <td>Fontainebleau</td>\n",
              "      <td>FRA</td>\n",
              "    </tr>\n",
              "  </tbody>\n",
              "</table>\n",
              "</div>"
            ],
            "text/plain": [
              "              route  avg_rating  ...           crag country\n",
              "1   Schonheitsregen       2.943  ...      Zillertal     AUT\n",
              "2          Aegialis       2.947  ...       Kalymnos     GRC\n",
              "3      Checkerboard       2.972  ...         Bishop     USA\n",
              "4          Aegialis       2.947  ...       Kalymnos     GRC\n",
              "5          Aegialis       2.947  ...       Kalymnos     GRC\n",
              "6           Geminis       2.963  ...       Rodellar     ESP\n",
              "7        Shosholoza       2.974  ...      Rocklands     ZAF\n",
              "8          Predator       2.972  ...         Rumney     USA\n",
              "9             Lubna       2.959  ...         Finale     ITA\n",
              "10            Karma       2.971  ...  Fontainebleau     FRA\n",
              "\n",
              "[10 rows x 8 columns]"
            ]
          },
          "metadata": {
            "tags": []
          },
          "execution_count": 5
        }
      ]
    },
    {
      "cell_type": "markdown",
      "metadata": {
        "id": "dLt8LL8_V0Ar",
        "colab_type": "text"
      },
      "source": [
        "##*Time to get outside and start climbing!*"
      ]
    },
    {
      "cell_type": "code",
      "metadata": {
        "id": "X_n0f1ltb02y",
        "colab_type": "code",
        "colab": {}
      },
      "source": [
        ""
      ],
      "execution_count": 0,
      "outputs": []
    }
  ]
}