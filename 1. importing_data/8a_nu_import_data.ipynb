{
  "nbformat": 4,
  "nbformat_minor": 0,
  "metadata": {
    "colab": {
      "name": "8a_nu_import_data.ipynb",
      "version": "0.3.2",
      "provenance": [],
      "toc_visible": true,
      "include_colab_link": true
    },
    "kernelspec": {
      "name": "python3",
      "display_name": "Python 3"
    },
    "accelerator": "GPU"
  },
  "cells": [
    {
      "cell_type": "markdown",
      "metadata": {
        "id": "view-in-github",
        "colab_type": "text"
      },
      "source": [
        "<a href=\"https://colab.research.google.com/github/Colley-K/capstone_projects/blob/master/8a_nu_import_data.ipynb\" target=\"_parent\"><img src=\"https://colab.research.google.com/assets/colab-badge.svg\" alt=\"Open In Colab\"/></a>"
      ]
    },
    {
      "cell_type": "markdown",
      "metadata": {
        "id": "a2ToXKkUJBxn",
        "colab_type": "text"
      },
      "source": [
        "#Uploading the Kaggle Data Set: 8a.nu\n",
        "\n",
        "Step 1: install Kaggle API\n",
        "\n",
        "Step 2: upload sqlite database from Kaggle API\n",
        "\n",
        "Step 3: transform SQLite to Pandas DF\n",
        "\n",
        "Step 4: Export Pandas DF as CSV to Google Drive"
      ]
    },
    {
      "cell_type": "markdown",
      "metadata": {
        "id": "8T1mOuRcJ5ND",
        "colab_type": "text"
      },
      "source": [
        "##Step 1: Install Kaggle API"
      ]
    },
    {
      "cell_type": "code",
      "metadata": {
        "id": "u3PZschskTuV",
        "colab_type": "code",
        "outputId": "e8caa0a3-aaf9-4775-85ed-9f9542763079",
        "colab": {
          "base_uri": "https://localhost:8080/",
          "height": 306
        }
      },
      "source": [
        "#get a fast operator system\n",
        "!nvidia-smi"
      ],
      "execution_count": 0,
      "outputs": [
        {
          "output_type": "stream",
          "text": [
            "Tue May 21 20:52:16 2019       \n",
            "+-----------------------------------------------------------------------------+\n",
            "| NVIDIA-SMI 418.67       Driver Version: 410.79       CUDA Version: 10.0     |\n",
            "|-------------------------------+----------------------+----------------------+\n",
            "| GPU  Name        Persistence-M| Bus-Id        Disp.A | Volatile Uncorr. ECC |\n",
            "| Fan  Temp  Perf  Pwr:Usage/Cap|         Memory-Usage | GPU-Util  Compute M. |\n",
            "|===============================+======================+======================|\n",
            "|   0  Tesla K80           Off  | 00000000:00:04.0 Off |                    0 |\n",
            "| N/A   29C    P8    25W / 149W |      0MiB / 11441MiB |      0%      Default |\n",
            "+-------------------------------+----------------------+----------------------+\n",
            "                                                                               \n",
            "+-----------------------------------------------------------------------------+\n",
            "| Processes:                                                       GPU Memory |\n",
            "|  GPU       PID   Type   Process name                             Usage      |\n",
            "|=============================================================================|\n",
            "|  No running processes found                                                 |\n",
            "+-----------------------------------------------------------------------------+\n"
          ],
          "name": "stdout"
        }
      ]
    },
    {
      "cell_type": "code",
      "metadata": {
        "id": "q1DHX40bkblH",
        "colab_type": "code",
        "outputId": "af168371-e103-4e78-d4d7-46023d070cc7",
        "colab": {
          "base_uri": "https://localhost:8080/",
          "height": 224
        }
      },
      "source": [
        "!pip install kaggle"
      ],
      "execution_count": 0,
      "outputs": [
        {
          "output_type": "stream",
          "text": [
            "Requirement already satisfied: kaggle in /usr/local/lib/python3.6/dist-packages (1.5.3)\n",
            "Requirement already satisfied: requests in /usr/local/lib/python3.6/dist-packages (from kaggle) (2.21.0)\n",
            "Requirement already satisfied: urllib3<1.25,>=1.21.1 in /usr/local/lib/python3.6/dist-packages (from kaggle) (1.24.3)\n",
            "Requirement already satisfied: six>=1.10 in /usr/local/lib/python3.6/dist-packages (from kaggle) (1.12.0)\n",
            "Requirement already satisfied: tqdm in /usr/local/lib/python3.6/dist-packages (from kaggle) (4.28.1)\n",
            "Requirement already satisfied: python-dateutil in /usr/local/lib/python3.6/dist-packages (from kaggle) (2.5.3)\n",
            "Requirement already satisfied: certifi in /usr/local/lib/python3.6/dist-packages (from kaggle) (2019.3.9)\n",
            "Requirement already satisfied: python-slugify in /usr/local/lib/python3.6/dist-packages (from kaggle) (3.0.2)\n",
            "Requirement already satisfied: chardet<3.1.0,>=3.0.2 in /usr/local/lib/python3.6/dist-packages (from requests->kaggle) (3.0.4)\n",
            "Requirement already satisfied: idna<2.9,>=2.5 in /usr/local/lib/python3.6/dist-packages (from requests->kaggle) (2.8)\n",
            "Requirement already satisfied: text-unidecode==1.2 in /usr/local/lib/python3.6/dist-packages (from python-slugify->kaggle) (1.2)\n"
          ],
          "name": "stdout"
        }
      ]
    },
    {
      "cell_type": "code",
      "metadata": {
        "id": "Sohp_95rnAHm",
        "colab_type": "code",
        "outputId": "55fbc7b8-68e2-4bc1-c226-59967f85cd62",
        "colab": {
          "base_uri": "https://localhost:8080/",
          "height": 34
        }
      },
      "source": [
        "#make a kaggle directory (if you havent already made one)\n",
        "!mkdir .kaggle"
      ],
      "execution_count": 0,
      "outputs": [
        {
          "output_type": "stream",
          "text": [
            "mkdir: cannot create directory ‘.kaggle’: File exists\n"
          ],
          "name": "stdout"
        }
      ]
    },
    {
      "cell_type": "code",
      "metadata": {
        "id": "v9uPV2sGkyxR",
        "colab_type": "code",
        "colab": {}
      },
      "source": [
        "#read the JSON token\n",
        "import json\n",
        "token = {\"username\":\"colle466\",\"key\":\"8d77cfa6d0a802eb54a32e22248c8b35\"}\n",
        "with open('/content/.kaggle/kaggle.json', 'w') as file:\n",
        "    json.dump(token, file)"
      ],
      "execution_count": 0,
      "outputs": []
    },
    {
      "cell_type": "code",
      "metadata": {
        "id": "xuJO0wxmk7nK",
        "colab_type": "code",
        "colab": {}
      },
      "source": [
        "#Copy the file into the kaggle folder\n",
        "!cp /content/.kaggle/kaggle.json ~/.kaggle/kaggle.json"
      ],
      "execution_count": 0,
      "outputs": []
    },
    {
      "cell_type": "code",
      "metadata": {
        "id": "NtDqOUyAm2o5",
        "colab_type": "code",
        "outputId": "c6c12bda-163b-451b-f29c-c41afa368d3e",
        "colab": {
          "base_uri": "https://localhost:8080/",
          "height": 71
        }
      },
      "source": [
        "#set the path to kaggle\n",
        "!kaggle config set -n path -v{/content}"
      ],
      "execution_count": 0,
      "outputs": [
        {
          "output_type": "stream",
          "text": [
            "Warning: Your Kaggle API key is readable by other users on this system! To fix this, you can run 'chmod 600 /root/.kaggle/kaggle.json'\n",
            "- path is now set to: {/content}\n"
          ],
          "name": "stdout"
        }
      ]
    },
    {
      "cell_type": "code",
      "metadata": {
        "id": "JrHbJyxHm3U_",
        "colab_type": "code",
        "colab": {}
      },
      "source": [
        "#make your imformation isnt public\n",
        "!chmod 600 /root/.kaggle/kaggle.json"
      ],
      "execution_count": 0,
      "outputs": []
    },
    {
      "cell_type": "markdown",
      "metadata": {
        "id": "o7-e1rtvKBk3",
        "colab_type": "text"
      },
      "source": [
        "##Step 2: Upload Dataset in SQLite form"
      ]
    },
    {
      "cell_type": "code",
      "metadata": {
        "id": "JqG1ndrPlHve",
        "colab_type": "code",
        "outputId": "8a676e3f-d35e-4ab1-83f7-04bd387bbc9e",
        "colab": {
          "base_uri": "https://localhost:8080/",
          "height": 411
        }
      },
      "source": [
        "#list all the top data sets\n",
        "!kaggle datasets list -s sentiment\n"
      ],
      "execution_count": 0,
      "outputs": [
        {
          "output_type": "stream",
          "text": [
            "ref                                               title                                          size  lastUpdated          downloadCount  \n",
            "------------------------------------------------  --------------------------------------------  -----  -------------------  -------------  \n",
            "harriken/emoji-sentiment                          Emoji sentiment                                13MB  2017-10-01 09:56:54           1878  \n",
            "crowdflower/twitter-airline-sentiment             Twitter US Airline Sentiment                    3MB  2016-10-06 03:11:23          24505  \n",
            "ywang311/twitter-sentiment                        twitter_sentiment                              56MB  2017-11-30 00:04:34            486  \n",
            "kazanova/sentiment140                             Sentiment140 dataset with 1.6 million tweets   84MB  2017-09-13 22:43:19          10589  \n",
            "welkin10/airline-sentiment                        Airline sentiment                               1MB  2018-05-27 07:23:18            226  \n",
            "thomasseleck/emoji-sentiment-data                 Emoji sentiment data                           33KB  2019-03-01 22:41:15             48  \n",
            "rabinandan/twitter-sentiment                      twitter_sentiment                             577KB  2018-02-08 16:47:16            439  \n",
            "crowdflower/first-gop-debate-twitter-sentiment    First GOP Debate Twitter Sentiment              3MB  2016-10-06 03:19:29          10978  \n",
            "rtatman/sentiment-lexicons-for-81-languages       Sentiment Lexicons for 81 Languages           785KB  2017-09-13 19:59:05           3031  \n",
            "rtatman/german-sentiment-analysis-toolkit         German Sentiment Analysis Toolkit              85KB  2017-08-15 22:54:27            520  \n",
            "marklvl/sentiment-labelled-sentences-data-set     Sentiment Labelled Sentences Data Set         162KB  2018-04-24 21:20:20           1721  \n",
            "rtatman/thai-sentiment-analysis-toolkit           Thai Sentiment Analysis Toolkit                 8KB  2017-09-06 20:32:55            405  \n",
            "fandanabil97/sentiment                            sentiment                                       1MB  2018-12-12 15:58:43             17  \n",
            "iarunava/imdb-movie-reviews-dataset               IMDB Movie Reviews Dataset                    114MB  2018-07-25 08:11:18           3936  \n",
            "bharath5673/sentiment-analysis                    sentiment analysis                             16MB  2018-08-07 08:43:18             93  \n",
            "tango911/airline-sentiment-tweets                 Airline sentiment tweets                      227KB  2018-07-12 06:53:27            140  \n",
            "harriken/bias-media-cat                           Bias Media CAT                                 18MB  2017-10-27 22:46:25            247  \n",
            "tentotheminus9/religious-and-philosophical-texts  Religious and philosophical texts               3MB  2016-09-07 12:36:01           1537  \n",
            "paul92s/bitcoin-tweets-14m                        Bitcoin Tweets 1.4M                           103MB  2018-08-04 15:47:51            140  \n",
            "yuhaowang/moviesentimentanalysis                  movie-sentiment-analysis                       52MB  2017-11-19 19:55:08            181  \n"
          ],
          "name": "stdout"
        }
      ]
    },
    {
      "cell_type": "code",
      "metadata": {
        "id": "DxO-j6AZlQdF",
        "colab_type": "code",
        "outputId": "1cf233d8-4af4-404c-bb38-9600fe0d0771",
        "colab": {
          "base_uri": "https://localhost:8080/",
          "height": 105
        }
      },
      "source": [
        "#search for a specific data set (enter any keyword after -s and it will return all databases with that in their info\n",
        "!kaggle datasets list -s 8a"
      ],
      "execution_count": 0,
      "outputs": [
        {
          "output_type": "stream",
          "text": [
            "ref                             title                                      size  lastUpdated          downloadCount  \n",
            "------------------------------  ----------------------------------------  -----  -------------------  -------------  \n",
            "dcohen21/8anu-climbing-logbook  8a.nu Climbing Logbook                    196MB  2018-03-22 15:44:54            566  \n",
            "fedebayle/slums-argentina       Slums and informal settlements detection  323MB  2017-07-13 01:27:43            163  \n"
          ],
          "name": "stdout"
        }
      ]
    },
    {
      "cell_type": "code",
      "metadata": {
        "id": "IbJOAqU3lmE1",
        "colab_type": "code",
        "outputId": "41086175-79c7-4491-ec96-02a70210f9af",
        "colab": {
          "base_uri": "https://localhost:8080/",
          "height": 68
        }
      },
      "source": [
        "#go to kaggle website and beside the download button there is a drop down that says copy API. copy it and then paste into here and insert an ! in the beggining and -p /content on the end\n",
        "!kaggle datasets download -d dcohen21/8anu-climbing-logbook -p /content"
      ],
      "execution_count": 0,
      "outputs": [
        {
          "output_type": "stream",
          "text": [
            "Downloading 8anu-climbing-logbook.zip to /content\n",
            " 99% 193M/196M [00:06<00:00, 40.7MB/s]\n",
            "100% 196M/196M [00:06<00:00, 32.7MB/s]\n"
          ],
          "name": "stdout"
        }
      ]
    },
    {
      "cell_type": "code",
      "metadata": {
        "id": "xehNrViKoNW8",
        "colab_type": "code",
        "outputId": "2faf2238-c4f7-46f8-8f6e-c754d3ca33d3",
        "colab": {
          "base_uri": "https://localhost:8080/",
          "height": 68
        }
      },
      "source": [
        "#unzip your file\n",
        "!unzip \\*.zip"
      ],
      "execution_count": 0,
      "outputs": [
        {
          "output_type": "stream",
          "text": [
            "Archive:  8anu-climbing-logbook.zip\n",
            "replace database.sqlite? [y]es, [n]o, [A]ll, [N]one, [r]ename: y\n",
            "  inflating: database.sqlite         \n"
          ],
          "name": "stdout"
        }
      ]
    },
    {
      "cell_type": "markdown",
      "metadata": {
        "id": "L1nvYgFVKHP3",
        "colab_type": "text"
      },
      "source": [
        "##Step 3: Transform SQLite to Pandas DF"
      ]
    },
    {
      "cell_type": "code",
      "metadata": {
        "id": "SqAyxTUkoQAR",
        "colab_type": "code",
        "colab": {}
      },
      "source": [
        "#turning the tables into df's\n",
        "\n",
        "import pandas as pd\n",
        "import sqlite3\n",
        "conn = sqlite3.connect(\"database.sqlite\")\n",
        "ascent = pd.read_sql_query(\"select * from ascent;\", conn)\n",
        "method = pd.read_sql_query(\"select * from method;\", conn)\n",
        "grade= pd.read_sql_query(\"select * from grade;\", conn)\n",
        "user = pd.read_sql_query(\"select * from user;\", conn)\n"
      ],
      "execution_count": 0,
      "outputs": []
    },
    {
      "cell_type": "code",
      "metadata": {
        "id": "ByG3dIqS20nt",
        "colab_type": "code",
        "outputId": "7452cc4d-0ec3-4f4f-e177-f5033f3f0edb",
        "colab": {
          "base_uri": "https://localhost:8080/",
          "height": 119
        }
      },
      "source": [
        "#looking at the table\n",
        "ascent.columns"
      ],
      "execution_count": 0,
      "outputs": [
        {
          "output_type": "execute_result",
          "data": {
            "text/plain": [
              "Index(['id', 'user_id', 'grade_id', 'notes', 'raw_notes', 'method_id',\n",
              "       'climb_type', 'total_score', 'date', 'year', 'last_year', 'rec_date',\n",
              "       'project_ascent_date', 'name', 'crag_id', 'crag', 'sector_id', 'sector',\n",
              "       'country', 'comment', 'rating', 'description', 'yellow_id', 'climb_try',\n",
              "       'repeat', 'exclude_from_ranking', 'user_recommended', 'chipped'],\n",
              "      dtype='object')"
            ]
          },
          "metadata": {
            "tags": []
          },
          "execution_count": 24
        }
      ]
    },
    {
      "cell_type": "code",
      "metadata": {
        "id": "lW_qAa9y3Ex6",
        "colab_type": "code",
        "outputId": "42e11954-84d7-4aa6-d251-47b855e44b5e",
        "colab": {
          "base_uri": "https://localhost:8080/",
          "height": 102
        }
      },
      "source": [
        "user.columns\n"
      ],
      "execution_count": 0,
      "outputs": [
        {
          "output_type": "execute_result",
          "data": {
            "text/plain": [
              "Index(['id', 'first_name', 'last_name', 'city', 'country', 'sex', 'height',\n",
              "       'weight', 'started', 'competitions', 'occupation', 'sponsor1',\n",
              "       'sponsor2', 'sponsor3', 'best_area', 'worst_area', 'guide_area',\n",
              "       'interests', 'birth', 'presentation', 'deactivated', 'anonymous'],\n",
              "      dtype='object')"
            ]
          },
          "metadata": {
            "tags": []
          },
          "execution_count": 25
        }
      ]
    },
    {
      "cell_type": "markdown",
      "metadata": {
        "id": "oJ_Gsn8rKSfo",
        "colab_type": "text"
      },
      "source": [
        "##Step 4: Export Pandas DF as CSV to Google Drive"
      ]
    },
    {
      "cell_type": "code",
      "metadata": {
        "id": "tmyP8Rk13G92",
        "colab_type": "code",
        "outputId": "8b7e1962-50ae-4fe0-a1be-ffe5d132f3f7",
        "colab": {
          "base_uri": "https://localhost:8080/",
          "height": 54
        }
      },
      "source": [
        "#mount your google drive\n",
        "from google.colab import drive\n",
        "drive.mount('/content/drive')"
      ],
      "execution_count": 0,
      "outputs": [
        {
          "output_type": "stream",
          "text": [
            "Drive already mounted at /content/drive; to attempt to forcibly remount, call drive.mount(\"/content/drive\", force_remount=True).\n"
          ],
          "name": "stdout"
        }
      ]
    },
    {
      "cell_type": "code",
      "metadata": {
        "id": "V8n4yBaXH6gm",
        "colab_type": "code",
        "outputId": "c2962796-73c4-4093-9c76-701dfd64aba1",
        "colab": {
          "base_uri": "https://localhost:8080/",
          "height": 34
        }
      },
      "source": [
        "#work with current directories:\n",
        "import os \n",
        "os.getcwd() \n"
      ],
      "execution_count": 0,
      "outputs": [
        {
          "output_type": "execute_result",
          "data": {
            "text/plain": [
              "'/content'"
            ]
          },
          "metadata": {
            "tags": []
          },
          "execution_count": 27
        }
      ]
    },
    {
      "cell_type": "code",
      "metadata": {
        "id": "C1AwkfSDS_sp",
        "colab_type": "code",
        "outputId": "4dd85013-7e57-4645-d326-740ed57e974a",
        "colab": {
          "base_uri": "https://localhost:8080/",
          "height": 119
        }
      },
      "source": [
        "!ls \"/content/drive/My Drive\""
      ],
      "execution_count": 0,
      "outputs": [
        {
          "output_type": "stream",
          "text": [
            "'Adventure Pictures'   'Google Photos'\n",
            "'Adventure Planning'    Life_stuffs\n",
            " Capstone\t       'Recommendation systems Notes.gdoc'\n",
            " Career\t\t       'Springboard Assignments'\n",
            "'Colab Notebooks'       Taxes\n",
            "'Data Wrangling.gdoc'\n"
          ],
          "name": "stdout"
        }
      ]
    },
    {
      "cell_type": "code",
      "metadata": {
        "id": "SukqkkPcTK0q",
        "colab_type": "code",
        "colab": {}
      },
      "source": [
        "!mv database.sqlite \"/content/drive/My Drive/Capstone\""
      ],
      "execution_count": 0,
      "outputs": []
    },
    {
      "cell_type": "code",
      "metadata": {
        "id": "0BhPF3cSDvYk",
        "colab_type": "code",
        "colab": {}
      },
      "source": [
        "#saving CSV files to my google drive so I wont have to run this everytime\n",
        "ascent.to_csv( \"/content/drive/My Drive/Capstone/ascent.csv\", encoding='utf-8', index=False)"
      ],
      "execution_count": 0,
      "outputs": []
    },
    {
      "cell_type": "code",
      "metadata": {
        "id": "n6uD8qqZLENF",
        "colab_type": "code",
        "colab": {}
      },
      "source": [
        "user.to_csv( \"/content/drive/My Drive/Capstone/user.csv\", encoding='utf-8', index=False)\n",
        "grade.to_csv( \"/content/drive/My Drive/Capstone/grade.csv\", encoding='utf-8', index=False)\n",
        "method.to_csv( \"/content/drive/My Drive/Capstone/method.csv\", encoding='utf-8', index=False)"
      ],
      "execution_count": 0,
      "outputs": []
    },
    {
      "cell_type": "code",
      "metadata": {
        "id": "A98ZWWPER0t1",
        "colab_type": "code",
        "colab": {}
      },
      "source": [
        "!rm \"/content/drive/My Drive/Capstone/8anu-climbing-logbook.zip.crdownload\""
      ],
      "execution_count": 0,
      "outputs": []
    },
    {
      "cell_type": "code",
      "metadata": {
        "id": "9TM7Fp1QSSvi",
        "colab_type": "code",
        "colab": {}
      },
      "source": [
        "!mkdir \"/content/drive/My Drive/Capstone/data\"\n"
      ],
      "execution_count": 0,
      "outputs": []
    },
    {
      "cell_type": "code",
      "metadata": {
        "id": "NF54Tk1-SlXs",
        "colab_type": "code",
        "colab": {}
      },
      "source": [
        "!mv ascent.csv \"/content/drive/My Drive/Capstone/data\""
      ],
      "execution_count": 0,
      "outputs": []
    },
    {
      "cell_type": "code",
      "metadata": {
        "id": "0xIHCCOKSwa4",
        "colab_type": "code",
        "colab": {}
      },
      "source": [
        "!mv \"/content/drive/My Drive/Capstone/ascent.csv\" \"/content/drive/My Drive/Capstone/data\""
      ],
      "execution_count": 0,
      "outputs": []
    },
    {
      "cell_type": "code",
      "metadata": {
        "id": "S23npL40S_A5",
        "colab_type": "code",
        "colab": {}
      },
      "source": [
        "!mv \"/content/drive/My Drive/Capstone/grade.csv\" \"/content/drive/My Drive/Capstone/data\""
      ],
      "execution_count": 0,
      "outputs": []
    },
    {
      "cell_type": "code",
      "metadata": {
        "id": "31nm5ZuDTFh6",
        "colab_type": "code",
        "colab": {}
      },
      "source": [
        "!mv \"/content/drive/My Drive/Capstone/user.csv\" \"/content/drive/My Drive/Capstone/data\""
      ],
      "execution_count": 0,
      "outputs": []
    },
    {
      "cell_type": "code",
      "metadata": {
        "id": "mLgML_czTJqG",
        "colab_type": "code",
        "colab": {}
      },
      "source": [
        "!mv \"/content/drive/My Drive/Capstone/method.csv\" \"/content/drive/My Drive/Capstone/data\""
      ],
      "execution_count": 0,
      "outputs": []
    },
    {
      "cell_type": "code",
      "metadata": {
        "id": "FbCw5ojfTPUb",
        "colab_type": "code",
        "colab": {}
      },
      "source": [
        "!mv \"/content/drive/My Drive/Capstone/database.sqlite\" \"/content/drive/My Drive/Capstone/data\""
      ],
      "execution_count": 0,
      "outputs": []
    },
    {
      "cell_type": "code",
      "metadata": {
        "id": "CczumVhgTUaW",
        "colab_type": "code",
        "colab": {}
      },
      "source": [
        "!mv \"/content/drive/My Drive/Capstone/database.sqlite\" \"content/drive/My Drive/Capstone/8anu-climbing-logbook.zip\""
      ],
      "execution_count": 0,
      "outputs": []
    },
    {
      "cell_type": "code",
      "metadata": {
        "id": "38RemgU3TbFY",
        "colab_type": "code",
        "colab": {}
      },
      "source": [
        "!mv \"/content/drive/My Drive/Capstone/8anu-climbing-logbook.zip\"  \"content/drive/My Drive/Capstone/data\""
      ],
      "execution_count": 0,
      "outputs": []
    },
    {
      "cell_type": "code",
      "metadata": {
        "id": "KxJJI-yHThKw",
        "colab_type": "code",
        "colab": {}
      },
      "source": [
        "!mv \"/content/drive/My Drive/Capstone/8anu-climbing-logbook.zip\" \"/content/drive/My Drive/Capstone/data\""
      ],
      "execution_count": 0,
      "outputs": []
    },
    {
      "cell_type": "code",
      "metadata": {
        "id": "_1T_is2ZTyOj",
        "colab_type": "code",
        "colab": {}
      },
      "source": [
        ""
      ],
      "execution_count": 0,
      "outputs": []
    }
  ]
}
