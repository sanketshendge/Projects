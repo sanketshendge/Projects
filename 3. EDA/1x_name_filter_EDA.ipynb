{
  "nbformat": 4,
  "nbformat_minor": 0,
  "metadata": {
    "colab": {
      "name": "1x_name_filter_EDA.ipynb",
      "version": "0.3.2",
      "provenance": [],
      "include_colab_link": true
    },
    "kernelspec": {
      "name": "python3",
      "display_name": "Python 3"
    },
    "accelerator": "GPU"
  },
  "cells": [
    {
      "cell_type": "markdown",
      "metadata": {
        "id": "view-in-github",
        "colab_type": "text"
      },
      "source": [
        "<a href=\"https://colab.research.google.com/github/Colley-K/capstone_projects/blob/master/1x_name_filter_EDA.ipynb\" target=\"_parent\"><img src=\"https://colab.research.google.com/assets/colab-badge.svg\" alt=\"Open In Colab\"/></a>"
      ]
    },
    {
      "cell_type": "markdown",
      "metadata": {
        "id": "k5N0fqY5072A",
        "colab_type": "text"
      },
      "source": [
        "# 1x Name Filter EDA Report \n",
        "* This notebook is not the original EDA report, but rather a variation of the full report\n",
        "* Click [here](https://colab.research.google.com/drive/14AKVsyXy7yJSxBjmEBFyz7kEX7e9ioM_) for the full EDA report\n",
        "\n",
        "**Purpose**\n",
        "* The purpose of this notebook is to try out a less aggressive cleaning variation where names that occur 1 time are filtered out\n",
        ">* In contrast to the original notebook, I filtered out names that occured less than ten times to catch spelling errors\n",
        "* This notebook will be inherently noisier, but will be great to test out on the suprise library\n",
        "* We can compare this EDA with the original  to see what this nosier data looks like\n",
        ">\n",
        "\n",
        "\n",
        "**In this notebook, I will explore:**\n",
        "\n",
        "* the distribution of ratings\n",
        "* the number of ratings each user gave on average\n",
        "* the number of ratings per route\n",
        "\n",
        "\n"
      ]
    },
    {
      "cell_type": "markdown",
      "metadata": {
        "id": "q5Qox_I-HjQJ",
        "colab_type": "text"
      },
      "source": [
        "##Cleaning Report\n",
        "\n",
        "**Note:** This data was previously normalized and cleaned in the data cleaning report which you can view [here](https://colab.research.google.com/drive/19sAidEVHV7NeCkX10v1qDKPV8SXDqd5M)"
      ]
    },
    {
      "cell_type": "markdown",
      "metadata": {
        "id": "NMTej-94HRja",
        "colab_type": "text"
      },
      "source": [
        "##The Initial Set Up:"
      ]
    },
    {
      "cell_type": "code",
      "metadata": {
        "id": "8z3RWadNHOq3",
        "colab_type": "code",
        "outputId": "fe20733c-61b4-4d26-e135-5a06cf01b3d2",
        "colab": {
          "base_uri": "https://localhost:8080/",
          "height": 442
        }
      },
      "source": [
        "#Colab stuffs:\n",
        "\n",
        "#get a fast operator system\n",
        "!nvidia-smi\n",
        "\n",
        "#mount google drive\n",
        "from google.colab import drive\n",
        "drive.mount('/content/drive')#click on the link it provides and copy and paste that code into the authorization area\n",
        "!ls \"/content/drive/My Drive\" #shows whats in your drive once its mounted\n",
        "\n",
        "#access the OS system to work with current directories:\n",
        "import os \n",
        "os.getcwd() "
      ],
      "execution_count": 1,
      "outputs": [
        {
          "output_type": "stream",
          "text": [
            "Sat May 25 20:08:06 2019       \n",
            "+-----------------------------------------------------------------------------+\n",
            "| NVIDIA-SMI 418.67       Driver Version: 410.79       CUDA Version: 10.0     |\n",
            "|-------------------------------+----------------------+----------------------+\n",
            "| GPU  Name        Persistence-M| Bus-Id        Disp.A | Volatile Uncorr. ECC |\n",
            "| Fan  Temp  Perf  Pwr:Usage/Cap|         Memory-Usage | GPU-Util  Compute M. |\n",
            "|===============================+======================+======================|\n",
            "|   0  Tesla T4            Off  | 00000000:00:04.0 Off |                    0 |\n",
            "| N/A   41C    P8    15W /  70W |      0MiB / 15079MiB |      0%      Default |\n",
            "+-------------------------------+----------------------+----------------------+\n",
            "                                                                               \n",
            "+-----------------------------------------------------------------------------+\n",
            "| Processes:                                                       GPU Memory |\n",
            "|  GPU       PID   Type   Process name                             Usage      |\n",
            "|=============================================================================|\n",
            "|  No running processes found                                                 |\n",
            "+-----------------------------------------------------------------------------+\n",
            "Drive already mounted at /content/drive; to attempt to forcibly remount, call drive.mount(\"/content/drive\", force_remount=True).\n",
            "'Adventure Pictures'   'Google Photos'\n",
            "'Adventure Planning'    Life_stuffs\n",
            " Capstone\t       'Recommendation systems Notes.gdoc'\n",
            " Career\t\t       'Springboard Assignments'\n",
            "'Colab Notebooks'       Taxes\n",
            "'Data Wrangling.gdoc'\n"
          ],
          "name": "stdout"
        },
        {
          "output_type": "execute_result",
          "data": {
            "text/plain": [
              "'/content'"
            ]
          },
          "metadata": {
            "tags": []
          },
          "execution_count": 1
        }
      ]
    },
    {
      "cell_type": "code",
      "metadata": {
        "id": "Zpc9tQMGHVff",
        "colab_type": "code",
        "colab": {}
      },
      "source": [
        "#imports\n",
        "import numpy as np \n",
        "import pandas as pd \n",
        "import matplotlib.pyplot as plt\n",
        "import seaborn as sns\n",
        "import matplotlib\n",
        "import hashlib\n",
        "import base64\n",
        "\n",
        "\n",
        "#reconfigure default settings\n",
        "sns.set_palette(sns.color_palette(\"hls\", 8))\n",
        "matplotlib.rc('figure', figsize = (20, 8))\n",
        "matplotlib.rc('font', size = 14)\n",
        "matplotlib.rc('axes.spines', top = False, right = False)\n",
        "matplotlib.rc('axes', grid = False)\n",
        "matplotlib.rc('axes', facecolor = 'white')"
      ],
      "execution_count": 0,
      "outputs": []
    },
    {
      "cell_type": "markdown",
      "metadata": {
        "id": "80BT54S5P7dv",
        "colab_type": "text"
      },
      "source": [
        "##Importing CSV"
      ]
    },
    {
      "cell_type": "code",
      "metadata": {
        "id": "1k1sU3i6H-44",
        "colab_type": "code",
        "outputId": "7df6608b-5fba-4132-8aef-a5818065d339",
        "colab": {
          "base_uri": "https://localhost:8080/",
          "height": 170
        }
      },
      "source": [
        "#Turn the CSV files into data frames\n",
        "\n",
        "ascent_1x = pd.read_csv('drive/My Drive/Capstone/data/ascent_1x.csv', low_memory=False) \n",
        "\n",
        "#view the table\n",
        "ascent_1x.info()\n"
      ],
      "execution_count": 3,
      "outputs": [
        {
          "output_type": "stream",
          "text": [
            "<class 'pandas.core.frame.DataFrame'>\n",
            "RangeIndex: 1733355 entries, 0 to 1733354\n",
            "Data columns (total 4 columns):\n",
            "Unnamed: 0    int64\n",
            "user_id       int64\n",
            "name_id       object\n",
            "rating        int64\n",
            "dtypes: int64(3), object(1)\n",
            "memory usage: 52.9+ MB\n"
          ],
          "name": "stdout"
        }
      ]
    },
    {
      "cell_type": "code",
      "metadata": {
        "id": "D4nRIBy4IKte",
        "colab_type": "code",
        "outputId": "a8b4cbec-4bc2-4eb4-8ade-4b8921289d9c",
        "colab": {
          "base_uri": "https://localhost:8080/",
          "height": 204
        }
      },
      "source": [
        "ascent_1x.head()"
      ],
      "execution_count": 4,
      "outputs": [
        {
          "output_type": "execute_result",
          "data": {
            "text/html": [
              "<div>\n",
              "<style scoped>\n",
              "    .dataframe tbody tr th:only-of-type {\n",
              "        vertical-align: middle;\n",
              "    }\n",
              "\n",
              "    .dataframe tbody tr th {\n",
              "        vertical-align: top;\n",
              "    }\n",
              "\n",
              "    .dataframe thead th {\n",
              "        text-align: right;\n",
              "    }\n",
              "</style>\n",
              "<table border=\"1\" class=\"dataframe\">\n",
              "  <thead>\n",
              "    <tr style=\"text-align: right;\">\n",
              "      <th></th>\n",
              "      <th>Unnamed: 0</th>\n",
              "      <th>user_id</th>\n",
              "      <th>name_id</th>\n",
              "      <th>rating</th>\n",
              "    </tr>\n",
              "  </thead>\n",
              "  <tbody>\n",
              "    <tr>\n",
              "      <th>0</th>\n",
              "      <td>98</td>\n",
              "      <td>1</td>\n",
              "      <td>b'ZSMH44nTRn2bAJxdN+ax/iskxCg='</td>\n",
              "      <td>3</td>\n",
              "    </tr>\n",
              "    <tr>\n",
              "      <th>1</th>\n",
              "      <td>99</td>\n",
              "      <td>1</td>\n",
              "      <td>b'fPrwO1eaOn1pit2sxBtnmpsLtBY='</td>\n",
              "      <td>1</td>\n",
              "    </tr>\n",
              "    <tr>\n",
              "      <th>2</th>\n",
              "      <td>111</td>\n",
              "      <td>1</td>\n",
              "      <td>b'8XEnyhQrs5p40c0RzDSJse4v2wU='</td>\n",
              "      <td>2</td>\n",
              "    </tr>\n",
              "    <tr>\n",
              "      <th>3</th>\n",
              "      <td>123</td>\n",
              "      <td>2</td>\n",
              "      <td>b'yeRHlWOfCwHC184C6h74MDjg1HY='</td>\n",
              "      <td>2</td>\n",
              "    </tr>\n",
              "    <tr>\n",
              "      <th>4</th>\n",
              "      <td>127</td>\n",
              "      <td>1</td>\n",
              "      <td>b'SkDqB7cHDX3ooiY0TBYqH6Shfjg='</td>\n",
              "      <td>3</td>\n",
              "    </tr>\n",
              "  </tbody>\n",
              "</table>\n",
              "</div>"
            ],
            "text/plain": [
              "   Unnamed: 0  user_id                          name_id  rating\n",
              "0          98        1  b'ZSMH44nTRn2bAJxdN+ax/iskxCg='       3\n",
              "1          99        1  b'fPrwO1eaOn1pit2sxBtnmpsLtBY='       1\n",
              "2         111        1  b'8XEnyhQrs5p40c0RzDSJse4v2wU='       2\n",
              "3         123        2  b'yeRHlWOfCwHC184C6h74MDjg1HY='       2\n",
              "4         127        1  b'SkDqB7cHDX3ooiY0TBYqH6Shfjg='       3"
            ]
          },
          "metadata": {
            "tags": []
          },
          "execution_count": 4
        }
      ]
    },
    {
      "cell_type": "markdown",
      "metadata": {
        "id": "ACvyJQR8R-If",
        "colab_type": "text"
      },
      "source": [
        "#Ratings Distribution\n",
        "\n",
        "In order for this recomendation system to be successful, there needs to be a good distribution of ratings. The distribution of ratings below looks sufficient for a recommendaiton system:\n",
        "\n",
        "\n",
        "\n",
        "*   49% of the rock climbing routes are given the highest rating (\"3\")\n",
        "*   36.5% are given the intermediate rating (\"2\")\n",
        "* 14% of rock climbing routes are given the lowest rating (\"1\")\n",
        "\n",
        "\n",
        "Even though the lowest rating is a smaller proportion than the highest rating, this is normal that a negative response will be in the minority.\n",
        "\n",
        "\n"
      ]
    },
    {
      "cell_type": "code",
      "metadata": {
        "id": "QXC164S0UtJj",
        "colab_type": "code",
        "outputId": "e616cfbc-9035-46ca-eb9e-ffbbbaa60b7b",
        "colab": {
          "base_uri": "https://localhost:8080/",
          "height": 85
        }
      },
      "source": [
        "ascent_1x.rating.value_counts()"
      ],
      "execution_count": 5,
      "outputs": [
        {
          "output_type": "execute_result",
          "data": {
            "text/plain": [
              "3    804885\n",
              "2    649775\n",
              "1    278695\n",
              "Name: rating, dtype: int64"
            ]
          },
          "metadata": {
            "tags": []
          },
          "execution_count": 5
        }
      ]
    },
    {
      "cell_type": "code",
      "metadata": {
        "id": "Pw5ItUkQSBUk",
        "colab_type": "code",
        "outputId": "78e2ad9e-1a12-492b-be11-de4909c25b08",
        "colab": {
          "base_uri": "https://localhost:8080/",
          "height": 170
        }
      },
      "source": [
        "#seeing the distribution of ratings\n",
        "ascent_1x.rating.describe()"
      ],
      "execution_count": 6,
      "outputs": [
        {
          "output_type": "execute_result",
          "data": {
            "text/plain": [
              "count    1.733355e+06\n",
              "mean     2.303567e+00\n",
              "std      7.300559e-01\n",
              "min      1.000000e+00\n",
              "25%      2.000000e+00\n",
              "50%      2.000000e+00\n",
              "75%      3.000000e+00\n",
              "max      3.000000e+00\n",
              "Name: rating, dtype: float64"
            ]
          },
          "metadata": {
            "tags": []
          },
          "execution_count": 6
        }
      ]
    },
    {
      "cell_type": "code",
      "metadata": {
        "id": "cOy9-O9pSPrh",
        "colab_type": "code",
        "outputId": "b261d96e-0699-4422-d9df-836601e8840e",
        "colab": {
          "base_uri": "https://localhost:8080/",
          "height": 525
        }
      },
      "source": [
        "#graphing the distribution of values\n",
        "sns.countplot(x =\"rating\", data= ascent_1x)"
      ],
      "execution_count": 7,
      "outputs": [
        {
          "output_type": "execute_result",
          "data": {
            "text/plain": [
              "<matplotlib.axes._subplots.AxesSubplot at 0x7fdbe7160b70>"
            ]
          },
          "metadata": {
            "tags": []
          },
          "execution_count": 7
        },
        {
          "output_type": "display_data",
          "data": {
            "image/png": "[encoded data removed]",
            "text/plain": [
              "<Figure size 1440x576 with 1 Axes>"
            ]
          },
          "metadata": {
            "tags": []
          }
        }
      ]
    },
    {
      "cell_type": "markdown",
      "metadata": {
        "id": "AzOQHyamUnBa",
        "colab_type": "text"
      },
      "source": [
        "#Distribution of Ratings given to each Route \n",
        "\n",
        "In order for this recomendation system to be successful, there needs to be a good distribution of ratings given to every route. "
      ]
    },
    {
      "cell_type": "markdown",
      "metadata": {
        "id": "SPsllwNk6AFN",
        "colab_type": "text"
      },
      "source": [
        "### Findings:\n",
        "* The most ratings a single route recieved was 695 ratings\n",
        "* The average number of ratings per route was 9.5\n",
        "* The mode was 2 ratings per route with a total of 57, 622routes with exactly two ratings\n",
        "* Only 364 routes have more than 200 ratings (thus this was excluded from the graph)\n",
        "\n",
        "*This is a good distrbution of ratings, and will be sufficient for the model*"
      ]
    },
    {
      "cell_type": "code",
      "metadata": {
        "id": "pK1q-7BHzjoh",
        "colab_type": "code",
        "outputId": "bf58d5cc-3fa5-4adf-bcfe-201f48bd87db",
        "colab": {
          "base_uri": "https://localhost:8080/",
          "height": 51
        }
      },
      "source": [
        "#Looking at the distribution\n",
        "\n",
        "data = ascent_1x.groupby('name_id')[['rating']].count() #grouping the route names by the number of ratings they recieved\n",
        "data.sort_values(\"rating\", ascending= False)[:50] #sorting the values of those ratings from greatest to least\n",
        "data.rating.mode() #seeing the most frequent number of ratings (10 is the most frequent number of ratings per route with 3622 routes with exactly 10 ratings)\n",
        "data[data.rating > 200].count() #seeing how many routes have more than a 200 ratings (353 routes have more than 200 ratings)\n",
        "#data.rating.describe()\n",
        "\n",
        "\n",
        "\n",
        "\n"
      ],
      "execution_count": 19,
      "outputs": [
        {
          "output_type": "execute_result",
          "data": {
            "text/plain": [
              "rating    364\n",
              "dtype: int64"
            ]
          },
          "metadata": {
            "tags": []
          },
          "execution_count": 19
        }
      ]
    },
    {
      "cell_type": "code",
      "metadata": {
        "id": "0NirlVamWbmY",
        "colab_type": "code",
        "outputId": "301bbf55-ff07-4226-c40c-bb8d8aed8232",
        "colab": {
          "base_uri": "https://localhost:8080/",
          "height": 390
        }
      },
      "source": [
        "#Top ten most frequntly rated routes\n",
        "data.sort_values(\"rating\", ascending= False)[:10]"
      ],
      "execution_count": 9,
      "outputs": [
        {
          "output_type": "execute_result",
          "data": {
            "text/html": [
              "<div>\n",
              "<style scoped>\n",
              "    .dataframe tbody tr th:only-of-type {\n",
              "        vertical-align: middle;\n",
              "    }\n",
              "\n",
              "    .dataframe tbody tr th {\n",
              "        vertical-align: top;\n",
              "    }\n",
              "\n",
              "    .dataframe thead th {\n",
              "        text-align: right;\n",
              "    }\n",
              "</style>\n",
              "<table border=\"1\" class=\"dataframe\">\n",
              "  <thead>\n",
              "    <tr style=\"text-align: right;\">\n",
              "      <th></th>\n",
              "      <th>rating</th>\n",
              "    </tr>\n",
              "    <tr>\n",
              "      <th>name_id</th>\n",
              "      <th></th>\n",
              "    </tr>\n",
              "  </thead>\n",
              "  <tbody>\n",
              "    <tr>\n",
              "      <th>b'Fy8k/SqQP8Bke2HXES7huYFHAr4='</th>\n",
              "      <td>695</td>\n",
              "    </tr>\n",
              "    <tr>\n",
              "      <th>b'+Vc6WW3pC5m88H+ocLzgfzupeO4='</th>\n",
              "      <td>668</td>\n",
              "    </tr>\n",
              "    <tr>\n",
              "      <th>b'v4+Xeaa10qt0ssi49Ij49xrcXsg='</th>\n",
              "      <td>650</td>\n",
              "    </tr>\n",
              "    <tr>\n",
              "      <th>b'DNUtvuOH5J/hMMkL2fALr+8TSBQ='</th>\n",
              "      <td>641</td>\n",
              "    </tr>\n",
              "    <tr>\n",
              "      <th>b'ZiFUxJB5pnxSYvjdhje1/3vm/j4='</th>\n",
              "      <td>633</td>\n",
              "    </tr>\n",
              "    <tr>\n",
              "      <th>b'j/2bNUNJX+sO1ZWO7zTMgZCuh2c='</th>\n",
              "      <td>627</td>\n",
              "    </tr>\n",
              "    <tr>\n",
              "      <th>b'IrglTpSHmU+DjiZcDl7yX6tQFxY='</th>\n",
              "      <td>625</td>\n",
              "    </tr>\n",
              "    <tr>\n",
              "      <th>b'ydgskao8bMkP5aXPNNWfydZdFf4='</th>\n",
              "      <td>620</td>\n",
              "    </tr>\n",
              "    <tr>\n",
              "      <th>b'aXx9ZscQh5cvuEjlwVwhDRWMcv8='</th>\n",
              "      <td>579</td>\n",
              "    </tr>\n",
              "    <tr>\n",
              "      <th>b'gC5G0lbtnrS4C8FhVkbJrLkOxxw='</th>\n",
              "      <td>556</td>\n",
              "    </tr>\n",
              "  </tbody>\n",
              "</table>\n",
              "</div>"
            ],
            "text/plain": [
              "                                 rating\n",
              "name_id                                \n",
              "b'Fy8k/SqQP8Bke2HXES7huYFHAr4='     695\n",
              "b'+Vc6WW3pC5m88H+ocLzgfzupeO4='     668\n",
              "b'v4+Xeaa10qt0ssi49Ij49xrcXsg='     650\n",
              "b'DNUtvuOH5J/hMMkL2fALr+8TSBQ='     641\n",
              "b'ZiFUxJB5pnxSYvjdhje1/3vm/j4='     633\n",
              "b'j/2bNUNJX+sO1ZWO7zTMgZCuh2c='     627\n",
              "b'IrglTpSHmU+DjiZcDl7yX6tQFxY='     625\n",
              "b'ydgskao8bMkP5aXPNNWfydZdFf4='     620\n",
              "b'aXx9ZscQh5cvuEjlwVwhDRWMcv8='     579\n",
              "b'gC5G0lbtnrS4C8FhVkbJrLkOxxw='     556"
            ]
          },
          "metadata": {
            "tags": []
          },
          "execution_count": 9
        }
      ]
    },
    {
      "cell_type": "code",
      "metadata": {
        "id": "QzXzxZcA6i2B",
        "colab_type": "code",
        "outputId": "96825a0f-b439-4394-98ee-7b9db0b54b14",
        "colab": {
          "base_uri": "https://localhost:8080/",
          "height": 542
        }
      },
      "source": [
        "#plotting\n",
        "route_rating= sns.countplot(\"rating\", data= data, order = [1, 2, 3, 4, 5,6, 7, 8, 9, 10,15,20,25,30,35,40,45,50,55,60,65,70,75,80,85,90,95,100]) #with order\n",
        "plt.title(\"Distribution of Number of Ratings per Route (Clipped at 100)\")\n",
        "plt.xlabel(\"Number of Ratings per Route\")\n",
        "plt.ylabel(\"Number of Routes with that Rating\")\n"
      ],
      "execution_count": 21,
      "outputs": [
        {
          "output_type": "execute_result",
          "data": {
            "text/plain": [
              "Text(0, 0.5, 'Number of Routes with that Rating')"
            ]
          },
          "metadata": {
            "tags": []
          },
          "execution_count": 21
        },
        {
          "output_type": "display_data",
          "data": {
            "image/png": "[encoded data removed]",
            "text/plain": [
              "<Figure size 1440x576 with 1 Axes>"
            ]
          },
          "metadata": {
            "tags": []
          }
        }
      ]
    },
    {
      "cell_type": "markdown",
      "metadata": {
        "id": "Ost7i-x-YHNl",
        "colab_type": "text"
      },
      "source": [
        "#Distribution of Ratings Provided by each User \n",
        "\n",
        "Next, I will explore the frequency of ratings each user provided."
      ]
    },
    {
      "cell_type": "markdown",
      "metadata": {
        "id": "RP42zn4qoTpF",
        "colab_type": "text"
      },
      "source": [
        "### Findings:\n",
        "* The most ratings a single user provided was 3,674 ratings\n",
        "* The majority of users (mode) only provided 1 rating \n",
        "* The average number of ratings per user is 67\n",
        "* 550 users gave more than 500 ratings "
      ]
    },
    {
      "cell_type": "code",
      "metadata": {
        "id": "roOmR591Yjl_",
        "colab_type": "code",
        "outputId": "ae3a97e3-9ac1-4c2a-a090-d30b2b4e48a4",
        "colab": {
          "base_uri": "https://localhost:8080/",
          "height": 170
        }
      },
      "source": [
        "#Looking at the distribution\n",
        "\n",
        "user = ascent_1x.groupby('user_id')[['rating']].count() #grouping the route names by the number of ratings they recieved\n",
        "user.sort_values(\"rating\", ascending= False)[:50] #sorting the values of those ratings from greatest to least\n",
        "user.rating.mode() #seeing the most frequent number of ratings (1 is the most frequent number of ratings per user with 2923 users giving only 1 rating)\n",
        "user[user.rating > 500].count() #seeing how many users gave more than a 500 ratings (550 users have more than 500 ratings)\n",
        "user.rating.describe()\n",
        "\n"
      ],
      "execution_count": 25,
      "outputs": [
        {
          "output_type": "execute_result",
          "data": {
            "text/plain": [
              "count    25801.000000\n",
              "mean        67.181698\n",
              "std        147.680494\n",
              "min          1.000000\n",
              "25%          4.000000\n",
              "50%         15.000000\n",
              "75%         61.000000\n",
              "max       3674.000000\n",
              "Name: rating, dtype: float64"
            ]
          },
          "metadata": {
            "tags": []
          },
          "execution_count": 25
        }
      ]
    },
    {
      "cell_type": "code",
      "metadata": {
        "id": "NOg7cU4YZU01",
        "colab_type": "code",
        "outputId": "04645a74-11e4-438b-f17e-6b02b3c805cb",
        "colab": {
          "base_uri": "https://localhost:8080/",
          "height": 390
        }
      },
      "source": [
        "#Top 10 highest number of ratings per individual user\n",
        "user.sort_values(\"rating\", ascending= False)[:10]"
      ],
      "execution_count": 12,
      "outputs": [
        {
          "output_type": "execute_result",
          "data": {
            "text/html": [
              "<div>\n",
              "<style scoped>\n",
              "    .dataframe tbody tr th:only-of-type {\n",
              "        vertical-align: middle;\n",
              "    }\n",
              "\n",
              "    .dataframe tbody tr th {\n",
              "        vertical-align: top;\n",
              "    }\n",
              "\n",
              "    .dataframe thead th {\n",
              "        text-align: right;\n",
              "    }\n",
              "</style>\n",
              "<table border=\"1\" class=\"dataframe\">\n",
              "  <thead>\n",
              "    <tr style=\"text-align: right;\">\n",
              "      <th></th>\n",
              "      <th>rating</th>\n",
              "    </tr>\n",
              "    <tr>\n",
              "      <th>user_id</th>\n",
              "      <th></th>\n",
              "    </tr>\n",
              "  </thead>\n",
              "  <tbody>\n",
              "    <tr>\n",
              "      <th>7505</th>\n",
              "      <td>3674</td>\n",
              "    </tr>\n",
              "    <tr>\n",
              "      <th>5512</th>\n",
              "      <td>2986</td>\n",
              "    </tr>\n",
              "    <tr>\n",
              "      <th>13622</th>\n",
              "      <td>2862</td>\n",
              "    </tr>\n",
              "    <tr>\n",
              "      <th>4121</th>\n",
              "      <td>2786</td>\n",
              "    </tr>\n",
              "    <tr>\n",
              "      <th>7235</th>\n",
              "      <td>2503</td>\n",
              "    </tr>\n",
              "    <tr>\n",
              "      <th>26155</th>\n",
              "      <td>2478</td>\n",
              "    </tr>\n",
              "    <tr>\n",
              "      <th>18195</th>\n",
              "      <td>2219</td>\n",
              "    </tr>\n",
              "    <tr>\n",
              "      <th>19137</th>\n",
              "      <td>2186</td>\n",
              "    </tr>\n",
              "    <tr>\n",
              "      <th>23956</th>\n",
              "      <td>2091</td>\n",
              "    </tr>\n",
              "    <tr>\n",
              "      <th>1266</th>\n",
              "      <td>2048</td>\n",
              "    </tr>\n",
              "  </tbody>\n",
              "</table>\n",
              "</div>"
            ],
            "text/plain": [
              "         rating\n",
              "user_id        \n",
              "7505       3674\n",
              "5512       2986\n",
              "13622      2862\n",
              "4121       2786\n",
              "7235       2503\n",
              "26155      2478\n",
              "18195      2219\n",
              "19137      2186\n",
              "23956      2091\n",
              "1266       2048"
            ]
          },
          "metadata": {
            "tags": []
          },
          "execution_count": 12
        }
      ]
    },
    {
      "cell_type": "code",
      "metadata": {
        "id": "Q3KElxrpZZco",
        "colab_type": "code",
        "outputId": "c8377227-e414-4c06-f87c-5f00fb8004da",
        "colab": {
          "base_uri": "https://localhost:8080/",
          "height": 542
        }
      },
      "source": [
        "#Close up view of the ratings distribution\n",
        "user_rating= sns.countplot(\"rating\", data= user, order= [1,2,3,4,5,6,7,8,9,10], palette= \"GnBu_d\") \n",
        "plt.title(\"Distribution of Users Providing up to 10 Ratings\")\n",
        "plt.xlabel(\"Number of Ratings Provided\")\n",
        "plt.ylabel(\"Count of Users\")"
      ],
      "execution_count": 13,
      "outputs": [
        {
          "output_type": "execute_result",
          "data": {
            "text/plain": [
              "Text(0, 0.5, 'Count of Users')"
            ]
          },
          "metadata": {
            "tags": []
          },
          "execution_count": 13
        },
        {
          "output_type": "display_data",
          "data": {
            "image/png": "[encoded data removed]",
            "text/plain": [
              "<Figure size 1440x576 with 1 Axes>"
            ]
          },
          "metadata": {
            "tags": []
          }
        }
      ]
    },
    {
      "cell_type": "code",
      "metadata": {
        "id": "Aov0QIHwoW7C",
        "colab_type": "code",
        "outputId": "a8ca976b-00c3-49d3-adfa-55febdd6d570",
        "colab": {
          "base_uri": "https://localhost:8080/",
          "height": 555
        }
      },
      "source": [
        "#wider view of the ratings distribution\n",
        "user_rating= sns.countplot(\"rating\", data= user, palette= (\"Spectral\"), order= [1,5,10,15,20,25,30,35,40,45,50,55,60,65,70,75,80,85,90,95,100,105,110,115,120,125,130,135,140,145,150,155,160,165,170,175,180,185,190,195,200]) \n",
        "user_rating.tick_params(axis='x', rotation=90)\n",
        "plt.title(\"Distribution of Ratings per User (Clipped at 200)\")\n",
        "plt.xlabel(\"Number of Ratings Provided\")\n",
        "plt.ylabel(\"Count of Users\")"
      ],
      "execution_count": 26,
      "outputs": [
        {
          "output_type": "execute_result",
          "data": {
            "text/plain": [
              "Text(0, 0.5, 'Count of Users')"
            ]
          },
          "metadata": {
            "tags": []
          },
          "execution_count": 26
        },
        {
          "output_type": "display_data",
          "data": {
            "image/png": "[encoded data removed]",
            "text/plain": [
              "<Figure size 1440x576 with 1 Axes>"
            ]
          },
          "metadata": {
            "tags": []
          }
        }
      ]
    },
    {
      "cell_type": "markdown",
      "metadata": {
        "id": "M09655Msr1Hg",
        "colab_type": "text"
      },
      "source": [
        "#Next Steps\n",
        "How many should I filter out???\n",
        "\n",
        "\"I’m sure you have noticed that the above two plots share the same distribution. The number of ratings per book and the number of ratings per user decay exponentially.\n",
        "\n",
        "To reduce the dimensionality of the data set, and avoid running into “memory error”, we will filter out rarely rated movies and rarely rating users.\"\n",
        "\n"
      ]
    },
    {
      "cell_type": "code",
      "metadata": {
        "id": "bj5Y8aEqsDOv",
        "colab_type": "code",
        "colab": {
          "base_uri": "https://localhost:8080/",
          "height": 232
        },
        "outputId": "b2fefad6-b68e-4904-c10d-630ea02bb140"
      },
      "source": [
        "#suprise library example (she filtered out ALOT!)\n",
        "min_book_ratings = 50\n",
        "filter_books = df['ISBN'].value_counts() > min_book_ratings\n",
        "filter_books = filter_books[filter_books].index.tolist()\n",
        "\n",
        "min_user_ratings = 50\n",
        "filter_users = df['userID'].value_counts() > min_user_ratings\n",
        "filter_users = filter_users[filter_users].index.tolist()"
      ],
      "execution_count": 15,
      "outputs": [
        {
          "output_type": "error",
          "ename": "NameError",
          "evalue": "ignored",
          "traceback": [
            "\u001b[0;31m---------------------------------------------------------------------------\u001b[0m",
            "\u001b[0;31mNameError\u001b[0m                                 Traceback (most recent call last)",
            "\u001b[0;32m<ipython-input-15-9034d01db2fe>\u001b[0m in \u001b[0;36m<module>\u001b[0;34m()\u001b[0m\n\u001b[1;32m      1\u001b[0m \u001b[0mmin_book_ratings\u001b[0m \u001b[0;34m=\u001b[0m \u001b[0;36m50\u001b[0m\u001b[0;34m\u001b[0m\u001b[0;34m\u001b[0m\u001b[0m\n\u001b[0;32m----> 2\u001b[0;31m \u001b[0mfilter_books\u001b[0m \u001b[0;34m=\u001b[0m \u001b[0mdf\u001b[0m\u001b[0;34m[\u001b[0m\u001b[0;34m'ISBN'\u001b[0m\u001b[0;34m]\u001b[0m\u001b[0;34m.\u001b[0m\u001b[0mvalue_counts\u001b[0m\u001b[0;34m(\u001b[0m\u001b[0;34m)\u001b[0m \u001b[0;34m>\u001b[0m \u001b[0mmin_book_ratings\u001b[0m\u001b[0;34m\u001b[0m\u001b[0;34m\u001b[0m\u001b[0m\n\u001b[0m\u001b[1;32m      3\u001b[0m \u001b[0mfilter_books\u001b[0m \u001b[0;34m=\u001b[0m \u001b[0mfilter_books\u001b[0m\u001b[0;34m[\u001b[0m\u001b[0mfilter_books\u001b[0m\u001b[0;34m]\u001b[0m\u001b[0;34m.\u001b[0m\u001b[0mindex\u001b[0m\u001b[0;34m.\u001b[0m\u001b[0mtolist\u001b[0m\u001b[0;34m(\u001b[0m\u001b[0;34m)\u001b[0m\u001b[0;34m\u001b[0m\u001b[0;34m\u001b[0m\u001b[0m\n\u001b[1;32m      4\u001b[0m \u001b[0;34m\u001b[0m\u001b[0m\n\u001b[1;32m      5\u001b[0m \u001b[0mmin_user_ratings\u001b[0m \u001b[0;34m=\u001b[0m \u001b[0;36m50\u001b[0m\u001b[0;34m\u001b[0m\u001b[0;34m\u001b[0m\u001b[0m\n",
            "\u001b[0;31mNameError\u001b[0m: name 'df' is not defined"
          ]
        }
      ]
    }
  ]
}
