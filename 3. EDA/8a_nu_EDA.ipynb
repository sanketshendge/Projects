{
  "nbformat": 4,
  "nbformat_minor": 0,
  "metadata": {
    "colab": {
      "name": "8a_nu_EDA.ipynb",
      "version": "0.3.2",
      "provenance": [],
      "collapsed_sections": [],
      "include_colab_link": true
    },
    "kernelspec": {
      "name": "python3",
      "display_name": "Python 3"
    },
    "accelerator": "GPU"
  },
  "cells": [
    {
      "cell_type": "markdown",
      "metadata": {
        "id": "view-in-github",
        "colab_type": "text"
      },
      "source": [
        "<a href=\"https://colab.research.google.com/github/Colley-K/rock_climbing_recommendation_system/blob/master/8a_nu_EDA.ipynb\" target=\"_parent\"><img src=\"https://colab.research.google.com/assets/colab-badge.svg\" alt=\"Open In Colab\"/></a>"
      ]
    },
    {
      "cell_type": "markdown",
      "metadata": {
        "id": "k5N0fqY5072A",
        "colab_type": "text"
      },
      "source": [
        "#8a.nu EDA Report\n",
        "\n",
        "In this notebook, I will explore:\n",
        "\n",
        "* the distribution of ratings\n",
        "* the number of ratings each user gave on average\n",
        "* the number of ratings per route\n",
        "\n"
      ]
    },
    {
      "cell_type": "markdown",
      "metadata": {
        "id": "q5Qox_I-HjQJ",
        "colab_type": "text"
      },
      "source": [
        "##Cleaning Report\n",
        "\n",
        "**Note:** This data was previously normalized and cleaned in the data cleaning report which you can view [here](https://colab.research.google.com/drive/195wcooDtT2XhfpRXREWmLovm8XZPNymy)"
      ]
    },
    {
      "cell_type": "markdown",
      "metadata": {
        "id": "NMTej-94HRja",
        "colab_type": "text"
      },
      "source": [
        "##The Initial Set Up:"
      ]
    },
    {
      "cell_type": "code",
      "metadata": {
        "id": "8z3RWadNHOq3",
        "colab_type": "code",
        "outputId": "f3c2b7dd-cd07-4f9c-a453-c0a528029b85",
        "colab": {
          "base_uri": "https://localhost:8080/",
          "height": 442
        }
      },
      "source": [
        "#Colab stuffs:\n",
        "\n",
        "#get a fast operator system\n",
        "!nvidia-smi\n",
        "\n",
        "#mount google drive\n",
        "from google.colab import drive\n",
        "drive.mount('/content/drive')#click on the link it provides and copy and paste that code into the authorization area\n",
        "!ls \"/content/drive/My Drive\" #shows whats in your drive once its mounted\n",
        "\n",
        "#access the OS system to work with current directories:\n",
        "import os \n",
        "os.getcwd() "
      ],
      "execution_count": 0,
      "outputs": [
        {
          "output_type": "stream",
          "text": [
            "Wed May 22 22:30:42 2019       \n",
            "+-----------------------------------------------------------------------------+\n",
            "| NVIDIA-SMI 418.67       Driver Version: 410.79       CUDA Version: 10.0     |\n",
            "|-------------------------------+----------------------+----------------------+\n",
            "| GPU  Name        Persistence-M| Bus-Id        Disp.A | Volatile Uncorr. ECC |\n",
            "| Fan  Temp  Perf  Pwr:Usage/Cap|         Memory-Usage | GPU-Util  Compute M. |\n",
            "|===============================+======================+======================|\n",
            "|   0  Tesla T4            Off  | 00000000:00:04.0 Off |                    0 |\n",
            "| N/A   55C    P8    16W /  70W |      0MiB / 15079MiB |      0%      Default |\n",
            "+-------------------------------+----------------------+----------------------+\n",
            "                                                                               \n",
            "+-----------------------------------------------------------------------------+\n",
            "| Processes:                                                       GPU Memory |\n",
            "|  GPU       PID   Type   Process name                             Usage      |\n",
            "|=============================================================================|\n",
            "|  No running processes found                                                 |\n",
            "+-----------------------------------------------------------------------------+\n",
            "Drive already mounted at /content/drive; to attempt to forcibly remount, call drive.mount(\"/content/drive\", force_remount=True).\n",
            "'Adventure Pictures'   'Google Photos'\n",
            "'Adventure Planning'    Life_stuffs\n",
            " Capstone\t       'Recommendation systems Notes.gdoc'\n",
            " Career\t\t       'Springboard Assignments'\n",
            "'Colab Notebooks'       Taxes\n",
            "'Data Wrangling.gdoc'\n"
          ],
          "name": "stdout"
        },
        {
          "output_type": "execute_result",
          "data": {
            "text/plain": [
              "'/content'"
            ]
          },
          "metadata": {
            "tags": []
          },
          "execution_count": 1
        }
      ]
    },
    {
      "cell_type": "code",
      "metadata": {
        "id": "Zpc9tQMGHVff",
        "colab_type": "code",
        "colab": {}
      },
      "source": [
        "#imports\n",
        "import numpy as np \n",
        "import pandas as pd \n",
        "import matplotlib.pyplot as plt\n",
        "import seaborn as sns\n",
        "import matplotlib\n",
        "import hashlib\n",
        "import base64\n",
        "\n",
        "\n",
        "#reconfigure default settings\n",
        "sns.set_palette(sns.color_palette(\"hls\", 8))\n",
        "matplotlib.rc('figure', figsize = (20, 8))\n",
        "matplotlib.rc('font', size = 14)\n",
        "matplotlib.rc('axes.spines', top = False, right = False)\n",
        "matplotlib.rc('axes', grid = False)\n",
        "matplotlib.rc('axes', facecolor = 'white')"
      ],
      "execution_count": 0,
      "outputs": []
    },
    {
      "cell_type": "markdown",
      "metadata": {
        "id": "80BT54S5P7dv",
        "colab_type": "text"
      },
      "source": [
        "##Importing CSV"
      ]
    },
    {
      "cell_type": "code",
      "metadata": {
        "id": "1k1sU3i6H-44",
        "colab_type": "code",
        "outputId": "6a5606cf-de73-4e7f-85b1-ea2d2dacf819",
        "colab": {
          "base_uri": "https://localhost:8080/",
          "height": 153
        }
      },
      "source": [
        "#Turn the CSV files into data frames\n",
        "\n",
        "ascent = pd.read_csv('drive/My Drive/Capstone/data/ascent2.csv', low_memory=False) \n",
        "\n",
        "#view the table\n",
        "ascent.info()"
      ],
      "execution_count": 0,
      "outputs": [
        {
          "output_type": "stream",
          "text": [
            "<class 'pandas.core.frame.DataFrame'>\n",
            "RangeIndex: 1196988 entries, 0 to 1196987\n",
            "Data columns (total 3 columns):\n",
            "user_id    1196988 non-null int64\n",
            "name_id    1196988 non-null object\n",
            "rating     1196988 non-null int64\n",
            "dtypes: int64(2), object(1)\n",
            "memory usage: 27.4+ MB\n"
          ],
          "name": "stdout"
        }
      ]
    },
    {
      "cell_type": "code",
      "metadata": {
        "id": "D4nRIBy4IKte",
        "colab_type": "code",
        "outputId": "c13737ad-2e20-4853-e2b5-6424738e7699",
        "colab": {
          "base_uri": "https://localhost:8080/",
          "height": 204
        }
      },
      "source": [
        "ascent.head()"
      ],
      "execution_count": 0,
      "outputs": [
        {
          "output_type": "execute_result",
          "data": {
            "text/html": [
              "<div>\n",
              "<style scoped>\n",
              "    .dataframe tbody tr th:only-of-type {\n",
              "        vertical-align: middle;\n",
              "    }\n",
              "\n",
              "    .dataframe tbody tr th {\n",
              "        vertical-align: top;\n",
              "    }\n",
              "\n",
              "    .dataframe thead th {\n",
              "        text-align: right;\n",
              "    }\n",
              "</style>\n",
              "<table border=\"1\" class=\"dataframe\">\n",
              "  <thead>\n",
              "    <tr style=\"text-align: right;\">\n",
              "      <th></th>\n",
              "      <th>user_id</th>\n",
              "      <th>name_id</th>\n",
              "      <th>rating</th>\n",
              "    </tr>\n",
              "  </thead>\n",
              "  <tbody>\n",
              "    <tr>\n",
              "      <th>0</th>\n",
              "      <td>1</td>\n",
              "      <td>b'fPrwO1eaOn1pit2sxBtnmpsLtBY='</td>\n",
              "      <td>1</td>\n",
              "    </tr>\n",
              "    <tr>\n",
              "      <th>1</th>\n",
              "      <td>1</td>\n",
              "      <td>b'8XEnyhQrs5p40c0RzDSJse4v2wU='</td>\n",
              "      <td>2</td>\n",
              "    </tr>\n",
              "    <tr>\n",
              "      <th>2</th>\n",
              "      <td>2</td>\n",
              "      <td>b'yeRHlWOfCwHC184C6h74MDjg1HY='</td>\n",
              "      <td>2</td>\n",
              "    </tr>\n",
              "    <tr>\n",
              "      <th>3</th>\n",
              "      <td>1</td>\n",
              "      <td>b'SkDqB7cHDX3ooiY0TBYqH6Shfjg='</td>\n",
              "      <td>3</td>\n",
              "    </tr>\n",
              "    <tr>\n",
              "      <th>4</th>\n",
              "      <td>1</td>\n",
              "      <td>b'vnAJW7lXQdVVILSM3TV2OrPSsJM='</td>\n",
              "      <td>2</td>\n",
              "    </tr>\n",
              "  </tbody>\n",
              "</table>\n",
              "</div>"
            ],
            "text/plain": [
              "   user_id                          name_id  rating\n",
              "0        1  b'fPrwO1eaOn1pit2sxBtnmpsLtBY='       1\n",
              "1        1  b'8XEnyhQrs5p40c0RzDSJse4v2wU='       2\n",
              "2        2  b'yeRHlWOfCwHC184C6h74MDjg1HY='       2\n",
              "3        1  b'SkDqB7cHDX3ooiY0TBYqH6Shfjg='       3\n",
              "4        1  b'vnAJW7lXQdVVILSM3TV2OrPSsJM='       2"
            ]
          },
          "metadata": {
            "tags": []
          },
          "execution_count": 4
        }
      ]
    },
    {
      "cell_type": "markdown",
      "metadata": {
        "id": "ACvyJQR8R-If",
        "colab_type": "text"
      },
      "source": [
        "#Ratings Distribution\n",
        "\n",
        "In order for this recomendation system to be successful, there needs to be a good distribution of ratings. The distribution of ratings below looks sufficient for a recommendaiton system:\n",
        "\n",
        "\n",
        "\n",
        "*   49% of the rock climbing routes are given the highest rating (\"3\")\n",
        "*   36.5% are given the intermediate rating (\"2\")\n",
        "* 14% of rock climbing routes are given the lowest rating (\"1\")\n",
        "\n",
        "\n",
        "Even though the lowest rating is a smaller proportion than the highest rating, this is normal that a negative response will be in the minority.\n",
        "\n",
        "\n"
      ]
    },
    {
      "cell_type": "code",
      "metadata": {
        "id": "QXC164S0UtJj",
        "colab_type": "code",
        "outputId": "2ef95aac-de7e-451a-be0f-769bc9ce50e5",
        "colab": {
          "base_uri": "https://localhost:8080/",
          "height": 85
        }
      },
      "source": [
        "ascent.rating.value_counts()"
      ],
      "execution_count": 0,
      "outputs": [
        {
          "output_type": "execute_result",
          "data": {
            "text/plain": [
              "3    588117\n",
              "2    437847\n",
              "1    171024\n",
              "Name: rating, dtype: int64"
            ]
          },
          "metadata": {
            "tags": []
          },
          "execution_count": 5
        }
      ]
    },
    {
      "cell_type": "code",
      "metadata": {
        "id": "Pw5ItUkQSBUk",
        "colab_type": "code",
        "outputId": "928b3889-ae56-4137-95ce-ba3ecf0d5f4d",
        "colab": {
          "base_uri": "https://localhost:8080/",
          "height": 170
        }
      },
      "source": [
        "#seeing the distribution of ratings\n",
        "ascent.rating.describe()"
      ],
      "execution_count": 0,
      "outputs": [
        {
          "output_type": "execute_result",
          "data": {
            "text/plain": [
              "count    1.196988e+06\n",
              "mean     2.348452e+00\n",
              "std      7.160942e-01\n",
              "min      1.000000e+00\n",
              "25%      2.000000e+00\n",
              "50%      2.000000e+00\n",
              "75%      3.000000e+00\n",
              "max      3.000000e+00\n",
              "Name: rating, dtype: float64"
            ]
          },
          "metadata": {
            "tags": []
          },
          "execution_count": 6
        }
      ]
    },
    {
      "cell_type": "code",
      "metadata": {
        "id": "cOy9-O9pSPrh",
        "colab_type": "code",
        "outputId": "f9a5a141-8211-4925-feb9-9786f87abe8b",
        "colab": {
          "base_uri": "https://localhost:8080/",
          "height": 525
        }
      },
      "source": [
        "#graphing the distribution of values\n",
        "sns.countplot(x =\"rating\", data= ascent)"
      ],
      "execution_count": 0,
      "outputs": [
        {
          "output_type": "execute_result",
          "data": {
            "text/plain": [
              "<matplotlib.axes._subplots.AxesSubplot at 0x7fdd54e855c0>"
            ]
          },
          "metadata": {
            "tags": []
          },
          "execution_count": 42
        },
        {
          "output_type": "display_data",
          "data": {
            "image/png": "[encoded data removed]",
            "text/plain": [
              "<Figure size 1440x576 with 1 Axes>"
            ]
          },
          "metadata": {
            "tags": []
          }
        }
      ]
    },
    {
      "cell_type": "markdown",
      "metadata": {
        "id": "AzOQHyamUnBa",
        "colab_type": "text"
      },
      "source": [
        "#Distribution of Ratings given to each Route \n",
        "\n",
        "In order for this recomendation system to be successful, there needs to be a good distribution of ratings given to every route. "
      ]
    },
    {
      "cell_type": "markdown",
      "metadata": {
        "id": "SPsllwNk6AFN",
        "colab_type": "text"
      },
      "source": [
        "### Findings:\n",
        "* The most ratings a single route recieved was 687 ratings\n",
        "* The lowest amount was only 1 rating for a route\n",
        "* The average number of ratings per route was 30\n",
        "* The mode was 10 ratings per route with a total of 3,622 routes with exactly ten ratings\n",
        "* Only 353 routes have more than 200 ratings (thus this was excluded from the graph)\n",
        "\n",
        "*This is a good distrbution of ratings, and will be sufficient for the model*"
      ]
    },
    {
      "cell_type": "code",
      "metadata": {
        "id": "pK1q-7BHzjoh",
        "colab_type": "code",
        "outputId": "e6319064-d6b9-4540-c43c-b661b99b2670",
        "colab": {
          "base_uri": "https://localhost:8080/",
          "height": 170
        }
      },
      "source": [
        "#Looking at the distribution\n",
        "\n",
        "data = ascent.groupby('name_id')[['rating']].count() #grouping the route names by the number of ratings they recieved\n",
        "data.sort_values(\"rating\", ascending= False)[:50] #sorting the values of those ratings from greatest to least\n",
        "data.rating.mode() #seeing the most frequent number of ratings (10 is the most frequent number of ratings per route with 3622 routes with exactly 10 ratings)\n",
        "data[data.rating > 200].count() #seeing how many routes have more than a 200 ratings (353 routes have more than 200 ratings)\n",
        "data.rating.describe()\n",
        "\n",
        "\n",
        "\n",
        "\n"
      ],
      "execution_count": 0,
      "outputs": [
        {
          "output_type": "execute_result",
          "data": {
            "text/plain": [
              "count    39435.000000\n",
              "mean        30.353442\n",
              "std         37.683531\n",
              "min          1.000000\n",
              "25%         12.000000\n",
              "50%         18.000000\n",
              "75%         32.000000\n",
              "max        687.000000\n",
              "Name: rating, dtype: float64"
            ]
          },
          "metadata": {
            "tags": []
          },
          "execution_count": 8
        }
      ]
    },
    {
      "cell_type": "code",
      "metadata": {
        "id": "0NirlVamWbmY",
        "colab_type": "code",
        "outputId": "d5f19a61-bd82-4056-c2fe-543360db4734",
        "colab": {
          "base_uri": "https://localhost:8080/",
          "height": 390
        }
      },
      "source": [
        "#Top ten most frequntly rated routes\n",
        "data.sort_values(\"rating\", ascending= False)[:10]"
      ],
      "execution_count": 0,
      "outputs": [
        {
          "output_type": "execute_result",
          "data": {
            "text/html": [
              "<div>\n",
              "<style scoped>\n",
              "    .dataframe tbody tr th:only-of-type {\n",
              "        vertical-align: middle;\n",
              "    }\n",
              "\n",
              "    .dataframe tbody tr th {\n",
              "        vertical-align: top;\n",
              "    }\n",
              "\n",
              "    .dataframe thead th {\n",
              "        text-align: right;\n",
              "    }\n",
              "</style>\n",
              "<table border=\"1\" class=\"dataframe\">\n",
              "  <thead>\n",
              "    <tr style=\"text-align: right;\">\n",
              "      <th></th>\n",
              "      <th>rating</th>\n",
              "    </tr>\n",
              "    <tr>\n",
              "      <th>name_id</th>\n",
              "      <th></th>\n",
              "    </tr>\n",
              "  </thead>\n",
              "  <tbody>\n",
              "    <tr>\n",
              "      <th>b'Fy8k/SqQP8Bke2HXES7huYFHAr4='</th>\n",
              "      <td>687</td>\n",
              "    </tr>\n",
              "    <tr>\n",
              "      <th>b'+Vc6WW3pC5m88H+ocLzgfzupeO4='</th>\n",
              "      <td>664</td>\n",
              "    </tr>\n",
              "    <tr>\n",
              "      <th>b'v4+Xeaa10qt0ssi49Ij49xrcXsg='</th>\n",
              "      <td>636</td>\n",
              "    </tr>\n",
              "    <tr>\n",
              "      <th>b'ZiFUxJB5pnxSYvjdhje1/3vm/j4='</th>\n",
              "      <td>633</td>\n",
              "    </tr>\n",
              "    <tr>\n",
              "      <th>b'DNUtvuOH5J/hMMkL2fALr+8TSBQ='</th>\n",
              "      <td>625</td>\n",
              "    </tr>\n",
              "    <tr>\n",
              "      <th>b'IrglTpSHmU+DjiZcDl7yX6tQFxY='</th>\n",
              "      <td>624</td>\n",
              "    </tr>\n",
              "    <tr>\n",
              "      <th>b'j/2bNUNJX+sO1ZWO7zTMgZCuh2c='</th>\n",
              "      <td>619</td>\n",
              "    </tr>\n",
              "    <tr>\n",
              "      <th>b'ydgskao8bMkP5aXPNNWfydZdFf4='</th>\n",
              "      <td>610</td>\n",
              "    </tr>\n",
              "    <tr>\n",
              "      <th>b'aXx9ZscQh5cvuEjlwVwhDRWMcv8='</th>\n",
              "      <td>568</td>\n",
              "    </tr>\n",
              "    <tr>\n",
              "      <th>b'gC5G0lbtnrS4C8FhVkbJrLkOxxw='</th>\n",
              "      <td>553</td>\n",
              "    </tr>\n",
              "  </tbody>\n",
              "</table>\n",
              "</div>"
            ],
            "text/plain": [
              "                                 rating\n",
              "name_id                                \n",
              "b'Fy8k/SqQP8Bke2HXES7huYFHAr4='     687\n",
              "b'+Vc6WW3pC5m88H+ocLzgfzupeO4='     664\n",
              "b'v4+Xeaa10qt0ssi49Ij49xrcXsg='     636\n",
              "b'ZiFUxJB5pnxSYvjdhje1/3vm/j4='     633\n",
              "b'DNUtvuOH5J/hMMkL2fALr+8TSBQ='     625\n",
              "b'IrglTpSHmU+DjiZcDl7yX6tQFxY='     624\n",
              "b'j/2bNUNJX+sO1ZWO7zTMgZCuh2c='     619\n",
              "b'ydgskao8bMkP5aXPNNWfydZdFf4='     610\n",
              "b'aXx9ZscQh5cvuEjlwVwhDRWMcv8='     568\n",
              "b'gC5G0lbtnrS4C8FhVkbJrLkOxxw='     553"
            ]
          },
          "metadata": {
            "tags": []
          },
          "execution_count": 9
        }
      ]
    },
    {
      "cell_type": "code",
      "metadata": {
        "id": "QzXzxZcA6i2B",
        "colab_type": "code",
        "outputId": "5e19b05f-b8b4-432d-9bc7-553aba7e03db",
        "colab": {
          "base_uri": "https://localhost:8080/",
          "height": 542
        }
      },
      "source": [
        "#plotting\n",
        "route_rating= sns.countplot(\"rating\", data= data, order = [5,10,15,20,25,30,35,40,45,50,55,60,65,70,75,80,85,90,95,100,105,110,115,120,125,130,135,140,145,150,155,160,165,170,175,180,185,190,195,200]) #with order\n",
        "plt.title(\"Distribution of Number of Ratings per Route (Clipped at 200)\")\n",
        "plt.xlabel(\"Number of Ratings per Route\")\n",
        "plt.ylabel(\"Number of Routes with that Rating\")\n"
      ],
      "execution_count": 0,
      "outputs": [
        {
          "output_type": "execute_result",
          "data": {
            "text/plain": [
              "Text(0, 0.5, 'Number of Routes with that Rating')"
            ]
          },
          "metadata": {
            "tags": []
          },
          "execution_count": 41
        },
        {
          "output_type": "display_data",
          "data": {
            "image/png": "[encoded data removed]",
            "text/plain": [
              "<Figure size 1440x576 with 1 Axes>"
            ]
          },
          "metadata": {
            "tags": []
          }
        }
      ]
    },
    {
      "cell_type": "markdown",
      "metadata": {
        "id": "Ost7i-x-YHNl",
        "colab_type": "text"
      },
      "source": [
        "#Distribution of Ratings Provided by each User \n",
        "\n",
        "Next, I will explore the frequency of ratings each user provided."
      ]
    },
    {
      "cell_type": "markdown",
      "metadata": {
        "id": "RP42zn4qoTpF",
        "colab_type": "text"
      },
      "source": [
        "### Findings:\n",
        "* The most ratings a single user provided was 2,088 ratings\n",
        "* The majority of users (mode) only provided 1 rating \n",
        "* The average number of ratings per user is 50\n",
        "* 243 users gave more than 500 ratings "
      ]
    },
    {
      "cell_type": "code",
      "metadata": {
        "id": "roOmR591Yjl_",
        "colab_type": "code",
        "outputId": "547b9951-4e81-4ae8-d193-c5bb58430f25",
        "colab": {
          "base_uri": "https://localhost:8080/",
          "height": 170
        }
      },
      "source": [
        "#Looking at the distribution\n",
        "\n",
        "user = ascent.groupby('user_id')[['rating']].count() #grouping the route names by the number of ratings they recieved\n",
        "user.sort_values(\"rating\", ascending= False)[:50] #sorting the values of those ratings from greatest to least\n",
        "user.rating.mode() #seeing the most frequent number of ratings (1 is the most frequent number of ratings per user with 3111 users given only 1 rating)\n",
        "user[user.rating == 1].count() #seeing how many users gave more than a 500 ratings (243 users have more than 500 ratings)\n",
        "user.rating.describe()\n",
        "\n"
      ],
      "execution_count": 0,
      "outputs": [
        {
          "output_type": "execute_result",
          "data": {
            "text/plain": [
              "count    23994.000000\n",
              "mean        49.886972\n",
              "std        103.898628\n",
              "min          1.000000\n",
              "25%          3.000000\n",
              "50%         12.000000\n",
              "75%         48.000000\n",
              "max       2088.000000\n",
              "Name: rating, dtype: float64"
            ]
          },
          "metadata": {
            "tags": []
          },
          "execution_count": 11
        }
      ]
    },
    {
      "cell_type": "code",
      "metadata": {
        "id": "NOg7cU4YZU01",
        "colab_type": "code",
        "outputId": "f56de3aa-e7cb-47eb-cc56-281510edbee3",
        "colab": {
          "base_uri": "https://localhost:8080/",
          "height": 390
        }
      },
      "source": [
        "#Top 10 highest number of ratings per individual user\n",
        "user.sort_values(\"rating\", ascending= False)[:10]"
      ],
      "execution_count": 0,
      "outputs": [
        {
          "output_type": "execute_result",
          "data": {
            "text/html": [
              "<div>\n",
              "<style scoped>\n",
              "    .dataframe tbody tr th:only-of-type {\n",
              "        vertical-align: middle;\n",
              "    }\n",
              "\n",
              "    .dataframe tbody tr th {\n",
              "        vertical-align: top;\n",
              "    }\n",
              "\n",
              "    .dataframe thead th {\n",
              "        text-align: right;\n",
              "    }\n",
              "</style>\n",
              "<table border=\"1\" class=\"dataframe\">\n",
              "  <thead>\n",
              "    <tr style=\"text-align: right;\">\n",
              "      <th></th>\n",
              "      <th>rating</th>\n",
              "    </tr>\n",
              "    <tr>\n",
              "      <th>user_id</th>\n",
              "      <th></th>\n",
              "    </tr>\n",
              "  </thead>\n",
              "  <tbody>\n",
              "    <tr>\n",
              "      <th>7505</th>\n",
              "      <td>2088</td>\n",
              "    </tr>\n",
              "    <tr>\n",
              "      <th>13622</th>\n",
              "      <td>1971</td>\n",
              "    </tr>\n",
              "    <tr>\n",
              "      <th>5512</th>\n",
              "      <td>1951</td>\n",
              "    </tr>\n",
              "    <tr>\n",
              "      <th>26155</th>\n",
              "      <td>1632</td>\n",
              "    </tr>\n",
              "    <tr>\n",
              "      <th>19137</th>\n",
              "      <td>1611</td>\n",
              "    </tr>\n",
              "    <tr>\n",
              "      <th>18195</th>\n",
              "      <td>1608</td>\n",
              "    </tr>\n",
              "    <tr>\n",
              "      <th>23956</th>\n",
              "      <td>1409</td>\n",
              "    </tr>\n",
              "    <tr>\n",
              "      <th>7235</th>\n",
              "      <td>1380</td>\n",
              "    </tr>\n",
              "    <tr>\n",
              "      <th>23550</th>\n",
              "      <td>1325</td>\n",
              "    </tr>\n",
              "    <tr>\n",
              "      <th>2034</th>\n",
              "      <td>1260</td>\n",
              "    </tr>\n",
              "  </tbody>\n",
              "</table>\n",
              "</div>"
            ],
            "text/plain": [
              "         rating\n",
              "user_id        \n",
              "7505       2088\n",
              "13622      1971\n",
              "5512       1951\n",
              "26155      1632\n",
              "19137      1611\n",
              "18195      1608\n",
              "23956      1409\n",
              "7235       1380\n",
              "23550      1325\n",
              "2034       1260"
            ]
          },
          "metadata": {
            "tags": []
          },
          "execution_count": 12
        }
      ]
    },
    {
      "cell_type": "code",
      "metadata": {
        "id": "Q3KElxrpZZco",
        "colab_type": "code",
        "outputId": "2a157dab-2524-4ea8-c87d-62998b7c61da",
        "colab": {
          "base_uri": "https://localhost:8080/",
          "height": 542
        }
      },
      "source": [
        "#Close up view of the ratings distribution\n",
        "user_rating= sns.countplot(\"rating\", data= user, order= [1,2,3,4,5,6,7,8,9,10], palette= \"GnBu_d\") \n",
        "plt.title(\"Distribution of Users Providing up to 10 Ratings\")\n",
        "plt.xlabel(\"Number of Ratings Provided\")\n",
        "plt.ylabel(\"Count of Users\")"
      ],
      "execution_count": 0,
      "outputs": [
        {
          "output_type": "execute_result",
          "data": {
            "text/plain": [
              "Text(0, 0.5, 'Count of Users')"
            ]
          },
          "metadata": {
            "tags": []
          },
          "execution_count": 28
        },
        {
          "output_type": "display_data",
          "data": {
            "image/png": "[encoded data removed]",
            "text/plain": [
              "<Figure size 1440x576 with 1 Axes>"
            ]
          },
          "metadata": {
            "tags": []
          }
        }
      ]
    },
    {
      "cell_type": "code",
      "metadata": {
        "id": "Aov0QIHwoW7C",
        "colab_type": "code",
        "outputId": "82d58a08-b4e8-4a0f-932e-7303c3192306",
        "colab": {
          "base_uri": "https://localhost:8080/",
          "height": 555
        }
      },
      "source": [
        "#wider view of the ratings distribution\n",
        "user_rating= sns.countplot(\"rating\", data= user, palette= (\"Spectral\"), order= [1,10,15,20,25,30,35,40,45,50,55,60,65,70,75,80,85,90,95,100,105,110,115,120,125,130,135,140,145,150,155,160,165,170,175,180,185,190,195,200]) \n",
        "user_rating.tick_params(axis='x', rotation=90)\n",
        "plt.title(\"Distribution of Ratings per User (clipped at 200)\")\n",
        "plt.xlabel(\"Number of Ratings Provided\")\n",
        "plt.ylabel(\"Count of Users\")"
      ],
      "execution_count": 0,
      "outputs": [
        {
          "output_type": "execute_result",
          "data": {
            "text/plain": [
              "Text(0, 0.5, 'Count of Users')"
            ]
          },
          "metadata": {
            "tags": []
          },
          "execution_count": 26
        },
        {
          "output_type": "display_data",
          "data": {
            "image/png": "[encoded data removed]",
            "text/plain": [
              "<Figure size 1440x576 with 1 Axes>"
            ]
          },
          "metadata": {
            "tags": []
          }
        }
      ]
    },
    {
      "cell_type": "markdown",
      "metadata": {
        "id": "M09655Msr1Hg",
        "colab_type": "text"
      },
      "source": [
        "#Next Steps\n",
        "\n",
        "\n",
        "\n",
        "*   Testing different prediction algorithms seeing which is the most accurate\n",
        "*   Testing different cold-start thresholds to see if I should filter out my dataset further\n",
        "* Creating a top-ten recommendation system based on the best filters and algorithm\n",
        "\n",
        "\n"
      ]
    }
  ]
}
