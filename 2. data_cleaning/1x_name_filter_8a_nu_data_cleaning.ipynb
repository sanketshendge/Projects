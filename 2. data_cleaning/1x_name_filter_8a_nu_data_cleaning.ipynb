{
  "nbformat": 4,
  "nbformat_minor": 0,
  "metadata": {
    "colab": {
      "name": "1x_name_filter_8a_nu_data_cleaning.ipynb",
      "version": "0.3.2",
      "provenance": [],
      "include_colab_link": true
    },
    "kernelspec": {
      "name": "python3",
      "display_name": "Python 3"
    },
    "accelerator": "GPU"
  },
  "cells": [
    {
      "cell_type": "markdown",
      "metadata": {
        "id": "view-in-github",
        "colab_type": "text"
      },
      "source": [
        "<a href=\"https://colab.research.google.com/github/Colley-K/capstone_projects/blob/master/1x_name_filter_8a_nu_data_cleaning.ipynb\" target=\"_parent\"><img src=\"https://colab.research.google.com/assets/colab-badge.svg\" alt=\"Open In Colab\"/></a>"
      ]
    },
    {
      "cell_type": "markdown",
      "metadata": {
        "id": "PunkdjGpS3ev",
        "colab_type": "text"
      },
      "source": [
        "# 1x Name Filter Notebook\n",
        "* This notebook is not the full cleaning report, but rather a variation of the full report\n",
        "* Click [here](https://colab.research.google.com/drive/195wcooDtT2XhfpRXREWmLovm8XZPNymy#scrollTo=ASb6NL6aI1xL) for the full cleaning report\n",
        "\n",
        "**Purpose**\n",
        "* The purpose of this notebook is to try out a less aggressive cleaning variation where names that occur 1 time are filtered out\n",
        ">* In contrast to the original notebook, I filtered out names that occured less than ten times to catch spelling errors\n",
        "* This notebook will be inherently noisier, but will be great to test out on the suprise library\n",
        "\n",
        "**Differences from Original Cleaning**\n",
        "* The 1 star ratings increased which makes logical sense that when I filtered out any routes entered less than ten times, I also filtered out the undesirable routes that recieved a few low ratings\n",
        "* The shape of this data frame comes out to be : \n",
        ">* 1,733,355 entries\n",
        ">* 182,132 groups of names\n",
        "* The original data frame cleaning is:\n",
        ">* 1,196,988 entries\n",
        ">* 39,435 groups of names\n",
        "\n"
      ]
    },
    {
      "cell_type": "markdown",
      "metadata": {
        "id": "WeMw4A1iz7t7",
        "colab_type": "text"
      },
      "source": [
        "#The Initial Set Up:"
      ]
    },
    {
      "cell_type": "code",
      "metadata": {
        "id": "-Vx7jDJQzt3a",
        "colab_type": "code",
        "outputId": "7657ed59-6d7e-4a3d-9143-58867a1b73c0",
        "colab": {
          "base_uri": "https://localhost:8080/",
          "height": 442
        }
      },
      "source": [
        "#Colab stuffs:\n",
        "\n",
        "#get a fast operator system\n",
        "!nvidia-smi\n",
        "\n",
        "#mount google drive\n",
        "from google.colab import drive\n",
        "drive.mount('/content/drive')#click on the link it provides and copy and paste that code into the authorization area\n",
        "!ls \"/content/drive/My Drive\" #shows whats in your drive once its mounted\n",
        "\n",
        "#access the OS system to work with current directories:\n",
        "import os \n",
        "os.getcwd() "
      ],
      "execution_count": 1,
      "outputs": [
        {
          "output_type": "stream",
          "text": [
            "Sat May 25 19:47:44 2019       \n",
            "+-----------------------------------------------------------------------------+\n",
            "| NVIDIA-SMI 418.67       Driver Version: 410.79       CUDA Version: 10.0     |\n",
            "|-------------------------------+----------------------+----------------------+\n",
            "| GPU  Name        Persistence-M| Bus-Id        Disp.A | Volatile Uncorr. ECC |\n",
            "| Fan  Temp  Perf  Pwr:Usage/Cap|         Memory-Usage | GPU-Util  Compute M. |\n",
            "|===============================+======================+======================|\n",
            "|   0  Tesla T4            Off  | 00000000:00:04.0 Off |                    0 |\n",
            "| N/A   41C    P8    15W /  70W |      0MiB / 15079MiB |      0%      Default |\n",
            "+-------------------------------+----------------------+----------------------+\n",
            "                                                                               \n",
            "+-----------------------------------------------------------------------------+\n",
            "| Processes:                                                       GPU Memory |\n",
            "|  GPU       PID   Type   Process name                             Usage      |\n",
            "|=============================================================================|\n",
            "|  No running processes found                                                 |\n",
            "+-----------------------------------------------------------------------------+\n",
            "Drive already mounted at /content/drive; to attempt to forcibly remount, call drive.mount(\"/content/drive\", force_remount=True).\n",
            "'Adventure Pictures'   'Google Photos'\n",
            "'Adventure Planning'    Life_stuffs\n",
            " Capstone\t       'Recommendation systems Notes.gdoc'\n",
            " Career\t\t       'Springboard Assignments'\n",
            "'Colab Notebooks'       Taxes\n",
            "'Data Wrangling.gdoc'\n"
          ],
          "name": "stdout"
        },
        {
          "output_type": "execute_result",
          "data": {
            "text/plain": [
              "'/content'"
            ]
          },
          "metadata": {
            "tags": []
          },
          "execution_count": 1
        }
      ]
    },
    {
      "cell_type": "code",
      "metadata": {
        "id": "oDg-T6zXz6pF",
        "colab_type": "code",
        "outputId": "926ef61a-2799-48bd-8810-c11f47dd8a31",
        "colab": {
          "base_uri": "https://localhost:8080/",
          "height": 190
        }
      },
      "source": [
        "#Installs\n",
        "!pip install jellyfish\n",
        "!pip install fuzzy\n",
        "!pip install phonetics\n",
        "!pip install country_converter --upgrade\n",
        "\n",
        "#imports\n",
        "import numpy as np \n",
        "import pandas as pd \n",
        "import matplotlib.pyplot as plt\n",
        "import seaborn as sns\n",
        "import matplotlib\n",
        "import jellyfish\n",
        "import phonetics\n",
        "import fuzzy\n",
        "import hashlib\n",
        "import base64\n",
        "import country_converter as coco\n",
        "\n",
        "\n",
        "#reconfigure default settings\n",
        "sns.set_palette(sns.color_palette(\"hls\", 8))\n",
        "matplotlib.rc('figure', figsize = (20, 8))\n",
        "matplotlib.rc('font', size = 14)\n",
        "matplotlib.rc('axes.spines', top = False, right = False)\n",
        "matplotlib.rc('axes', grid = False)\n",
        "matplotlib.rc('axes', facecolor = 'white')"
      ],
      "execution_count": 2,
      "outputs": [
        {
          "output_type": "stream",
          "text": [
            "Requirement already satisfied: jellyfish in /usr/local/lib/python3.6/dist-packages (0.7.1)\n",
            "Requirement already satisfied: fuzzy in /usr/local/lib/python3.6/dist-packages (1.2.2)\n",
            "Requirement already satisfied: phonetics in /usr/local/lib/python3.6/dist-packages (1.0.5)\n",
            "Requirement already up-to-date: country_converter in /usr/local/lib/python3.6/dist-packages (0.6.6)\n",
            "Requirement already satisfied, skipping upgrade: pandas>=0.17.0 in /usr/local/lib/python3.6/dist-packages (from country_converter) (0.24.2)\n",
            "Requirement already satisfied, skipping upgrade: numpy>=1.12.0 in /usr/local/lib/python3.6/dist-packages (from pandas>=0.17.0->country_converter) (1.16.3)\n",
            "Requirement already satisfied, skipping upgrade: pytz>=2011k in /usr/local/lib/python3.6/dist-packages (from pandas>=0.17.0->country_converter) (2018.9)\n",
            "Requirement already satisfied, skipping upgrade: python-dateutil>=2.5.0 in /usr/local/lib/python3.6/dist-packages (from pandas>=0.17.0->country_converter) (2.5.3)\n",
            "Requirement already satisfied, skipping upgrade: six>=1.5 in /usr/local/lib/python3.6/dist-packages (from python-dateutil>=2.5.0->pandas>=0.17.0->country_converter) (1.12.0)\n"
          ],
          "name": "stdout"
        }
      ]
    },
    {
      "cell_type": "markdown",
      "metadata": {
        "id": "mRx8FA0c0Cew",
        "colab_type": "text"
      },
      "source": [
        "#Import CSV Files\n",
        "**Note:** these files were previously uploaded from the kaggle api as a sqlite database and I used the following notebook to upload and convert them to csv.files\n",
        "\n",
        "[kaggle.api](https://colab.research.google.com/drive/1S4io5Nvz0lcnri_Lz9Mpa_TwLNeoSzGb)"
      ]
    },
    {
      "cell_type": "code",
      "metadata": {
        "id": "hozE5APx1YG7",
        "colab_type": "code",
        "colab": {}
      },
      "source": [
        "#Turn the CSV files into data frames\n",
        "\n",
        "ascent = pd.read_csv('drive/My Drive/Capstone/ascent.csv', low_memory=False) \n",
        "\n",
        "grade = pd.read_csv('drive/My Drive/Capstone/data/grade.csv', low_memory=False) #for filtering later\n",
        "\n"
      ],
      "execution_count": 0,
      "outputs": []
    },
    {
      "cell_type": "markdown",
      "metadata": {
        "id": "55iNlDNxIth5",
        "colab_type": "text"
      },
      "source": [
        "#Dropping Columns"
      ]
    },
    {
      "cell_type": "code",
      "metadata": {
        "id": "LauCdsQHYN2C",
        "colab_type": "code",
        "colab": {}
      },
      "source": [
        "#Dropping Columns\n",
        "cols = [\"user_id\", \"name\",\"rating\", \"country\", \"climb_type\", \"grade_id\"]\n",
        "filter_cols = [\"id\", \"usa_routes\", \"usa_boulders\"]\n",
        "\n",
        "ascent = ascent[cols]\n",
        "grade = grade[filter_cols]\n"
      ],
      "execution_count": 0,
      "outputs": []
    },
    {
      "cell_type": "markdown",
      "metadata": {
        "id": "ImcdlPXGKJNW",
        "colab_type": "text"
      },
      "source": [
        "#Dropping the Unrated Routes"
      ]
    },
    {
      "cell_type": "code",
      "metadata": {
        "id": "Wl4PRND-DOxL",
        "colab_type": "code",
        "colab": {}
      },
      "source": [
        "#Halving the data frame based on the \"rating\" column\n",
        "ascent = ascent[ascent.rating > 0] #taking out any climb logs that were never given a star rating\n",
        "\n",
        "#Removing the four star entries because you can only rate a climb 1-3 stars\n",
        "ascent = ascent[ascent.rating < 4] #taking out any climb logs that were never given a star rating\n"
      ],
      "execution_count": 0,
      "outputs": []
    },
    {
      "cell_type": "markdown",
      "metadata": {
        "id": "K0A8Ws7n7C-Z",
        "colab_type": "text"
      },
      "source": [
        "#Removing Null Values & Converting Data Types\n",
        "\n",
        "*I will only be removing null values in features with 5  or less null values. The \"name\" column (with more than 5 nulls) will be handled differently*\n",
        "\n",
        "**Why delete nulls now?** the ratings and grade_id columns are float64 data types, but they should be int64 (example: 1.0, 2.0, 3.0). The only reason they are floats is because they have null values in their columns. \n",
        "\n",
        "**Action:**\n",
        "* delete nulls\n",
        "* convert to int64\n",
        "\n"
      ]
    },
    {
      "cell_type": "code",
      "metadata": {
        "id": "MSeKG1hO7Ngm",
        "colab_type": "code",
        "colab": {}
      },
      "source": [
        "#getting rid of the NaN values in the columns with less than 5 nulls\n",
        "ascent= ascent.dropna(axis=0, subset=['grade_id', 'rating']) "
      ],
      "execution_count": 0,
      "outputs": []
    },
    {
      "cell_type": "code",
      "metadata": {
        "id": "nlN-m3jPKesB",
        "colab_type": "code",
        "outputId": "7f759470-9e5b-4ce9-b8c6-7f6028746f51",
        "colab": {
          "base_uri": "https://localhost:8080/",
          "height": 136
        }
      },
      "source": [
        "#changing data types:\n",
        "\n",
        "cols2 = ['grade_id', 'rating'] #create a list of all the columns you want to convert to a int64\n",
        "ascent[cols2] = ascent[cols2].astype('int64') #adjust the columns to int64\n",
        "\n",
        "#double check it worked\n",
        "ascent.dtypes"
      ],
      "execution_count": 7,
      "outputs": [
        {
          "output_type": "execute_result",
          "data": {
            "text/plain": [
              "user_id        int64\n",
              "name          object\n",
              "rating         int64\n",
              "country       object\n",
              "climb_type     int64\n",
              "grade_id       int64\n",
              "dtype: object"
            ]
          },
          "metadata": {
            "tags": []
          },
          "execution_count": 7
        }
      ]
    },
    {
      "cell_type": "markdown",
      "metadata": {
        "id": "SbzY3GFyLNVc",
        "colab_type": "text"
      },
      "source": [
        "#Detailed Feature Analysis\n",
        "\n",
        "##*Ascent Table*"
      ]
    },
    {
      "cell_type": "markdown",
      "metadata": {
        "id": "Rxk7SjhmL02E",
        "colab_type": "text"
      },
      "source": [
        "###Ratings\n",
        "* 1-3 stars of how much the route was enjoyed\n",
        "* 0 means not rated. Does NOT MEAN given 0 stars\n",
        ">* 1993725 or 48% are 0's\n",
        ">* two NaN values\n",
        "* This is a vital component to our recommendation system, thus we dropped all \"0\" entries & NaN values so every climb has a rating corresponding to it now.\n",
        ">* this decreased our data frame by 48%, but we still have aorund 2 million entries to work with which is plenty with the recommendation system"
      ]
    },
    {
      "cell_type": "code",
      "metadata": {
        "id": "8Xfm-O29SeBH",
        "colab_type": "code",
        "outputId": "4db83485-14dd-4e2f-fc52-e2ee7e4b7524",
        "colab": {
          "base_uri": "https://localhost:8080/",
          "height": 170
        }
      },
      "source": [
        "#seeing the distribution of ratings\n",
        "ascent.rating.describe()"
      ],
      "execution_count": 8,
      "outputs": [
        {
          "output_type": "execute_result",
          "data": {
            "text/plain": [
              "count    2.118144e+06\n",
              "mean     2.280308e+00\n",
              "std      7.365190e-01\n",
              "min      1.000000e+00\n",
              "25%      2.000000e+00\n",
              "50%      2.000000e+00\n",
              "75%      3.000000e+00\n",
              "max      3.000000e+00\n",
              "Name: rating, dtype: float64"
            ]
          },
          "metadata": {
            "tags": []
          },
          "execution_count": 8
        }
      ]
    },
    {
      "cell_type": "code",
      "metadata": {
        "id": "Jwc2SVfERyhA",
        "colab_type": "code",
        "outputId": "25d0050b-ef41-404d-bddb-382f23e7f15c",
        "colab": {
          "base_uri": "https://localhost:8080/",
          "height": 526
        }
      },
      "source": [
        "#graphing the distribution of values\n",
        "sns.countplot(x =\"rating\", data= ascent)"
      ],
      "execution_count": 9,
      "outputs": [
        {
          "output_type": "execute_result",
          "data": {
            "text/plain": [
              "<matplotlib.axes._subplots.AxesSubplot at 0x7f18715907f0>"
            ]
          },
          "metadata": {
            "tags": []
          },
          "execution_count": 9
        },
        {
          "output_type": "display_data",
          "data": {
            "image/png": "[encoded data removed]",
            "text/plain": [
              "<Figure size 1440x576 with 1 Axes>"
            ]
          },
          "metadata": {
            "tags": []
          }
        }
      ]
    },
    {
      "cell_type": "markdown",
      "metadata": {
        "id": "k5VBg3x7OSIb",
        "colab_type": "text"
      },
      "source": [
        "###Name Column\n",
        "\n",
        "* This column represents the name of the rock climb entered manually by the individual user\n",
        "* This is a very important feature of the data set, as it will be the output of my recommendation system\n",
        ">\n",
        "\n",
        "**Normalizing:**\n",
        "\n",
        "* Make the column all lower case\n",
        "* Exchange the \"&\" sign for \"and\"\n",
        "* **Remove**: \n",
        ">* spaces before, after, or inbetween the names\n",
        ">* special characters (, . - ! ')\n",
        ">>* I will not include \"?\" because this represents invalid names\n",
        ">* take away all accent marks in foreign language names\n",
        "* filter all these columns using a regex expression that only accepts letters & numbers, and turn anything that doesn't match this expression into NaN values. \n",
        ">>* after researching, I will leave numerics because there are some climbs that have all numerics as their name\n",
        "* catch any phrases such as \"I dont know\" and turn them into NaN values\n",
        "* filter out any names that are less than three characters long to catch any fake names like \"x\", \"8\", or \"na\"     \n",
        "\n",
        "\n"
      ]
    },
    {
      "cell_type": "code",
      "metadata": {
        "id": "dfaXMZg5ORHa",
        "colab_type": "code",
        "colab": {}
      },
      "source": [
        "#Cleaning up objects\n",
        "\n",
        "##need to make this more efficient- it is very slow!\n",
        "\n",
        "ascent[[\"name\"]] = ascent[[\"name\"]].apply(lambda x: x.str.lower().str.replace(\" \", \"\"))#change all to lower case and striping away blank spaces before, after, or inbetween names\n",
        "ascent[[\"name\"]] = ascent[[\"name\"]].apply(lambda x: x.str.normalize('NFKD').str.encode('ascii', errors='ignore').str.decode('utf-8'))#taking away accent marks from foreign names\n",
        "ascent = ascent.replace(to_replace = \"[!\\-'.,]\", value = '', regex = True) #replacing all special characters with blanks\n",
        "ascent = ascent.replace(to_replace = \"[&]\", value = \"and\", regex = True) #replacing all & characters with \"and\""
      ],
      "execution_count": 0,
      "outputs": []
    },
    {
      "cell_type": "markdown",
      "metadata": {
        "id": "3mf0lQ76XIlv",
        "colab_type": "text"
      },
      "source": [
        "\n",
        "**Removing NaN values:** \n",
        ">* account for roughly 9% of the total data frame\n",
        ">* there would not be any way to accurately guess or imputate a name for these values \n",
        ">* this will be the output of my recommendation system, thus, is a critical component of my project, and would not be wise to incorrectly guess how to fill in these values\n",
        ">* since it accounts for less than 10%, I will be dropping all the NaN values\n",
        ">\n",
        "\n"
      ]
    },
    {
      "cell_type": "code",
      "metadata": {
        "id": "L46X-KXQZ55l",
        "colab_type": "code",
        "colab": {}
      },
      "source": [
        "#converting non-uniform strings into NaNs\n",
        "\n",
        "#convert the strings that dont fit the regex expression [only letters] to NaN values\n",
        "ascent = ascent.replace(\"[^a-zA-Z0-9]\", value = np.nan, regex = True) #converting anything but letters & numbers to null values\n",
        "\n",
        "#add values such as \"unknown\" to the NaN group\n",
        "ascent= ascent.replace(['','noname','nn','dontknow', 'idontknow', 'dontknowname', 'dunno', 'idunno', 'unknown', 'unnamed', 'noname', 'senzanome'],np.NaN, regex = True)"
      ],
      "execution_count": 0,
      "outputs": []
    },
    {
      "cell_type": "code",
      "metadata": {
        "id": "pi0qIG_pU-Nt",
        "colab_type": "code",
        "colab": {}
      },
      "source": [
        "#droping the NaN's from the name column:\n",
        "ascent= ascent.dropna(axis=0, subset=['name'])\n",
        "\n",
        "#double check\n",
        "assert ascent.name.notnull().all()"
      ],
      "execution_count": 0,
      "outputs": []
    },
    {
      "cell_type": "code",
      "metadata": {
        "id": "LUGfXsBWdCp0",
        "colab_type": "code",
        "colab": {}
      },
      "source": [
        "#filter out any names that are less than 3 characters:\n",
        "ascent = ascent[ascent['name'].str.len() > 3]"
      ],
      "execution_count": 0,
      "outputs": []
    },
    {
      "cell_type": "code",
      "metadata": {
        "id": "_wrniXpDdZkm",
        "colab_type": "code",
        "outputId": "522f0fe7-d0ce-4a84-b11c-7c07ddc8ca95",
        "colab": {
          "base_uri": "https://localhost:8080/",
          "height": 34
        }
      },
      "source": [
        "#check to see df size\n",
        "ascent.shape"
      ],
      "execution_count": 14,
      "outputs": [
        {
          "output_type": "execute_result",
          "data": {
            "text/plain": [
              "(1962084, 6)"
            ]
          },
          "metadata": {
            "tags": []
          },
          "execution_count": 14
        }
      ]
    },
    {
      "cell_type": "markdown",
      "metadata": {
        "id": "CJTelGRmXVk8",
        "colab_type": "text"
      },
      "source": [
        "###Spelling Problem:\n",
        " >* There are multiple names that are spelled slightly different (example: \"red rocks\", \"red rock canyon\", \"redrock canyons\", \"red rocks cayons\"), and this will create noise in my dataset. \n",
        ">* **Potential Solutions**\n",
        "\n",
        "   >> 1. **Phonetic Encoding**\n",
        "   \n",
        "   >>>* First try the jellyfish soundex algorithm to convert a string to a normalized phonetic encoding\n",
        "   >>>* Next, try Double Metaphone which the author claims that in general it improves accuracy for all words to approximately 89% \n",
        "   \n",
        "   >>>* This strategy would correct misspellings and encode my name column all in one line of code!\n",
        "   >>>* **Potential problem** - if it too aggresively groups names together\n",
        "   >>>* spell corrector would not work here because there are foreign language values\n",
        "   \n",
        "   >>2. **Filter Out Low Frequency Names**\n",
        "   \n",
        " >>>* Although, not the most accurate answer, if a user misspells a name and enters that route on the website, the chances of another user entering and misspelling that name in the same way become less probable the greater the number of occurances. \n",
        " >>>* First, I will look at name groupings and see what happens to the number of name groups when filtering out x amount of name occurances.  \n",
        "   >>>* Next, I will filter out any names that don't occur x amount of times (to help filter out misspellings)\n",
        "   \n",
        "   >>3. **Fuzzy Wuzzy Techniques**\n",
        "   \n",
        " >>>* If my recommendation system results are inaccurate, I will go back and look into using some fuzzy wuzzy probability ratio techniques\n",
        " >>>* However, with time contraints, I will see if the filtering technique listed above will suffice\n"
      ]
    },
    {
      "cell_type": "markdown",
      "metadata": {
        "id": "6NgPJ48H-nop",
        "colab_type": "text"
      },
      "source": [
        "####1. Fuzzy Techniques: Soundex\n",
        "\n",
        "* RESULT: Too aggresive grouping\n",
        "* Drops the number of groups from 66,625 to 5,793"
      ]
    },
    {
      "cell_type": "markdown",
      "metadata": {
        "id": "nPlB7JRxFKAJ",
        "colab_type": "text"
      },
      "source": [
        "####1. Fuzzy Techniques: Double Metaphone: *an improved & updated phonetic encoding algorithm\n",
        "* RESULT: did much better than soundex, but is it too agressive still?\n",
        "* Drops the number of groups from 66,625 to 12,736\n",
        "* Might be too agressive still, and could instead filter out any name that occurs less than 10 times."
      ]
    },
    {
      "cell_type": "markdown",
      "metadata": {
        "id": "dGs_AEm-lCRq",
        "colab_type": "text"
      },
      "source": [
        "   \n",
        "   **Encoding:** \n",
        " >* In order for the name column to work with the surprise collaborative algorthim, the name column must be encoded \n",
        " >* Use base64 hashing to handle this large scale data set & numerous values"
      ]
    },
    {
      "cell_type": "code",
      "metadata": {
        "id": "CoMw00AnVdVZ",
        "colab_type": "code",
        "colab": {}
      },
      "source": [
        "#Base64 Hash *turns into a byte\n",
        "ascent['name_id']= ascent[\"name\"].astype(str).str.encode('UTF-8')\\\n",
        "          .apply(lambda x: base64.b64encode(hashlib.sha1(x).digest())) "
      ],
      "execution_count": 0,
      "outputs": []
    },
    {
      "cell_type": "markdown",
      "metadata": {
        "id": "fgIYyBI2VUTa",
        "colab_type": "text"
      },
      "source": [
        "####2. Filtering Out Lower Frequency Names\n",
        "* As showing in the graph below, the amount of groupings half, when filtering out any names that only occur one time\n",
        "* This notebook will represent a nosier data set, and so we will only filter out any names that occur 1 time, and leave any names with any occurances two or more times.\n",
        "* this will leave close to 200,000 groupings which is plenty to play aorund with"
      ]
    },
    {
      "cell_type": "code",
      "metadata": {
        "id": "MTBLvDEElTrZ",
        "colab_type": "code",
        "outputId": "c78074b4-6208-4d88-eddc-25034b1d551b",
        "colab": {
          "base_uri": "https://localhost:8080/",
          "height": 508
        }
      },
      "source": [
        "#graphing what happens to the number of unique values when filtering out x number of occurances\n",
        "plot_counts= {0:401030, 1:182957, 2:124409, 3:95373, 4:77549, 5:65313, 6:56234, 7:49296, 8:43721, 9:39268, 10:35597}\n",
        "plt.bar(*zip(*plot_counts.items()))\n",
        "plt.xlabel(\"Filtering out x occurances\")\n",
        "plt.ylabel(\"Unique names remaining when filtering out x occurances\")\n",
        "plt.show()"
      ],
      "execution_count": 16,
      "outputs": [
        {
          "output_type": "display_data",
          "data": {
            "image/png": "[encoded data removed]",
            "text/plain": [
              "<Figure size 1440x576 with 1 Axes>"
            ]
          },
          "metadata": {
            "tags": []
          }
        }
      ]
    },
    {
      "cell_type": "code",
      "metadata": {
        "id": "PT7sXwe5RR9a",
        "colab_type": "code",
        "colab": {
          "base_uri": "https://localhost:8080/",
          "height": 34
        },
        "outputId": "f86a7450-452a-4e75-aeeb-485b0b848589"
      },
      "source": [
        "#filtering out names that occur < 10 times to filter out spelling errors\n",
        "\n",
        "ascent= ascent.groupby('name').filter(lambda x: len(x) > 1)\n",
        "\n",
        "#count the number of name groups left in dataframe\n",
        "ascent.name.nunique()"
      ],
      "execution_count": 17,
      "outputs": [
        {
          "output_type": "execute_result",
          "data": {
            "text/plain": [
              "184025"
            ]
          },
          "metadata": {
            "tags": []
          },
          "execution_count": 17
        }
      ]
    },
    {
      "cell_type": "code",
      "metadata": {
        "id": "CNlBhm7YSN3H",
        "colab_type": "code",
        "colab": {
          "base_uri": "https://localhost:8080/",
          "height": 34
        },
        "outputId": "0ea1d2f4-af61-4c96-a5b0-7b75e3ccbddd"
      },
      "source": [
        "#count number of entries left in the dataframe\n",
        "ascent.shape"
      ],
      "execution_count": 18,
      "outputs": [
        {
          "output_type": "execute_result",
          "data": {
            "text/plain": [
              "(1740874, 7)"
            ]
          },
          "metadata": {
            "tags": []
          },
          "execution_count": 18
        }
      ]
    },
    {
      "cell_type": "markdown",
      "metadata": {
        "id": "KgAD07C0QVRW",
        "colab_type": "text"
      },
      "source": [
        "###Climb Type:\n",
        "* 0 = rope climbing\n",
        "* 1 = bouldering\n",
        "* approx. double the amount of rope climbs logged versus bouldering climbs\n",
        "* *may want to think about segmenting these different climbs into different groups because typically boulderers are just wanting boulder routes and vice versa with rope climbs*"
      ]
    },
    {
      "cell_type": "markdown",
      "metadata": {
        "id": "UkQMh3uOCSHs",
        "colab_type": "text"
      },
      "source": [
        "###Grade ID:\n",
        "* difficulty of climb 1-86 \n",
        "* this rating system makes it possible to compare ratings across different countries rating systems\n",
        "* 49 (USA 11d) is the most logged climbing grade\n",
        "* Changed to int 64  from a float\n",
        "* need to merge with grade table to get the full description of grades\n",
        "* the 0's and low numbers are valid easy rated routes\n"
      ]
    },
    {
      "cell_type": "markdown",
      "metadata": {
        "id": "gyxLQzOdc3O4",
        "colab_type": "text"
      },
      "source": [
        "###Country \n",
        "* Country is entered via a drop down selection provided on website, however there are still a few incorrect entries\n",
        "\n",
        "**Country Normalization** :\n",
        ">1. Make column capital letters\n",
        ">2. Use the country_converter to check if country values are valid, if not, I will turn them into null values\n",
        ">3. Will use the mode aggregation per route name to populate null values of the country column\n"
      ]
    },
    {
      "cell_type": "code",
      "metadata": {
        "id": "Ujs_2jtwwMIj",
        "colab_type": "code",
        "colab": {}
      },
      "source": [
        "#make the country column capital letters\n",
        "ascent['country'] = ascent.country.str.upper()"
      ],
      "execution_count": 0,
      "outputs": []
    },
    {
      "cell_type": "markdown",
      "metadata": {
        "id": "1Rz-ZEhwaTdD",
        "colab_type": "text"
      },
      "source": [
        "####Country Converter\n",
        "\n",
        "* finds all values that are not valid three digit country codes, and converts them into NaN values\n",
        "* VERY computationally expensive, thus I only ran once, and found that YUG & ROM where incorrectly entered.\n",
        "* Country coverter docs:\n",
        "[githug](https://github.com/konstantinstadler/country_converter/blob/master/country_converter/country_converter.py)\n"
      ]
    },
    {
      "cell_type": "code",
      "metadata": {
        "id": "b0jgSCKGNubN",
        "colab_type": "code",
        "colab": {}
      },
      "source": [
        "#Using Country Converter to convert non valid three digit codes into NaNs\n",
        "#this code is VERY computationally expensive. Thus, I will not run this twice, but it found a few \"ROM\" & \"YUG\" values that are invalid country codes, and I will drop these rows from the table\n",
        "\n",
        "\n",
        "#ascent['country']= ascent[\"country\"].apply(lambda x: coco.convert(names= x, to='ISO3', not_found= np.NaN)) "
      ],
      "execution_count": 0,
      "outputs": []
    },
    {
      "cell_type": "code",
      "metadata": {
        "id": "8LwEYzWMkbFq",
        "colab_type": "code",
        "outputId": "3a4c1613-1bb0-464b-da0e-9ce9ec572d3c",
        "colab": {
          "base_uri": "https://localhost:8080/",
          "height": 0
        }
      },
      "source": [
        "#ROM, YUG ARE NOT COUNTRIES, need to filter them out of the dataframe\n",
        "ascent= ascent[(ascent.country != 'ROM') & (ascent.country != 'YUG')]\n",
        "ascent.isnull().sum()"
      ],
      "execution_count": 21,
      "outputs": [
        {
          "output_type": "execute_result",
          "data": {
            "text/plain": [
              "user_id           0\n",
              "name              0\n",
              "rating            0\n",
              "country       29979\n",
              "climb_type        0\n",
              "grade_id          0\n",
              "name_id           0\n",
              "dtype: int64"
            ]
          },
          "metadata": {
            "tags": []
          },
          "execution_count": 21
        }
      ]
    },
    {
      "cell_type": "markdown",
      "metadata": {
        "id": "qCM8b3ViyneK",
        "colab_type": "text"
      },
      "source": [
        "####Imputing the Country's NaNs with the mode based on the name column\n",
        "* Will groupby the route name column and then compute the mode of the country column to fill in the NaNs\n",
        "\n"
      ]
    },
    {
      "cell_type": "code",
      "metadata": {
        "id": "XFXfYM_RgjIy",
        "colab_type": "code",
        "colab": {
          "base_uri": "https://localhost:8080/",
          "height": 153
        },
        "outputId": "416e832d-8562-4e23-ab0a-377d168b18c1"
      },
      "source": [
        "ascent.isnull().sum()"
      ],
      "execution_count": 22,
      "outputs": [
        {
          "output_type": "execute_result",
          "data": {
            "text/plain": [
              "user_id           0\n",
              "name              0\n",
              "rating            0\n",
              "country       29979\n",
              "climb_type        0\n",
              "grade_id          0\n",
              "name_id           0\n",
              "dtype: int64"
            ]
          },
          "metadata": {
            "tags": []
          },
          "execution_count": 22
        }
      ]
    },
    {
      "cell_type": "code",
      "metadata": {
        "id": "ogsw5UblbGid",
        "colab_type": "code",
        "colab": {}
      },
      "source": [
        "#First drop the NaNs from the country column, then groupby the name category, and compute the mode of the country\n",
        "mode_1 = ascent.dropna().groupby('name')['country'].agg(pd.Series.mode).reset_index()\n",
        "\n",
        "#Next, create a dictionary out of the mode values, grouped by the name\n",
        "mapping_dict = dict(mode_1.values)\n",
        "\n",
        "#finally fill in the country column NaN's with the mapping of the dictionary\n",
        "ascent.country = ascent.country.fillna(ascent.name.map(mapping_dict))"
      ],
      "execution_count": 0,
      "outputs": []
    },
    {
      "cell_type": "code",
      "metadata": {
        "id": "t0zxw53lKxRJ",
        "colab_type": "code",
        "outputId": "d719050f-c42c-45bd-850b-f2e49be187f5",
        "colab": {
          "base_uri": "https://localhost:8080/",
          "height": 153
        }
      },
      "source": [
        "ascent.isnull().sum()"
      ],
      "execution_count": 24,
      "outputs": [
        {
          "output_type": "execute_result",
          "data": {
            "text/plain": [
              "user_id          0\n",
              "name             0\n",
              "rating           0\n",
              "country       2439\n",
              "climb_type       0\n",
              "grade_id         0\n",
              "name_id          0\n",
              "dtype: int64"
            ]
          },
          "metadata": {
            "tags": []
          },
          "execution_count": 24
        }
      ]
    },
    {
      "cell_type": "code",
      "metadata": {
        "id": "xAPtYUYN_whK",
        "colab_type": "code",
        "colab": {}
      },
      "source": [
        "#see how many nulls are left in the table\n",
        "ascent.isnull().sum()\n",
        "\n",
        "#deleting the reamining nulls from the country column (that didn't have a mode except NaN)\n",
        "ascent= ascent.dropna(axis=0, subset=['country'])\n",
        "\n",
        "#double check\n",
        "assert ascent.country.notnull().all()\n"
      ],
      "execution_count": 0,
      "outputs": []
    },
    {
      "cell_type": "markdown",
      "metadata": {
        "id": "ndnQqn2tFMlp",
        "colab_type": "text"
      },
      "source": [
        "##*Grade Table*\n",
        "\n",
        "####ID:\n",
        "*  numbered 1-86 \n",
        "* corresponds to the ascent table & it gives each climb a number 1-86 that corresponds to different rating systems in the US and France\n",
        "* this column is correctly coded as an int64 data type, no work needs to be done on this column"
      ]
    },
    {
      "cell_type": "code",
      "metadata": {
        "id": "uCV0flFkXJZc",
        "colab_type": "code",
        "colab": {
          "base_uri": "https://localhost:8080/",
          "height": 204
        },
        "outputId": "054747d1-e7db-47f0-9331-d631bacc986f"
      },
      "source": [
        "grade.head()"
      ],
      "execution_count": 28,
      "outputs": [
        {
          "output_type": "execute_result",
          "data": {
            "text/html": [
              "<div>\n",
              "<style scoped>\n",
              "    .dataframe tbody tr th:only-of-type {\n",
              "        vertical-align: middle;\n",
              "    }\n",
              "\n",
              "    .dataframe tbody tr th {\n",
              "        vertical-align: top;\n",
              "    }\n",
              "\n",
              "    .dataframe thead th {\n",
              "        text-align: right;\n",
              "    }\n",
              "</style>\n",
              "<table border=\"1\" class=\"dataframe\">\n",
              "  <thead>\n",
              "    <tr style=\"text-align: right;\">\n",
              "      <th></th>\n",
              "      <th>id</th>\n",
              "      <th>usa_routes</th>\n",
              "      <th>usa_boulders</th>\n",
              "    </tr>\n",
              "  </thead>\n",
              "  <tbody>\n",
              "    <tr>\n",
              "      <th>0</th>\n",
              "      <td>1</td>\n",
              "      <td>3/4</td>\n",
              "      <td>VB</td>\n",
              "    </tr>\n",
              "    <tr>\n",
              "      <th>1</th>\n",
              "      <td>2</td>\n",
              "      <td>NaN</td>\n",
              "      <td>NaN</td>\n",
              "    </tr>\n",
              "    <tr>\n",
              "      <th>2</th>\n",
              "      <td>3</td>\n",
              "      <td>NaN</td>\n",
              "      <td>NaN</td>\n",
              "    </tr>\n",
              "    <tr>\n",
              "      <th>3</th>\n",
              "      <td>4</td>\n",
              "      <td>NaN</td>\n",
              "      <td>NaN</td>\n",
              "    </tr>\n",
              "    <tr>\n",
              "      <th>4</th>\n",
              "      <td>5</td>\n",
              "      <td>NaN</td>\n",
              "      <td>NaN</td>\n",
              "    </tr>\n",
              "  </tbody>\n",
              "</table>\n",
              "</div>"
            ],
            "text/plain": [
              "   id usa_routes usa_boulders\n",
              "0   1        3/4           VB\n",
              "1   2        NaN          NaN\n",
              "2   3        NaN          NaN\n",
              "3   4        NaN          NaN\n",
              "4   5        NaN          NaN"
            ]
          },
          "metadata": {
            "tags": []
          },
          "execution_count": 28
        }
      ]
    },
    {
      "cell_type": "markdown",
      "metadata": {
        "id": "pil8mNDYdiqh",
        "colab_type": "text"
      },
      "source": [
        "####Routes & Boulders:\n",
        "* Need to forward fill all the USA columns so they correspond to the more numerous French Columns"
      ]
    },
    {
      "cell_type": "code",
      "metadata": {
        "id": "j5Mpv16dd2LJ",
        "colab_type": "code",
        "colab": {}
      },
      "source": [
        "#used forward fill on the USA values\n",
        "grade[[\"usa_routes\", \"usa_boulders\"]]= grade[[\"usa_routes\", \"usa_boulders\"]].fillna(method='ffill')"
      ],
      "execution_count": 0,
      "outputs": []
    },
    {
      "cell_type": "code",
      "metadata": {
        "id": "fM-cOCdue9Lh",
        "colab_type": "code",
        "colab": {}
      },
      "source": [
        "#double check the table \n",
        "grade.head(10)"
      ],
      "execution_count": 0,
      "outputs": []
    },
    {
      "cell_type": "markdown",
      "metadata": {
        "id": "uhg2MNWJDvXT",
        "colab_type": "text"
      },
      "source": [
        "#Exporting Data Frames to CSV \n",
        "\n",
        "###Step 1: \n",
        "\n",
        "* copy the ascent table, and delete all rows except the three rows for the recommendation system (user_id, name_id, rating)\n"
      ]
    },
    {
      "cell_type": "code",
      "metadata": {
        "id": "wtMYRrRPEF8d",
        "colab_type": "code",
        "colab": {}
      },
      "source": [
        "#create a new data frame that will serve as the reference to the recommendation table\n",
        "ref_table_1x = ascent.copy(deep=True)\n",
        "\n"
      ],
      "execution_count": 0,
      "outputs": []
    },
    {
      "cell_type": "markdown",
      "metadata": {
        "id": "HhrEDSUxJn8t",
        "colab_type": "text"
      },
      "source": [
        "###Step 2:\n",
        "* merge the grade table with the reference table so all reference items are in one table"
      ]
    },
    {
      "cell_type": "code",
      "metadata": {
        "id": "xkQXSg-tG-Ca",
        "colab_type": "code",
        "colab": {}
      },
      "source": [
        "#left merge the reference table with grade table\n",
        "ref_table_1x = ref_table_1x.merge(grade,how='left', left_on='grade_id', right_on='id')\n"
      ],
      "execution_count": 0,
      "outputs": []
    },
    {
      "cell_type": "markdown",
      "metadata": {
        "id": "VgjO94j_KHJX",
        "colab_type": "text"
      },
      "source": [
        "###Step 3:\n",
        "* drop unneccary columns in both data frames"
      ]
    },
    {
      "cell_type": "code",
      "metadata": {
        "id": "dVi-cV9uKPLm",
        "colab_type": "code",
        "colab": {}
      },
      "source": [
        "ref_table_1x= ref_table_1x.drop(labels= [\"id\"], axis=1)\n",
        "ascent_1x = ascent[[\"user_id\", \"name_id\", \"rating\"]]"
      ],
      "execution_count": 0,
      "outputs": []
    },
    {
      "cell_type": "markdown",
      "metadata": {
        "id": "dZw_hjkxpIRs",
        "colab_type": "text"
      },
      "source": [
        "###Final Shape of the Data Frames:"
      ]
    },
    {
      "cell_type": "code",
      "metadata": {
        "id": "QAZRy1UipAIX",
        "colab_type": "code",
        "colab": {
          "base_uri": "https://localhost:8080/",
          "height": 34
        },
        "outputId": "0fabaf80-e929-417a-9daf-ca57f0d55e50"
      },
      "source": [
        "#how many name groups\n",
        "ascent.name_id.nunique()"
      ],
      "execution_count": 36,
      "outputs": [
        {
          "output_type": "execute_result",
          "data": {
            "text/plain": [
              "182132"
            ]
          },
          "metadata": {
            "tags": []
          },
          "execution_count": 36
        }
      ]
    },
    {
      "cell_type": "code",
      "metadata": {
        "id": "XX3qsL6XpEtm",
        "colab_type": "code",
        "colab": {
          "base_uri": "https://localhost:8080/",
          "height": 34
        },
        "outputId": "491c1427-ec3f-46b5-c0a2-49d972dc563d"
      },
      "source": [
        "#number of entries in both tables:\n",
        "ref_table_1x.shape\n",
        "ascent_1x.shape"
      ],
      "execution_count": 38,
      "outputs": [
        {
          "output_type": "execute_result",
          "data": {
            "text/plain": [
              "(1733355, 3)"
            ]
          },
          "metadata": {
            "tags": []
          },
          "execution_count": 38
        }
      ]
    },
    {
      "cell_type": "markdown",
      "metadata": {
        "id": "2GUoKq4nd5d_",
        "colab_type": "text"
      },
      "source": [
        "###Step 4:\n",
        "* export files to google drive"
      ]
    },
    {
      "cell_type": "code",
      "metadata": {
        "id": "ASb6NL6aI1xL",
        "colab_type": "code",
        "colab": {}
      },
      "source": [
        "from google.colab import files\n",
        "ref_table_1x.to_csv(r'/content/drive/My Drive/Capstone/data/ref_table_1x.csv', index = \"user_id\", header=True)\n",
        "ascent_1x.to_csv(r'/content/drive/My Drive/Capstone/data/ascent_1x.csv', index = \"user_id\", header=True)\n"
      ],
      "execution_count": 0,
      "outputs": []
    },
    {
      "cell_type": "code",
      "metadata": {
        "id": "ujwzy7zbktBc",
        "colab_type": "code",
        "colab": {}
      },
      "source": [
        ""
      ],
      "execution_count": 0,
      "outputs": []
    }
  ]
}
