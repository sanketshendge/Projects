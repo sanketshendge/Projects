{
  "nbformat": 4,
  "nbformat_minor": 0,
  "metadata": {
    "colab": {
      "name": "8a_nu_data_cleaning.ipynb",
      "version": "0.3.2",
      "provenance": [],
      "collapsed_sections": [
        "CJTelGRmXVk8",
        "nPlB7JRxFKAJ"
      ],
      "include_colab_link": true
    },
    "kernelspec": {
      "name": "python3",
      "display_name": "Python 3"
    },
    "accelerator": "GPU"
  },
  "cells": [
    {
      "cell_type": "markdown",
      "metadata": {
        "id": "view-in-github",
        "colab_type": "text"
      },
      "source": [
        "<a href=\"https://colab.research.google.com/github/Colley-K/rock_climbing_recommendation_system/blob/master/8a_nu_data_cleaning.ipynb\" target=\"_parent\"><img src=\"https://colab.research.google.com/assets/colab-badge.svg\" alt=\"Open In Colab\"/></a>"
      ]
    },
    {
      "cell_type": "markdown",
      "metadata": {
        "id": "unC_N8sSVO5h",
        "colab_type": "text"
      },
      "source": [
        "#8a.nu Data Cleaning for Recommendation System"
      ]
    },
    {
      "cell_type": "markdown",
      "metadata": {
        "id": "-2i6R0-EsV_Q",
        "colab_type": "text"
      },
      "source": [
        "##Other Variations to this Notebook\n",
        "* This notebook is the full cleaning report, but there are two other reports that are a lot less aggressive in their cleaning, and will be used to test different results with the recommendation algorithm\n",
        "* Click [here](https://colab.research.google.com/drive/19sAidEVHV7NeCkX10v1qDKPV8SXDqd5M#scrollTo=PunkdjGpS3ev) for notebook that filters out names only listed once \n",
        "  >* In contrast, this notebook filters out names that occur less than ten times\n",
        "* Click [here](https://colab.research.google.com/drive/1jm-Q7eKbdrzaoul6sXbv7ZnnJLWEUS77) for notebook that includes unrated climbs to test an implicit rating system"
      ]
    },
    {
      "cell_type": "markdown",
      "metadata": {
        "id": "xaJZ6qUXNtA6",
        "colab_type": "text"
      },
      "source": [
        "##Importing data from Kaggle\n",
        "Using the Kaggle API, this dataset was downloaded as an SQLite database, transformed into a Pandas dataframe, and then exported as a CSV\n",
        "\n",
        ">Click [here](https://colab.research.google.com/drive/1S4io5Nvz0lcnri_Lz9Mpa_TwLNeoSzGb#scrollTo=0BhPF3cSDvYk) to view the import notebook\n",
        "\n",
        ">Click [here](https://www.kaggle.com/dcohen21/8anu-climbing-logbook) to view the data set on Kaggle "
      ]
    },
    {
      "cell_type": "markdown",
      "metadata": {
        "id": "WeMw4A1iz7t7",
        "colab_type": "text"
      },
      "source": [
        "##The Initial Set Up:"
      ]
    },
    {
      "cell_type": "code",
      "metadata": {
        "id": "-Vx7jDJQzt3a",
        "colab_type": "code",
        "outputId": "aeb746ba-de68-476a-b6b0-2d94c3d3d469",
        "colab": {
          "base_uri": "https://localhost:8080/",
          "height": 564
        }
      },
      "source": [
        "#Colab stuffs:\n",
        "\n",
        "#get a fast operator system\n",
        "!nvidia-smi\n",
        "\n",
        "#mount google drive\n",
        "from google.colab import drive\n",
        "drive.mount('/content/drive')#click on the link it provides and copy and paste that code into the authorization area\n",
        "!ls \"/content/drive/My Drive\" #shows whats in your drive once its mounted\n",
        "\n",
        "#access the OS system to work with current directories:\n",
        "import os \n",
        "os.getcwd() "
      ],
      "execution_count": 1,
      "outputs": [
        {
          "output_type": "stream",
          "text": [
            "Fri Jul 12 16:20:52 2019       \n",
            "+-----------------------------------------------------------------------------+\n",
            "| NVIDIA-SMI 418.67       Driver Version: 410.79       CUDA Version: 10.0     |\n",
            "|-------------------------------+----------------------+----------------------+\n",
            "| GPU  Name        Persistence-M| Bus-Id        Disp.A | Volatile Uncorr. ECC |\n",
            "| Fan  Temp  Perf  Pwr:Usage/Cap|         Memory-Usage | GPU-Util  Compute M. |\n",
            "|===============================+======================+======================|\n",
            "|   0  Tesla T4            Off  | 00000000:00:04.0 Off |                    0 |\n",
            "| N/A   53C    P8    16W /  70W |      0MiB / 15079MiB |      0%      Default |\n",
            "+-------------------------------+----------------------+----------------------+\n",
            "                                                                               \n",
            "+-----------------------------------------------------------------------------+\n",
            "| Processes:                                                       GPU Memory |\n",
            "|  GPU       PID   Type   Process name                             Usage      |\n",
            "|=============================================================================|\n",
            "|  No running processes found                                                 |\n",
            "+-----------------------------------------------------------------------------+\n",
            "Go to this URL in a browser: https://accounts.google.com/o/oauth2/auth?client_id=947318989803-6bn6qk8qdgf4n4g3pfee6491hc0brc4i.apps.googleusercontent.com&redirect_uri=urn%3Aietf%3Awg%3Aoauth%3A2.0%3Aoob&scope=email%20https%3A%2F%2Fwww.googleapis.com%2Fauth%2Fdocs.test%20https%3A%2F%2Fwww.googleapis.com%2Fauth%2Fdrive%20https%3A%2F%2Fwww.googleapis.com%2Fauth%2Fdrive.photos.readonly%20https%3A%2F%2Fwww.googleapis.com%2Fauth%2Fpeopleapi.readonly&response_type=code\n",
            "\n",
            "Enter your authorization code:\n",
            "··········\n",
            "Mounted at /content/drive\n",
            "'Adventure Pictures'\t       'Google Photos'\n",
            "'Adventure Planning'\t        Inferential_Statistics_Notes.gdoc\n",
            " Capstone\t\t        Life_stuffs\n",
            " Career\t\t\t       'Recommendation systems Notes.gdoc'\n",
            "'Colab Notebooks'\t       'Springboard Assignments'\n",
            " cold_start_thresholds.py      'Surprise Rec Research.gdoc'\n",
            "'Data Wrangling.gdoc'\t        Taxes\n",
            " EDA_general_projects_for_fun\n"
          ],
          "name": "stdout"
        },
        {
          "output_type": "execute_result",
          "data": {
            "text/plain": [
              "'/content'"
            ]
          },
          "metadata": {
            "tags": []
          },
          "execution_count": 1
        }
      ]
    },
    {
      "cell_type": "code",
      "metadata": {
        "id": "oDg-T6zXz6pF",
        "colab_type": "code",
        "outputId": "cda1eb2b-1d51-493f-8736-951cde2c6370",
        "colab": {
          "base_uri": "https://localhost:8080/",
          "height": 700
        }
      },
      "source": [
        "#Installs\n",
        "!pip install jellyfish\n",
        "!pip install fuzzy\n",
        "!pip install phonetics\n",
        "!pip install country_converter --upgrade\n",
        "\n",
        "#imports\n",
        "import numpy as np \n",
        "import pandas as pd \n",
        "import matplotlib.pyplot as plt\n",
        "import seaborn as sns\n",
        "import matplotlib\n",
        "import jellyfish\n",
        "import phonetics\n",
        "import fuzzy\n",
        "import hashlib\n",
        "import base64\n",
        "import country_converter as coco\n",
        "\n",
        "\n",
        "#reconfigure default settings\n",
        "sns.set_palette(sns.color_palette(\"hls\", 8))\n",
        "matplotlib.rc('figure', figsize = (20, 8))\n",
        "matplotlib.rc('font', size = 14)\n",
        "matplotlib.rc('axes.spines', top = False, right = False)\n",
        "matplotlib.rc('axes', grid = False)\n",
        "matplotlib.rc('axes', facecolor = 'white')"
      ],
      "execution_count": 2,
      "outputs": [
        {
          "output_type": "stream",
          "text": [
            "Collecting jellyfish\n",
            "\u001b[?25l  Downloading https://files.pythonhosted.org/packages/3f/80/bcacc7affb47be7279d7d35225e1a932416ed051b315a7f9df20acf04cbe/jellyfish-0.7.2.tar.gz (133kB)\n",
            "\u001b[K     |████████████████████████████████| 143kB 9.4MB/s \n",
            "\u001b[?25hBuilding wheels for collected packages: jellyfish\n",
            "  Building wheel for jellyfish (setup.py) ... \u001b[?25l\u001b[?25hdone\n",
            "  Stored in directory: /root/.cache/pip/wheels/e8/fe/99/d8fa8f2ef7b82a625b0b77a84d319b0b50693659823c4effb4\n",
            "Successfully built jellyfish\n",
            "Installing collected packages: jellyfish\n",
            "Successfully installed jellyfish-0.7.2\n",
            "Collecting fuzzy\n",
            "  Downloading https://files.pythonhosted.org/packages/ad/b0/210f790e81e3c9f86a740f5384c758ad6c7bc1958332cf64263a9d3cf336/Fuzzy-1.2.2.tar.gz\n",
            "Building wheels for collected packages: fuzzy\n",
            "  Building wheel for fuzzy (setup.py) ... \u001b[?25l\u001b[?25hdone\n",
            "  Stored in directory: /root/.cache/pip/wheels/79/f7/14/b7e20855729780e85322529469b2d1eadfd940e83d981373cc\n",
            "Successfully built fuzzy\n",
            "Installing collected packages: fuzzy\n",
            "Successfully installed fuzzy-1.2.2\n",
            "Collecting phonetics\n",
            "  Downloading https://files.pythonhosted.org/packages/67/a5/d1b6dbcbb05477aa5f0c5e73a7d68c6d23ab098af4461072f00999ed573a/phonetics-1.0.5.tar.gz\n",
            "Building wheels for collected packages: phonetics\n",
            "  Building wheel for phonetics (setup.py) ... \u001b[?25l\u001b[?25hdone\n",
            "  Stored in directory: /root/.cache/pip/wheels/ad/ca/b1/e41e662f86b95d185748da378fdc995c1520b0d5628c46a0b7\n",
            "Successfully built phonetics\n",
            "Installing collected packages: phonetics\n",
            "Successfully installed phonetics-1.0.5\n",
            "Collecting country_converter\n",
            "\u001b[?25l  Downloading https://files.pythonhosted.org/packages/64/63/e10f6a180602bec1c9da4ee910d28c2133606d8bfeb5463c83fd0fdfb2e5/country_converter-0.6.6.tar.gz (42kB)\n",
            "\u001b[K     |████████████████████████████████| 51kB 4.1MB/s \n",
            "\u001b[?25hRequirement already satisfied, skipping upgrade: pandas>=0.17.0 in /usr/local/lib/python3.6/dist-packages (from country_converter) (0.24.2)\n",
            "Requirement already satisfied, skipping upgrade: pytz>=2011k in /usr/local/lib/python3.6/dist-packages (from pandas>=0.17.0->country_converter) (2018.9)\n",
            "Requirement already satisfied, skipping upgrade: numpy>=1.12.0 in /usr/local/lib/python3.6/dist-packages (from pandas>=0.17.0->country_converter) (1.16.4)\n",
            "Requirement already satisfied, skipping upgrade: python-dateutil>=2.5.0 in /usr/local/lib/python3.6/dist-packages (from pandas>=0.17.0->country_converter) (2.5.3)\n",
            "Requirement already satisfied, skipping upgrade: six>=1.5 in /usr/local/lib/python3.6/dist-packages (from python-dateutil>=2.5.0->pandas>=0.17.0->country_converter) (1.12.0)\n",
            "Building wheels for collected packages: country-converter\n",
            "  Building wheel for country-converter (setup.py) ... \u001b[?25l\u001b[?25hdone\n",
            "  Stored in directory: /root/.cache/pip/wheels/71/0d/24/e1226e387169b82b014518361345ba24a0495b2498c0c62ddc\n",
            "Successfully built country-converter\n",
            "Installing collected packages: country-converter\n",
            "Successfully installed country-converter-0.6.6\n"
          ],
          "name": "stdout"
        }
      ]
    },
    {
      "cell_type": "markdown",
      "metadata": {
        "id": "mRx8FA0c0Cew",
        "colab_type": "text"
      },
      "source": [
        "##Import CSV Files"
      ]
    },
    {
      "cell_type": "code",
      "metadata": {
        "id": "hozE5APx1YG7",
        "colab_type": "code",
        "colab": {}
      },
      "source": [
        "#Turn the CSV files into data frames\n",
        "\n",
        "ascent = pd.read_csv('drive/My Drive/Capstone/ascent.csv', low_memory=False) \n",
        "\n",
        "grade = pd.read_csv('drive/My Drive/Capstone/data/grade.csv', low_memory=False) #for filtering later\n",
        "\n"
      ],
      "execution_count": 0,
      "outputs": []
    },
    {
      "cell_type": "code",
      "metadata": {
        "id": "b1aa0BjHDbtB",
        "colab_type": "code",
        "outputId": "9b4c8eac-79b1-4082-d881-4b5645e53b06",
        "colab": {
          "base_uri": "https://localhost:8080/",
          "height": 901
        }
      },
      "source": [
        "ascent.info()\n",
        "grade.info()"
      ],
      "execution_count": 4,
      "outputs": [
        {
          "output_type": "stream",
          "text": [
            "<class 'pandas.core.frame.DataFrame'>\n",
            "RangeIndex: 4111878 entries, 0 to 4111877\n",
            "Data columns (total 28 columns):\n",
            "id                      object\n",
            "user_id                 int64\n",
            "grade_id                float64\n",
            "notes                   object\n",
            "raw_notes               int64\n",
            "method_id               int64\n",
            "climb_type              int64\n",
            "total_score             int64\n",
            "date                    int64\n",
            "year                    float64\n",
            "last_year               float64\n",
            "rec_date                float64\n",
            "project_ascent_date     float64\n",
            "name                    object\n",
            "crag_id                 float64\n",
            "crag                    object\n",
            "sector_id               float64\n",
            "sector                  object\n",
            "country                 object\n",
            "comment                 object\n",
            "rating                  float64\n",
            "description             object\n",
            "yellow_id               float64\n",
            "climb_try               float64\n",
            "repeat                  float64\n",
            "exclude_from_ranking    float64\n",
            "user_recommended        float64\n",
            "chipped                 float64\n",
            "dtypes: float64(14), int64(6), object(8)\n",
            "memory usage: 878.4+ MB\n",
            "<class 'pandas.core.frame.DataFrame'>\n",
            "RangeIndex: 83 entries, 0 to 82\n",
            "Data columns (total 14 columns):\n",
            "id                       83 non-null int64\n",
            "score                    83 non-null int64\n",
            "fra_routes               83 non-null object\n",
            "fra_routes_input         83 non-null int64\n",
            "fra_routes_selector      83 non-null int64\n",
            "fra_boulders             83 non-null object\n",
            "fra_boulders_input       83 non-null int64\n",
            "fra_boulders_selector    83 non-null int64\n",
            "usa_routes               47 non-null object\n",
            "usa_routes_input         83 non-null int64\n",
            "usa_routes_selector      83 non-null int64\n",
            "usa_boulders             45 non-null object\n",
            "usa_boulders_input       83 non-null int64\n",
            "usa_boulders_selector    83 non-null int64\n",
            "dtypes: int64(10), object(4)\n",
            "memory usage: 9.2+ KB\n"
          ],
          "name": "stdout"
        }
      ]
    },
    {
      "cell_type": "markdown",
      "metadata": {
        "id": "6QFOp9Ixcsg2",
        "colab_type": "text"
      },
      "source": [
        "#Brief Feature Analysis\n",
        "\n",
        "####Used the following methods to analyze the columns:\n",
        "\n",
        "* .head(), .info(), .dtypes, .shape(), .groupby, .count(), [.isnull().sum()], [.value_counts(dropna= False).head(50)]\n",
        "\n",
        "####For the Recommendation System:\n",
        "\n",
        "* Only need three columns and one table (out of four) for the surprise collaborative filtering recommendation system:\n",
        ">* ascent.ratings\n",
        ">* ascent.name\n",
        ">* ascent.user_id\n",
        "* Ratings \n",
        "\n",
        ">* Droping 48% of my data frame (from 4 million entries to 2 million) based on this column  because only half of the entries have a rating tied to them, and it is crucial for my recommendation system to have this information. Also, with 2 million entries, I still have a large enough sample size to work with.\n",
        ">* Also, will drop the 7 four star ratings because it is not possible to rate a climb higher than three stars \n",
        "\n",
        "* User_id\n",
        "\n",
        ">* User_id values match up with the user table, and on brief analysis there doesn't seem to be any incorrect values\n",
        "\n",
        "* Names \n",
        "\n",
        ">* User entered string information\n",
        ">* Lots of clean up needed for this column\n",
        ">* Will need to normalize data first and then try different fuzzy techniques\n",
        ">* Need to encode this column for the surprise libraries recommendation system\n",
        "\n",
        "####Filtering the recommendation output:\n",
        "\n",
        "* I will create a filtering system for the recommendation to provide more accurate output\n",
        "* Will need to utilize the Grade table and the Ascent table:\n",
        ">* ascent.country\n",
        ">* ascent.crag\n",
        ">* ascent.grade_id\n",
        ">* ascent.climb_type\n",
        ">* grade.id\n",
        ">* grade.usa_routes\n",
        ">* grade.usa_boulders\n",
        "\n",
        "* ascent.country\n",
        "\n",
        ">* make capitalize all letters\n",
        ">* use coco.converter to filter out any incorrect/invalid three digit country codes\n",
        ">* impute the rest of the null values by calculating the mode of the countries grouped per the name of the climb (groupby)\n",
        "\n",
        "* ascent.grade_id & grade.id \n",
        "\n",
        ">* Correspond to their correct alloted values, no clean up needed\n",
        "\n",
        "* ascent.climb_type\n",
        "\n",
        ">* 0 = rope climbing\n",
        "1 = bouldering\n",
        ">* approx. double the amount of rope climbs logged versus bouldering climbs\n",
        "\n",
        "* grade.usa_routes & grade.usa_boulders\n",
        "\n",
        ">* Will not be using the European rock climbing rating system \n",
        ">* Use the forward fill to match up the European ratings to the USA ratings"
      ]
    },
    {
      "cell_type": "markdown",
      "metadata": {
        "id": "55iNlDNxIth5",
        "colab_type": "text"
      },
      "source": [
        "#Dropping Columns"
      ]
    },
    {
      "cell_type": "code",
      "metadata": {
        "id": "LauCdsQHYN2C",
        "colab_type": "code",
        "colab": {}
      },
      "source": [
        "#Dropping Columns\n",
        "cols = [\"user_id\", \"name\",\"rating\", \"country\", \"climb_type\", \"grade_id\", \"crag\"]\n",
        "filter_cols = [\"id\", \"usa_routes\", \"usa_boulders\"]\n",
        "\n",
        "ascent = ascent[cols]\n",
        "grade = grade[filter_cols]\n"
      ],
      "execution_count": 0,
      "outputs": []
    },
    {
      "cell_type": "markdown",
      "metadata": {
        "id": "ImcdlPXGKJNW",
        "colab_type": "text"
      },
      "source": [
        "#Dropping the Unrated Routes"
      ]
    },
    {
      "cell_type": "code",
      "metadata": {
        "id": "Wl4PRND-DOxL",
        "colab_type": "code",
        "outputId": "4613db4d-9658-4a88-ddc7-cd129e12b484",
        "colab": {
          "base_uri": "https://localhost:8080/",
          "height": 85
        }
      },
      "source": [
        "#Halving the data frame based on the \"rating\" column\n",
        "ascent = ascent[ascent.rating > 0] #taking out any climb logs that were never given a star rating\n",
        "\n",
        "#Removing the four star entries because you can only rate a climb 1-3 stars\n",
        "ascent = ascent[ascent.rating < 4] #taking out any climb logs that were never given a star rating\n",
        "\n",
        "ascent.rating.value_counts()#checking if it worked\n"
      ],
      "execution_count": 6,
      "outputs": [
        {
          "output_type": "execute_result",
          "data": {
            "text/plain": [
              "3.0    954584\n",
              "2.0    802708\n",
              "1.0    360852\n",
              "Name: rating, dtype: int64"
            ]
          },
          "metadata": {
            "tags": []
          },
          "execution_count": 6
        }
      ]
    },
    {
      "cell_type": "markdown",
      "metadata": {
        "id": "K0A8Ws7n7C-Z",
        "colab_type": "text"
      },
      "source": [
        "#Removing Null Values & Converting Data Types\n",
        "\n",
        "*I will only be removing null values in features with 5  or less null values. The \"name\" column (with more than 5 nulls) will be handled differently*\n",
        "\n",
        "**Why delete nulls now?** the ratings and grade_id columns are float64 data types, but they should be int64 (example: 1.0, 2.0, 3.0). The only reason they are floats is because they have null values in their columns. \n",
        "\n",
        "**Action:**\n",
        "* delete nulls\n",
        "* convert to int64\n",
        "\n"
      ]
    },
    {
      "cell_type": "code",
      "metadata": {
        "id": "MSeKG1hO7Ngm",
        "colab_type": "code",
        "colab": {}
      },
      "source": [
        "#getting rid of the NaN values in the columns with less than 5 nulls\n",
        "ascent= ascent.dropna(axis=0, subset=['grade_id', 'rating']) \n"
      ],
      "execution_count": 0,
      "outputs": []
    },
    {
      "cell_type": "code",
      "metadata": {
        "id": "nlN-m3jPKesB",
        "colab_type": "code",
        "outputId": "1c4c49bb-c4ae-4bf4-e89c-e092242ac098",
        "colab": {
          "base_uri": "https://localhost:8080/",
          "height": 153
        }
      },
      "source": [
        "#changing data types:\n",
        "\n",
        "cols2 = ['grade_id', 'rating'] #create a list of all the columns you want to convert to a int64\n",
        "ascent[cols2] = ascent[cols2].astype('int64') #adjust the columns to int64\n",
        "\n",
        "#double data types\n",
        "ascent.dtypes\n",
        "\n"
      ],
      "execution_count": 8,
      "outputs": [
        {
          "output_type": "execute_result",
          "data": {
            "text/plain": [
              "user_id        int64\n",
              "name          object\n",
              "rating         int64\n",
              "country       object\n",
              "climb_type     int64\n",
              "grade_id       int64\n",
              "crag          object\n",
              "dtype: object"
            ]
          },
          "metadata": {
            "tags": []
          },
          "execution_count": 8
        }
      ]
    },
    {
      "cell_type": "code",
      "metadata": {
        "id": "EZTDR5kpJSsO",
        "colab_type": "code",
        "colab": {}
      },
      "source": [
        "#Country Column Filters\n",
        "                      \n",
        "#make sure the country column doesnt have any floats or integers\n",
        "mask = ascent.country.apply(lambda x: isinstance(x, (float,int)))\n",
        "ascent = ascent[~mask]\n",
        "\n",
        "#filter out any arrays and entries less or more than 3 characters\n",
        "ascent = ascent[ascent['country'].str.len() == 3]"
      ],
      "execution_count": 0,
      "outputs": []
    },
    {
      "cell_type": "markdown",
      "metadata": {
        "id": "SbzY3GFyLNVc",
        "colab_type": "text"
      },
      "source": [
        "#Detailed Feature Analysis\n",
        "\n",
        "##*Ascent Table*"
      ]
    },
    {
      "cell_type": "markdown",
      "metadata": {
        "id": "Rxk7SjhmL02E",
        "colab_type": "text"
      },
      "source": [
        "###Ratings\n",
        "* 1-3 stars of how much the route was enjoyed\n",
        "* 0 means not rated. Does NOT MEAN given 0 stars\n",
        ">* 1993725 or 48% are 0's\n",
        ">* two NaN values\n",
        "* This is a vital component to our recommendation system, thus we dropped all \"0\" entries & NaN values so every climb has a rating corresponding to it now.\n",
        ">* this decreased our data frame by 48%, but we still have aorund 2 million entries to work with which is plenty with the recommendation system"
      ]
    },
    {
      "cell_type": "code",
      "metadata": {
        "colab_type": "code",
        "outputId": "97f03967-115d-4d3c-de58-3069c9d46c5e",
        "id": "how7kb2rSLfL",
        "colab": {
          "base_uri": "https://localhost:8080/",
          "height": 170
        }
      },
      "source": [
        "#seeing the distribution of ratings\n",
        "ascent.rating.describe()"
      ],
      "execution_count": 10,
      "outputs": [
        {
          "output_type": "execute_result",
          "data": {
            "text/plain": [
              "count    2.064845e+06\n",
              "mean     2.283591e+00\n",
              "std      7.356160e-01\n",
              "min      1.000000e+00\n",
              "25%      2.000000e+00\n",
              "50%      2.000000e+00\n",
              "75%      3.000000e+00\n",
              "max      3.000000e+00\n",
              "Name: rating, dtype: float64"
            ]
          },
          "metadata": {
            "tags": []
          },
          "execution_count": 10
        }
      ]
    },
    {
      "cell_type": "code",
      "metadata": {
        "id": "r_RBn7xp_EAb",
        "colab_type": "code",
        "colab": {
          "base_uri": "https://localhost:8080/",
          "height": 525
        },
        "outputId": "f6c03301-f258-4ac3-c69f-db18364ff50a"
      },
      "source": [
        "#graphing the distribution of values\n",
        "sns.countplot(x =\"rating\", data= ascent)"
      ],
      "execution_count": 11,
      "outputs": [
        {
          "output_type": "execute_result",
          "data": {
            "text/plain": [
              "<matplotlib.axes._subplots.AxesSubplot at 0x7fd6c24b46a0>"
            ]
          },
          "metadata": {
            "tags": []
          },
          "execution_count": 11
        },
        {
          "output_type": "display_data",
          "data": {
            "image/png": "[encoded data removed]",
            "text/plain": [
              "<Figure size 1440x576 with 1 Axes>"
            ]
          },
          "metadata": {
            "tags": []
          }
        }
      ]
    },
    {
      "cell_type": "markdown",
      "metadata": {
        "id": "k5VBg3x7OSIb",
        "colab_type": "text"
      },
      "source": [
        "##Name & Crag Column\n",
        "\n",
        "* This column represents the name of the rock climb & crag name entered manually by the individual user\n",
        "* The name column is a very important feature of the data set, as it will be the output of my recommendation system\n",
        ">\n",
        "\n",
        "###Normalizing:\n",
        "\n",
        "* Make the column all lower case\n",
        "* Exchange the \"&\" sign for \"and\"\n",
        "* **Remove**: \n",
        ">* spaces before, after, or inbetween the names\n",
        ">* special characters (, . - ! ')\n",
        ">>* I will not include \"?\" because this represents invalid names\n",
        ">* take away all accent marks in foreign language names\n",
        "* **Filter out**: \n",
        ">* all these columns using a regex expression that only accepts letters & numbers, and turn anything that doesn't match this expression into NaN values. \n",
        ">>* after researching, I will leave numerics because there are some climbs that have all numerics as their name\n",
        ">* phrases such as \"I dont know\" and turn them into NaN values\n",
        ">* names that are less than three characters long to catch any fake names like \"x\", \"8\", or \"na\"     \n",
        "\n",
        "\n"
      ]
    },
    {
      "cell_type": "code",
      "metadata": {
        "id": "dfaXMZg5ORHa",
        "colab_type": "code",
        "colab": {}
      },
      "source": [
        "#Normalizing Name & Crag Column\n",
        "\n",
        "ascent[[\"name\", \"crag\"]] = ascent[[\"name\",\"crag\"]].apply(lambda x: x.str.lower().str.strip())#change all to lower case and striping away blank spaces before or after names\n",
        "ascent[[\"name\", \"crag\"]] = ascent[[\"name\", \"crag\"]].apply(lambda x: x.str.normalize('NFKD').str.encode('ascii', errors='ignore').str.decode('utf-8'))#taking away accent marks from foreign names\n",
        "ascent = ascent.replace(to_replace = \"[!\\-'.,]\", value = '', regex = True) #replacing all special characters with blanks\n",
        "ascent = ascent.replace(to_replace = \"[&]\", value = \"and\", regex = True) #replacing all & characters with \"and\""
      ],
      "execution_count": 0,
      "outputs": []
    },
    {
      "cell_type": "markdown",
      "metadata": {
        "id": "3mf0lQ76XIlv",
        "colab_type": "text"
      },
      "source": [
        "\n",
        "###NaN values:\n",
        ">* account for roughly 9% of the total data frame\n",
        ">* there would not be any way to accurately guess or imputate a name for these values \n",
        ">* this will be the output of my recommendation system, thus, is a critical component of my project, and would not be wise to incorrectly guess how to fill in these values\n",
        ">* since it accounts for less than 10%, I will be dropping all the NaN values\n",
        ">\n",
        "\n"
      ]
    },
    {
      "cell_type": "code",
      "metadata": {
        "id": "L46X-KXQZ55l",
        "colab_type": "code",
        "colab": {}
      },
      "source": [
        "#converting non-uniform strings into NaNs\n",
        "\n",
        "#convert the strings that dont fit the regex expression [only letters] to NaN values\n",
        "ascent = ascent.replace(\"[^a-zA-Z0-9]\", value = np.nan, regex = True) #converting anything but letters & numbers to null values\n",
        "\n",
        "#add values such as \"unknown\" to the NaN group\n",
        "ascent= ascent.replace(['','noname','nn','dontknow', 'idontknow', 'dontknowname', 'dunno', 'idunno', 'unknown', 'unnamed', 'noname', 'senzanome'],np.NaN, regex = True)\n",
        "\n",
        "#SIDE NOTE: this is how you would apply regex to a column:\n",
        "#ascent[column].replace(r'[^a-zA-Z0-9\\s]', np.nan, regex=True, inplace= True)"
      ],
      "execution_count": 0,
      "outputs": []
    },
    {
      "cell_type": "code",
      "metadata": {
        "id": "pi0qIG_pU-Nt",
        "colab_type": "code",
        "colab": {}
      },
      "source": [
        "#droping the NaN's from the name column:\n",
        "ascent= ascent.dropna(axis=0, subset=['name'])\n",
        "\n",
        "#double check\n",
        "assert ascent.name.notnull().all()"
      ],
      "execution_count": 0,
      "outputs": []
    },
    {
      "cell_type": "markdown",
      "metadata": {
        "id": "mhu2piFjvbdK",
        "colab_type": "text"
      },
      "source": [
        "###Filter out names with less than 3 characters:"
      ]
    },
    {
      "cell_type": "code",
      "metadata": {
        "id": "LUGfXsBWdCp0",
        "colab_type": "code",
        "colab": {}
      },
      "source": [
        "#filter out any names that are less than 3 characters:\n",
        "ascent = ascent[ascent['name'].str.len() > 3]\n",
        "ascent = ascent[ascent['crag'].str.len() > 3]\n"
      ],
      "execution_count": 0,
      "outputs": []
    },
    {
      "cell_type": "code",
      "metadata": {
        "id": "_wrniXpDdZkm",
        "colab_type": "code",
        "outputId": "76102d78-471c-4818-90d1-8326fa69ff4f",
        "colab": {
          "base_uri": "https://localhost:8080/",
          "height": 34
        }
      },
      "source": [
        "#check to see the size of the DF\n",
        "ascent.shape"
      ],
      "execution_count": 16,
      "outputs": [
        {
          "output_type": "execute_result",
          "data": {
            "text/plain": [
              "(439568, 7)"
            ]
          },
          "metadata": {
            "tags": []
          },
          "execution_count": 16
        }
      ]
    },
    {
      "cell_type": "markdown",
      "metadata": {
        "id": "CJTelGRmXVk8",
        "colab_type": "text"
      },
      "source": [
        "###Spelling Problem:\n",
        " >* There are multiple names that are spelled slightly different (example: \"red rocks\", \"red rock canyon\", \"redrock canyons\", \"red rocks cayons\"), and this will create noise in my dataset. \n",
        ">* **Potential Solutions**\n",
        "\n",
        "   >> 1. **Phonetic Encoding**\n",
        "   \n",
        "   >>>* First try the jellyfish soundex algorithm to convert a string to a normalized phonetic encoding\n",
        "   >>>* Next, try Double Metaphone which the author claims that in general it improves accuracy for all words to approximately 89% \n",
        "   \n",
        "   >>>* This strategy would correct misspellings and encode my name column all in one line of code!\n",
        "   >>>* **Potential problem** - if it too aggresively groups names together\n",
        "   >>>* spell corrector would not work here because there are foreign language values\n",
        "   \n",
        "   >>2. **Filter Out Low Frequency Names**\n",
        "   \n",
        " >>>* Although, not the most accurate answer, if a user misspells a name and enters that route on the website, the chances of another user entering and misspelling that name in the same way become less probable the greater the number of occurances. \n",
        " >>>* First, I will look at name groupings and see what happens to the number of name groups when filtering out x amount of name occurances.  \n",
        "   >>>* Next, I will filter out any names that don't occur x amount of times (to help filter out misspellings)\n",
        "   \n",
        "   >>3. **Fuzzy Wuzzy Techniques**\n",
        "   \n",
        " >>>* If my recommendation system results are inaccurate, I will go back and look into using some fuzzy wuzzy probability ratio techniques\n",
        " >>>* However, with time contraints, I will see if the filtering technique listed above will suffice\n",
        "\n"
      ]
    },
    {
      "cell_type": "markdown",
      "metadata": {
        "id": "6NgPJ48H-nop",
        "colab_type": "text"
      },
      "source": [
        "###1.Phonetic Techniques: Soundex\n",
        "\n",
        "* RESULT: Too aggresive grouping\n",
        "* Drops the number of groups from around 400,000 to 5,793"
      ]
    },
    {
      "cell_type": "code",
      "metadata": {
        "id": "M7rHO5RD-xWZ",
        "colab_type": "code",
        "outputId": "a78898fe-a58b-4bc0-8bcd-5d3436534942",
        "colab": {
          "base_uri": "https://localhost:8080/",
          "height": 1000
        }
      },
      "source": [
        "ascent[\"soundex\"] = ascent.name.apply(lambda x: jellyfish.soundex(x))\n",
        "ascent.groupby(\"soundex\").agg({\"name\": lambda x: \", \".join(x)})#see how soundex is grouping the values together"
      ],
      "execution_count": 17,
      "outputs": [
        {
          "output_type": "execute_result",
          "data": {
            "text/html": [
              "<div>\n",
              "<style scoped>\n",
              "    .dataframe tbody tr th:only-of-type {\n",
              "        vertical-align: middle;\n",
              "    }\n",
              "\n",
              "    .dataframe tbody tr th {\n",
              "        vertical-align: top;\n",
              "    }\n",
              "\n",
              "    .dataframe thead th {\n",
              "        text-align: right;\n",
              "    }\n",
              "</style>\n",
              "<table border=\"1\" class=\"dataframe\">\n",
              "  <thead>\n",
              "    <tr style=\"text-align: right;\">\n",
              "      <th></th>\n",
              "      <th>name</th>\n",
              "    </tr>\n",
              "    <tr>\n",
              "      <th>soundex</th>\n",
              "      <th></th>\n",
              "    </tr>\n",
              "  </thead>\n",
              "  <tbody>\n",
              "    <tr>\n",
              "      <th>0000</th>\n",
              "      <td>0815, 0815, 0815, 0815, 0203, 0815, 0815, 0815...</td>\n",
              "    </tr>\n",
              "    <tr>\n",
              "      <th>0200</th>\n",
              "      <td>0cyo</td>\n",
              "    </tr>\n",
              "    <tr>\n",
              "      <th>1000</th>\n",
              "      <td>1789, 1996, 1708090, 1996, 1996, 1996, 1912, 1...</td>\n",
              "    </tr>\n",
              "    <tr>\n",
              "      <th>1100</th>\n",
              "      <td>14bw, 108v, 15bb, 125b, 10hp, 1av4</td>\n",
              "    </tr>\n",
              "    <tr>\n",
              "      <th>1120</th>\n",
              "      <td>12bis, 10bis</td>\n",
              "    </tr>\n",
              "    <tr>\n",
              "      <th>1140</th>\n",
              "      <td>1blue, 11blau, 12blau</td>\n",
              "    </tr>\n",
              "    <tr>\n",
              "      <th>1142</th>\n",
              "      <td>1black</td>\n",
              "    </tr>\n",
              "    <tr>\n",
              "      <th>1145</th>\n",
              "      <td>11blanc</td>\n",
              "    </tr>\n",
              "    <tr>\n",
              "      <th>1151</th>\n",
              "      <td>1bamf, 1bamf</td>\n",
              "    </tr>\n",
              "    <tr>\n",
              "      <th>1153</th>\n",
              "      <td>1001pfundweg</td>\n",
              "    </tr>\n",
              "    <tr>\n",
              "      <th>1162</th>\n",
              "      <td>1prosenten, 1verschneidung</td>\n",
              "    </tr>\n",
              "    <tr>\n",
              "      <th>1164</th>\n",
              "      <td>18april</td>\n",
              "    </tr>\n",
              "    <tr>\n",
              "      <th>1200</th>\n",
              "      <td>111s, 111s, 111s, 111s, 111s, 111s, 111s, 16oz...</td>\n",
              "    </tr>\n",
              "    <tr>\n",
              "      <th>1213</th>\n",
              "      <td>1kapittel, 11september</td>\n",
              "    </tr>\n",
              "    <tr>\n",
              "      <th>1235</th>\n",
              "      <td>12stammen</td>\n",
              "    </tr>\n",
              "    <tr>\n",
              "      <th>1243</th>\n",
              "      <td>13saltando</td>\n",
              "    </tr>\n",
              "    <tr>\n",
              "      <th>1253</th>\n",
              "      <td>19kanten, 1kante, 1kante</td>\n",
              "    </tr>\n",
              "    <tr>\n",
              "      <th>1300</th>\n",
              "      <td>10d1a</td>\n",
              "    </tr>\n",
              "    <tr>\n",
              "      <th>1351</th>\n",
              "      <td>10tenpie</td>\n",
              "    </tr>\n",
              "    <tr>\n",
              "      <th>1400</th>\n",
              "      <td>10l1</td>\n",
              "    </tr>\n",
              "    <tr>\n",
              "      <th>1412</th>\n",
              "      <td>1hilfekurs</td>\n",
              "    </tr>\n",
              "    <tr>\n",
              "      <th>1452</th>\n",
              "      <td>1linksderkante</td>\n",
              "    </tr>\n",
              "    <tr>\n",
              "      <th>1500</th>\n",
              "      <td>15mm, 198m, 11mm, 1mai, 1mai</td>\n",
              "    </tr>\n",
              "    <tr>\n",
              "      <th>1523</th>\n",
              "      <td>1001nacht</td>\n",
              "    </tr>\n",
              "    <tr>\n",
              "      <th>1536</th>\n",
              "      <td>100meterskogen</td>\n",
              "    </tr>\n",
              "    <tr>\n",
              "      <th>1540</th>\n",
              "      <td>1mal1</td>\n",
              "    </tr>\n",
              "    <tr>\n",
              "      <th>1562</th>\n",
              "      <td>1000markwand</td>\n",
              "    </tr>\n",
              "    <tr>\n",
              "      <th>1565</th>\n",
              "      <td>19nor4androsten317dion</td>\n",
              "    </tr>\n",
              "    <tr>\n",
              "      <th>1610</th>\n",
              "      <td>100aroba</td>\n",
              "    </tr>\n",
              "    <tr>\n",
              "      <th>1612</th>\n",
              "      <td>1rvvogelgrippe</td>\n",
              "    </tr>\n",
              "    <tr>\n",
              "      <th>...</th>\n",
              "      <td>...</td>\n",
              "    </tr>\n",
              "    <tr>\n",
              "      <th>Z562</th>\n",
              "      <td>zahnwehherrgott, zahnwehhergott, zahnwehherrgott</td>\n",
              "    </tr>\n",
              "    <tr>\n",
              "      <th>Z563</th>\n",
              "      <td>zanardi, zmrtvychvstanie, zanardi, zimorodek</td>\n",
              "    </tr>\n",
              "    <tr>\n",
              "      <th>Z564</th>\n",
              "      <td>zehnerl, zehnerl</td>\n",
              "    </tr>\n",
              "    <tr>\n",
              "      <th>Z600</th>\n",
              "      <td>zorro, zorro, zaray, zaray, zorro, zero, zero,...</td>\n",
              "    </tr>\n",
              "    <tr>\n",
              "      <th>Z610</th>\n",
              "      <td>zarbi, zarbi, zeropo, zorba, zeropo, zarbi, za...</td>\n",
              "    </tr>\n",
              "    <tr>\n",
              "      <th>Z612</th>\n",
              "      <td>zarrapastron, zarpas, zorpock, zerpasatzen, zo...</td>\n",
              "    </tr>\n",
              "    <tr>\n",
              "      <th>Z613</th>\n",
              "      <td>zarpado</td>\n",
              "    </tr>\n",
              "    <tr>\n",
              "      <th>Z614</th>\n",
              "      <td>zarpalgata, zarpalgata, zarpalejos</td>\n",
              "    </tr>\n",
              "    <tr>\n",
              "      <th>Z615</th>\n",
              "      <td>zirbenkastenablaugprozess, zirbenkastenablaugp...</td>\n",
              "    </tr>\n",
              "    <tr>\n",
              "      <th>Z616</th>\n",
              "      <td>zerreiprobe, zerberus, zerreiprobe, zerreiprob...</td>\n",
              "    </tr>\n",
              "    <tr>\n",
              "      <th>Z620</th>\n",
              "      <td>zooyork, zarja, zarja, zcars, zarja, zarja, za...</td>\n",
              "    </tr>\n",
              "    <tr>\n",
              "      <th>Z621</th>\n",
              "      <td>zurraspas, zwergpiraten, zergevadasz, zergevad...</td>\n",
              "    </tr>\n",
              "    <tr>\n",
              "      <th>Z622</th>\n",
              "      <td>zarcasme, zirkusriss, zarzagora, zwerghasi, zw...</td>\n",
              "    </tr>\n",
              "    <tr>\n",
              "      <th>Z623</th>\n",
              "      <td>zwergtal, zwierciadeko, zirikatu, zwierciadeko...</td>\n",
              "    </tr>\n",
              "    <tr>\n",
              "      <th>Z624</th>\n",
              "      <td>zwargli, zirkel, zwirgl, zarcilleta, zarcillet...</td>\n",
              "    </tr>\n",
              "    <tr>\n",
              "      <th>Z625</th>\n",
              "      <td>zwergentod, zarzamora, zwergentod, zwergentod,...</td>\n",
              "    </tr>\n",
              "    <tr>\n",
              "      <th>Z626</th>\n",
              "      <td>zwergerlaufstand, zerogravity, zirkorrika, zir...</td>\n",
              "    </tr>\n",
              "    <tr>\n",
              "      <th>Z630</th>\n",
              "      <td>zwart, zwart, zwart, zkrat, zkrat, zkrat, zkra...</td>\n",
              "    </tr>\n",
              "    <tr>\n",
              "      <th>Z631</th>\n",
              "      <td>zartbitter, zartbitter, zartbitter</td>\n",
              "    </tr>\n",
              "    <tr>\n",
              "      <th>Z632</th>\n",
              "      <td>zerdust, zarathustra, zardos, zaratustra, zerd...</td>\n",
              "    </tr>\n",
              "    <tr>\n",
              "      <th>Z635</th>\n",
              "      <td>zardanadam, zartamora, ziritione, ziritione</td>\n",
              "    </tr>\n",
              "    <tr>\n",
              "      <th>Z636</th>\n",
              "      <td>zerodur, zerodur, zerodur, zaratrusta, zerodur...</td>\n",
              "    </tr>\n",
              "    <tr>\n",
              "      <th>Z640</th>\n",
              "      <td>zorrillo, zorrillo, zorrillo, zorrillo, zorril...</td>\n",
              "    </tr>\n",
              "    <tr>\n",
              "      <th>Z642</th>\n",
              "      <td>zierleistentraverse, zorrillos</td>\n",
              "    </tr>\n",
              "    <tr>\n",
              "      <th>Z643</th>\n",
              "      <td>zurrullade, zurrullade, zorilda, zorilda, zorilda</td>\n",
              "    </tr>\n",
              "    <tr>\n",
              "      <th>Z650</th>\n",
              "      <td>zarma, zwirownia, zoran, zwirownia, zwirownia,...</td>\n",
              "    </tr>\n",
              "    <tr>\n",
              "      <th>Z651</th>\n",
              "      <td>zurrunburu, zurrunburu, zorrunbilo</td>\n",
              "    </tr>\n",
              "    <tr>\n",
              "      <th>Z652</th>\n",
              "      <td>zirmgeist, zirmgeist, zirmzuschze, zorongollo</td>\n",
              "    </tr>\n",
              "    <tr>\n",
              "      <th>Z655</th>\n",
              "      <td>ziehharmonika, zarmina, zarmina, zarmina, zarm...</td>\n",
              "    </tr>\n",
              "    <tr>\n",
              "      <th>Z662</th>\n",
              "      <td>zerrerschwein</td>\n",
              "    </tr>\n",
              "  </tbody>\n",
              "</table>\n",
              "<p>5530 rows × 1 columns</p>\n",
              "</div>"
            ],
            "text/plain": [
              "                                                      name\n",
              "soundex                                                   \n",
              "0000     0815, 0815, 0815, 0815, 0203, 0815, 0815, 0815...\n",
              "0200                                                  0cyo\n",
              "1000     1789, 1996, 1708090, 1996, 1996, 1996, 1912, 1...\n",
              "1100                    14bw, 108v, 15bb, 125b, 10hp, 1av4\n",
              "1120                                          12bis, 10bis\n",
              "1140                                 1blue, 11blau, 12blau\n",
              "1142                                                1black\n",
              "1145                                               11blanc\n",
              "1151                                          1bamf, 1bamf\n",
              "1153                                          1001pfundweg\n",
              "1162                            1prosenten, 1verschneidung\n",
              "1164                                               18april\n",
              "1200     111s, 111s, 111s, 111s, 111s, 111s, 111s, 16oz...\n",
              "1213                                1kapittel, 11september\n",
              "1235                                             12stammen\n",
              "1243                                            13saltando\n",
              "1253                              19kanten, 1kante, 1kante\n",
              "1300                                                 10d1a\n",
              "1351                                              10tenpie\n",
              "1400                                                  10l1\n",
              "1412                                            1hilfekurs\n",
              "1452                                        1linksderkante\n",
              "1500                          15mm, 198m, 11mm, 1mai, 1mai\n",
              "1523                                             1001nacht\n",
              "1536                                        100meterskogen\n",
              "1540                                                 1mal1\n",
              "1562                                          1000markwand\n",
              "1565                                19nor4androsten317dion\n",
              "1610                                              100aroba\n",
              "1612                                        1rvvogelgrippe\n",
              "...                                                    ...\n",
              "Z562      zahnwehherrgott, zahnwehhergott, zahnwehherrgott\n",
              "Z563          zanardi, zmrtvychvstanie, zanardi, zimorodek\n",
              "Z564                                      zehnerl, zehnerl\n",
              "Z600     zorro, zorro, zaray, zaray, zorro, zero, zero,...\n",
              "Z610     zarbi, zarbi, zeropo, zorba, zeropo, zarbi, za...\n",
              "Z612     zarrapastron, zarpas, zorpock, zerpasatzen, zo...\n",
              "Z613                                               zarpado\n",
              "Z614                    zarpalgata, zarpalgata, zarpalejos\n",
              "Z615     zirbenkastenablaugprozess, zirbenkastenablaugp...\n",
              "Z616     zerreiprobe, zerberus, zerreiprobe, zerreiprob...\n",
              "Z620     zooyork, zarja, zarja, zcars, zarja, zarja, za...\n",
              "Z621     zurraspas, zwergpiraten, zergevadasz, zergevad...\n",
              "Z622     zarcasme, zirkusriss, zarzagora, zwerghasi, zw...\n",
              "Z623     zwergtal, zwierciadeko, zirikatu, zwierciadeko...\n",
              "Z624     zwargli, zirkel, zwirgl, zarcilleta, zarcillet...\n",
              "Z625     zwergentod, zarzamora, zwergentod, zwergentod,...\n",
              "Z626     zwergerlaufstand, zerogravity, zirkorrika, zir...\n",
              "Z630     zwart, zwart, zwart, zkrat, zkrat, zkrat, zkra...\n",
              "Z631                    zartbitter, zartbitter, zartbitter\n",
              "Z632     zerdust, zarathustra, zardos, zaratustra, zerd...\n",
              "Z635           zardanadam, zartamora, ziritione, ziritione\n",
              "Z636     zerodur, zerodur, zerodur, zaratrusta, zerodur...\n",
              "Z640     zorrillo, zorrillo, zorrillo, zorrillo, zorril...\n",
              "Z642                        zierleistentraverse, zorrillos\n",
              "Z643     zurrullade, zurrullade, zorilda, zorilda, zorilda\n",
              "Z650     zarma, zwirownia, zoran, zwirownia, zwirownia,...\n",
              "Z651                    zurrunburu, zurrunburu, zorrunbilo\n",
              "Z652         zirmgeist, zirmgeist, zirmzuschze, zorongollo\n",
              "Z655     ziehharmonika, zarmina, zarmina, zarmina, zarm...\n",
              "Z662                                         zerrerschwein\n",
              "\n",
              "[5530 rows x 1 columns]"
            ]
          },
          "metadata": {
            "tags": []
          },
          "execution_count": 17
        }
      ]
    },
    {
      "cell_type": "code",
      "metadata": {
        "id": "WXCVh9wnBrZE",
        "colab_type": "code",
        "outputId": "c25375f4-1505-4ddf-82ea-0a923628091e",
        "colab": {
          "base_uri": "https://localhost:8080/",
          "height": 1000
        }
      },
      "source": [
        "#close up of one soundex group Z610 where you can see all the incorrect names it groups\n",
        "ascent[ascent.soundex == 'Z610'] "
      ],
      "execution_count": 18,
      "outputs": [
        {
          "output_type": "execute_result",
          "data": {
            "text/html": [
              "<div>\n",
              "<style scoped>\n",
              "    .dataframe tbody tr th:only-of-type {\n",
              "        vertical-align: middle;\n",
              "    }\n",
              "\n",
              "    .dataframe tbody tr th {\n",
              "        vertical-align: top;\n",
              "    }\n",
              "\n",
              "    .dataframe thead th {\n",
              "        text-align: right;\n",
              "    }\n",
              "</style>\n",
              "<table border=\"1\" class=\"dataframe\">\n",
              "  <thead>\n",
              "    <tr style=\"text-align: right;\">\n",
              "      <th></th>\n",
              "      <th>user_id</th>\n",
              "      <th>name</th>\n",
              "      <th>rating</th>\n",
              "      <th>country</th>\n",
              "      <th>climb_type</th>\n",
              "      <th>grade_id</th>\n",
              "      <th>crag</th>\n",
              "      <th>soundex</th>\n",
              "    </tr>\n",
              "  </thead>\n",
              "  <tbody>\n",
              "    <tr>\n",
              "      <th>102128</th>\n",
              "      <td>3933</td>\n",
              "      <td>zarbi</td>\n",
              "      <td>2</td>\n",
              "      <td>FRA</td>\n",
              "      <td>0</td>\n",
              "      <td>53</td>\n",
              "      <td>volx</td>\n",
              "      <td>Z610</td>\n",
              "    </tr>\n",
              "    <tr>\n",
              "      <th>311199</th>\n",
              "      <td>10640</td>\n",
              "      <td>zarbi</td>\n",
              "      <td>1</td>\n",
              "      <td>FRA</td>\n",
              "      <td>0</td>\n",
              "      <td>53</td>\n",
              "      <td>volx</td>\n",
              "      <td>Z610</td>\n",
              "    </tr>\n",
              "    <tr>\n",
              "      <th>408947</th>\n",
              "      <td>13431</td>\n",
              "      <td>zeropo</td>\n",
              "      <td>2</td>\n",
              "      <td>FRA</td>\n",
              "      <td>1</td>\n",
              "      <td>51</td>\n",
              "      <td>granite</td>\n",
              "      <td>Z610</td>\n",
              "    </tr>\n",
              "    <tr>\n",
              "      <th>482326</th>\n",
              "      <td>4666</td>\n",
              "      <td>zorba</td>\n",
              "      <td>2</td>\n",
              "      <td>CHE</td>\n",
              "      <td>1</td>\n",
              "      <td>42</td>\n",
              "      <td>chironico</td>\n",
              "      <td>Z610</td>\n",
              "    </tr>\n",
              "    <tr>\n",
              "      <th>502583</th>\n",
              "      <td>15897</td>\n",
              "      <td>zeropo</td>\n",
              "      <td>2</td>\n",
              "      <td>FRA</td>\n",
              "      <td>1</td>\n",
              "      <td>51</td>\n",
              "      <td>ailefroide</td>\n",
              "      <td>Z610</td>\n",
              "    </tr>\n",
              "    <tr>\n",
              "      <th>538382</th>\n",
              "      <td>10</td>\n",
              "      <td>zarbi</td>\n",
              "      <td>1</td>\n",
              "      <td>FRA</td>\n",
              "      <td>0</td>\n",
              "      <td>51</td>\n",
              "      <td>volx</td>\n",
              "      <td>Z610</td>\n",
              "    </tr>\n",
              "    <tr>\n",
              "      <th>716424</th>\n",
              "      <td>2508</td>\n",
              "      <td>zarbi</td>\n",
              "      <td>3</td>\n",
              "      <td>FRA</td>\n",
              "      <td>0</td>\n",
              "      <td>53</td>\n",
              "      <td>volx</td>\n",
              "      <td>Z610</td>\n",
              "    </tr>\n",
              "    <tr>\n",
              "      <th>837523</th>\n",
              "      <td>17904</td>\n",
              "      <td>zarbi</td>\n",
              "      <td>3</td>\n",
              "      <td>FRA</td>\n",
              "      <td>0</td>\n",
              "      <td>53</td>\n",
              "      <td>volx</td>\n",
              "      <td>Z610</td>\n",
              "    </tr>\n",
              "    <tr>\n",
              "      <th>871421</th>\n",
              "      <td>16578</td>\n",
              "      <td>zarbi</td>\n",
              "      <td>3</td>\n",
              "      <td>FRA</td>\n",
              "      <td>0</td>\n",
              "      <td>53</td>\n",
              "      <td>volx</td>\n",
              "      <td>Z610</td>\n",
              "    </tr>\n",
              "    <tr>\n",
              "      <th>880074</th>\n",
              "      <td>23929</td>\n",
              "      <td>zarbi</td>\n",
              "      <td>3</td>\n",
              "      <td>FRA</td>\n",
              "      <td>0</td>\n",
              "      <td>53</td>\n",
              "      <td>volx</td>\n",
              "      <td>Z610</td>\n",
              "    </tr>\n",
              "    <tr>\n",
              "      <th>891727</th>\n",
              "      <td>18657</td>\n",
              "      <td>zarbi</td>\n",
              "      <td>3</td>\n",
              "      <td>FRA</td>\n",
              "      <td>0</td>\n",
              "      <td>53</td>\n",
              "      <td>volx</td>\n",
              "      <td>Z610</td>\n",
              "    </tr>\n",
              "    <tr>\n",
              "      <th>902462</th>\n",
              "      <td>9767</td>\n",
              "      <td>zcurve</td>\n",
              "      <td>2</td>\n",
              "      <td>USA</td>\n",
              "      <td>0</td>\n",
              "      <td>59</td>\n",
              "      <td>hurricave</td>\n",
              "      <td>Z610</td>\n",
              "    </tr>\n",
              "    <tr>\n",
              "      <th>927553</th>\n",
              "      <td>10065</td>\n",
              "      <td>zarbi</td>\n",
              "      <td>3</td>\n",
              "      <td>FRA</td>\n",
              "      <td>0</td>\n",
              "      <td>53</td>\n",
              "      <td>volx</td>\n",
              "      <td>Z610</td>\n",
              "    </tr>\n",
              "    <tr>\n",
              "      <th>933883</th>\n",
              "      <td>21165</td>\n",
              "      <td>zarbi</td>\n",
              "      <td>3</td>\n",
              "      <td>FRA</td>\n",
              "      <td>0</td>\n",
              "      <td>53</td>\n",
              "      <td>volx</td>\n",
              "      <td>Z610</td>\n",
              "    </tr>\n",
              "    <tr>\n",
              "      <th>1147015</th>\n",
              "      <td>6465</td>\n",
              "      <td>zhurba</td>\n",
              "      <td>3</td>\n",
              "      <td>UKR</td>\n",
              "      <td>1</td>\n",
              "      <td>51</td>\n",
              "      <td>yamelnica</td>\n",
              "      <td>Z610</td>\n",
              "    </tr>\n",
              "    <tr>\n",
              "      <th>1202633</th>\n",
              "      <td>23762</td>\n",
              "      <td>zarbi</td>\n",
              "      <td>2</td>\n",
              "      <td>FRA</td>\n",
              "      <td>0</td>\n",
              "      <td>53</td>\n",
              "      <td>volx</td>\n",
              "      <td>Z610</td>\n",
              "    </tr>\n",
              "    <tr>\n",
              "      <th>1223840</th>\n",
              "      <td>29530</td>\n",
              "      <td>zarbi</td>\n",
              "      <td>1</td>\n",
              "      <td>FRA</td>\n",
              "      <td>0</td>\n",
              "      <td>53</td>\n",
              "      <td>volx</td>\n",
              "      <td>Z610</td>\n",
              "    </tr>\n",
              "    <tr>\n",
              "      <th>1280331</th>\n",
              "      <td>5042</td>\n",
              "      <td>zarbi</td>\n",
              "      <td>2</td>\n",
              "      <td>FRA</td>\n",
              "      <td>0</td>\n",
              "      <td>53</td>\n",
              "      <td>volx</td>\n",
              "      <td>Z610</td>\n",
              "    </tr>\n",
              "    <tr>\n",
              "      <th>1438424</th>\n",
              "      <td>29420</td>\n",
              "      <td>zarbi</td>\n",
              "      <td>2</td>\n",
              "      <td>FRA</td>\n",
              "      <td>0</td>\n",
              "      <td>53</td>\n",
              "      <td>volx</td>\n",
              "      <td>Z610</td>\n",
              "    </tr>\n",
              "    <tr>\n",
              "      <th>1456156</th>\n",
              "      <td>4585</td>\n",
              "      <td>zorba</td>\n",
              "      <td>1</td>\n",
              "      <td>SWE</td>\n",
              "      <td>1</td>\n",
              "      <td>44</td>\n",
              "      <td>vallhamra</td>\n",
              "      <td>Z610</td>\n",
              "    </tr>\n",
              "    <tr>\n",
              "      <th>1492147</th>\n",
              "      <td>12629</td>\n",
              "      <td>zarbi</td>\n",
              "      <td>3</td>\n",
              "      <td>FRA</td>\n",
              "      <td>0</td>\n",
              "      <td>53</td>\n",
              "      <td>volx</td>\n",
              "      <td>Z610</td>\n",
              "    </tr>\n",
              "    <tr>\n",
              "      <th>1495229</th>\n",
              "      <td>23409</td>\n",
              "      <td>zarbi</td>\n",
              "      <td>2</td>\n",
              "      <td>FRA</td>\n",
              "      <td>0</td>\n",
              "      <td>53</td>\n",
              "      <td>volx</td>\n",
              "      <td>Z610</td>\n",
              "    </tr>\n",
              "    <tr>\n",
              "      <th>1510805</th>\n",
              "      <td>29842</td>\n",
              "      <td>zarbi</td>\n",
              "      <td>2</td>\n",
              "      <td>FRA</td>\n",
              "      <td>0</td>\n",
              "      <td>53</td>\n",
              "      <td>volx</td>\n",
              "      <td>Z610</td>\n",
              "    </tr>\n",
              "    <tr>\n",
              "      <th>1553988</th>\n",
              "      <td>34496</td>\n",
              "      <td>zarbi</td>\n",
              "      <td>3</td>\n",
              "      <td>FRA</td>\n",
              "      <td>0</td>\n",
              "      <td>53</td>\n",
              "      <td>volx</td>\n",
              "      <td>Z610</td>\n",
              "    </tr>\n",
              "    <tr>\n",
              "      <th>1606255</th>\n",
              "      <td>3599</td>\n",
              "      <td>zorba</td>\n",
              "      <td>1</td>\n",
              "      <td>SWE</td>\n",
              "      <td>1</td>\n",
              "      <td>44</td>\n",
              "      <td>vallhamra</td>\n",
              "      <td>Z610</td>\n",
              "    </tr>\n",
              "    <tr>\n",
              "      <th>1778641</th>\n",
              "      <td>12583</td>\n",
              "      <td>zarbi</td>\n",
              "      <td>2</td>\n",
              "      <td>FRA</td>\n",
              "      <td>0</td>\n",
              "      <td>53</td>\n",
              "      <td>volx</td>\n",
              "      <td>Z610</td>\n",
              "    </tr>\n",
              "    <tr>\n",
              "      <th>1984565</th>\n",
              "      <td>36400</td>\n",
              "      <td>zorba</td>\n",
              "      <td>2</td>\n",
              "      <td>SWE</td>\n",
              "      <td>1</td>\n",
              "      <td>51</td>\n",
              "      <td>vallhamra</td>\n",
              "      <td>Z610</td>\n",
              "    </tr>\n",
              "    <tr>\n",
              "      <th>1986167</th>\n",
              "      <td>35352</td>\n",
              "      <td>zarbi</td>\n",
              "      <td>1</td>\n",
              "      <td>FRA</td>\n",
              "      <td>0</td>\n",
              "      <td>53</td>\n",
              "      <td>volx</td>\n",
              "      <td>Z610</td>\n",
              "    </tr>\n",
              "    <tr>\n",
              "      <th>2073988</th>\n",
              "      <td>16866</td>\n",
              "      <td>zoouropa</td>\n",
              "      <td>2</td>\n",
              "      <td>ITA</td>\n",
              "      <td>0</td>\n",
              "      <td>57</td>\n",
              "      <td>zoia</td>\n",
              "      <td>Z610</td>\n",
              "    </tr>\n",
              "    <tr>\n",
              "      <th>2074672</th>\n",
              "      <td>24909</td>\n",
              "      <td>zarbi</td>\n",
              "      <td>2</td>\n",
              "      <td>FRA</td>\n",
              "      <td>0</td>\n",
              "      <td>53</td>\n",
              "      <td>volx</td>\n",
              "      <td>Z610</td>\n",
              "    </tr>\n",
              "    <tr>\n",
              "      <th>2113978</th>\n",
              "      <td>34126</td>\n",
              "      <td>zoouropa</td>\n",
              "      <td>3</td>\n",
              "      <td>ITA</td>\n",
              "      <td>0</td>\n",
              "      <td>57</td>\n",
              "      <td>zoia</td>\n",
              "      <td>Z610</td>\n",
              "    </tr>\n",
              "    <tr>\n",
              "      <th>2471666</th>\n",
              "      <td>40247</td>\n",
              "      <td>zarbi</td>\n",
              "      <td>2</td>\n",
              "      <td>FRA</td>\n",
              "      <td>0</td>\n",
              "      <td>53</td>\n",
              "      <td>volx</td>\n",
              "      <td>Z610</td>\n",
              "    </tr>\n",
              "    <tr>\n",
              "      <th>2610190</th>\n",
              "      <td>19612</td>\n",
              "      <td>zarbi</td>\n",
              "      <td>3</td>\n",
              "      <td>FRA</td>\n",
              "      <td>0</td>\n",
              "      <td>53</td>\n",
              "      <td>volx</td>\n",
              "      <td>Z610</td>\n",
              "    </tr>\n",
              "    <tr>\n",
              "      <th>2687356</th>\n",
              "      <td>8124</td>\n",
              "      <td>zkarp</td>\n",
              "      <td>2</td>\n",
              "      <td>NOR</td>\n",
              "      <td>1</td>\n",
              "      <td>53</td>\n",
              "      <td>stmarka</td>\n",
              "      <td>Z610</td>\n",
              "    </tr>\n",
              "    <tr>\n",
              "      <th>2710817</th>\n",
              "      <td>46510</td>\n",
              "      <td>zirafa</td>\n",
              "      <td>2</td>\n",
              "      <td>SVN</td>\n",
              "      <td>0</td>\n",
              "      <td>49</td>\n",
              "      <td>kotecnik</td>\n",
              "      <td>Z610</td>\n",
              "    </tr>\n",
              "    <tr>\n",
              "      <th>2806420</th>\n",
              "      <td>42607</td>\n",
              "      <td>zoouropa</td>\n",
              "      <td>2</td>\n",
              "      <td>ITA</td>\n",
              "      <td>0</td>\n",
              "      <td>57</td>\n",
              "      <td>zoia</td>\n",
              "      <td>Z610</td>\n",
              "    </tr>\n",
              "    <tr>\n",
              "      <th>2844668</th>\n",
              "      <td>37912</td>\n",
              "      <td>zarbi</td>\n",
              "      <td>2</td>\n",
              "      <td>FRA</td>\n",
              "      <td>0</td>\n",
              "      <td>53</td>\n",
              "      <td>volx</td>\n",
              "      <td>Z610</td>\n",
              "    </tr>\n",
              "    <tr>\n",
              "      <th>2846062</th>\n",
              "      <td>23842</td>\n",
              "      <td>zarbi</td>\n",
              "      <td>2</td>\n",
              "      <td>FRA</td>\n",
              "      <td>0</td>\n",
              "      <td>53</td>\n",
              "      <td>volx</td>\n",
              "      <td>Z610</td>\n",
              "    </tr>\n",
              "    <tr>\n",
              "      <th>2971213</th>\n",
              "      <td>20287</td>\n",
              "      <td>zarbi</td>\n",
              "      <td>2</td>\n",
              "      <td>FRA</td>\n",
              "      <td>0</td>\n",
              "      <td>53</td>\n",
              "      <td>volx</td>\n",
              "      <td>Z610</td>\n",
              "    </tr>\n",
              "    <tr>\n",
              "      <th>3274112</th>\n",
              "      <td>4997</td>\n",
              "      <td>zooropa</td>\n",
              "      <td>3</td>\n",
              "      <td>ITA</td>\n",
              "      <td>0</td>\n",
              "      <td>62</td>\n",
              "      <td>baratro</td>\n",
              "      <td>Z610</td>\n",
              "    </tr>\n",
              "    <tr>\n",
              "      <th>3291741</th>\n",
              "      <td>25997</td>\n",
              "      <td>zkarp</td>\n",
              "      <td>1</td>\n",
              "      <td>NOR</td>\n",
              "      <td>1</td>\n",
              "      <td>53</td>\n",
              "      <td>stmarka</td>\n",
              "      <td>Z610</td>\n",
              "    </tr>\n",
              "    <tr>\n",
              "      <th>3317159</th>\n",
              "      <td>19325</td>\n",
              "      <td>zorba</td>\n",
              "      <td>3</td>\n",
              "      <td>GRC</td>\n",
              "      <td>0</td>\n",
              "      <td>57</td>\n",
              "      <td>kalymnos</td>\n",
              "      <td>Z610</td>\n",
              "    </tr>\n",
              "    <tr>\n",
              "      <th>3544260</th>\n",
              "      <td>62800</td>\n",
              "      <td>zorba</td>\n",
              "      <td>3</td>\n",
              "      <td>GRC</td>\n",
              "      <td>0</td>\n",
              "      <td>57</td>\n",
              "      <td>kalymnos</td>\n",
              "      <td>Z610</td>\n",
              "    </tr>\n",
              "    <tr>\n",
              "      <th>3547381</th>\n",
              "      <td>60021</td>\n",
              "      <td>zurafa</td>\n",
              "      <td>3</td>\n",
              "      <td>TUR</td>\n",
              "      <td>0</td>\n",
              "      <td>59</td>\n",
              "      <td>citdibi</td>\n",
              "      <td>Z610</td>\n",
              "    </tr>\n",
              "    <tr>\n",
              "      <th>3609983</th>\n",
              "      <td>38489</td>\n",
              "      <td>zurafa</td>\n",
              "      <td>3</td>\n",
              "      <td>TUR</td>\n",
              "      <td>0</td>\n",
              "      <td>59</td>\n",
              "      <td>citdibi</td>\n",
              "      <td>Z610</td>\n",
              "    </tr>\n",
              "    <tr>\n",
              "      <th>3682664</th>\n",
              "      <td>17086</td>\n",
              "      <td>zooropa</td>\n",
              "      <td>2</td>\n",
              "      <td>ITA</td>\n",
              "      <td>0</td>\n",
              "      <td>62</td>\n",
              "      <td>baratro</td>\n",
              "      <td>Z610</td>\n",
              "    </tr>\n",
              "    <tr>\n",
              "      <th>3699270</th>\n",
              "      <td>63880</td>\n",
              "      <td>zorba</td>\n",
              "      <td>2</td>\n",
              "      <td>GRC</td>\n",
              "      <td>0</td>\n",
              "      <td>62</td>\n",
              "      <td>kalymnos</td>\n",
              "      <td>Z610</td>\n",
              "    </tr>\n",
              "    <tr>\n",
              "      <th>3720702</th>\n",
              "      <td>16044</td>\n",
              "      <td>zorba</td>\n",
              "      <td>3</td>\n",
              "      <td>GRC</td>\n",
              "      <td>0</td>\n",
              "      <td>55</td>\n",
              "      <td>kalymnos</td>\n",
              "      <td>Z610</td>\n",
              "    </tr>\n",
              "    <tr>\n",
              "      <th>3747444</th>\n",
              "      <td>5528</td>\n",
              "      <td>zorba</td>\n",
              "      <td>2</td>\n",
              "      <td>GRC</td>\n",
              "      <td>0</td>\n",
              "      <td>57</td>\n",
              "      <td>kalymnos</td>\n",
              "      <td>Z610</td>\n",
              "    </tr>\n",
              "    <tr>\n",
              "      <th>3865403</th>\n",
              "      <td>28860</td>\n",
              "      <td>zirafa</td>\n",
              "      <td>2</td>\n",
              "      <td>SVN</td>\n",
              "      <td>0</td>\n",
              "      <td>49</td>\n",
              "      <td>kotecnik</td>\n",
              "      <td>Z610</td>\n",
              "    </tr>\n",
              "    <tr>\n",
              "      <th>3873711</th>\n",
              "      <td>18308</td>\n",
              "      <td>zirafa</td>\n",
              "      <td>3</td>\n",
              "      <td>SVN</td>\n",
              "      <td>0</td>\n",
              "      <td>49</td>\n",
              "      <td>kotecnik</td>\n",
              "      <td>Z610</td>\n",
              "    </tr>\n",
              "    <tr>\n",
              "      <th>3985246</th>\n",
              "      <td>7505</td>\n",
              "      <td>zooropa</td>\n",
              "      <td>3</td>\n",
              "      <td>ITA</td>\n",
              "      <td>0</td>\n",
              "      <td>57</td>\n",
              "      <td>baratro</td>\n",
              "      <td>Z610</td>\n",
              "    </tr>\n",
              "    <tr>\n",
              "      <th>3990771</th>\n",
              "      <td>48467</td>\n",
              "      <td>zorba</td>\n",
              "      <td>2</td>\n",
              "      <td>GRC</td>\n",
              "      <td>0</td>\n",
              "      <td>57</td>\n",
              "      <td>kalymnos</td>\n",
              "      <td>Z610</td>\n",
              "    </tr>\n",
              "    <tr>\n",
              "      <th>4005877</th>\n",
              "      <td>22871</td>\n",
              "      <td>zooropa</td>\n",
              "      <td>2</td>\n",
              "      <td>ITA</td>\n",
              "      <td>0</td>\n",
              "      <td>64</td>\n",
              "      <td>baratro</td>\n",
              "      <td>Z610</td>\n",
              "    </tr>\n",
              "    <tr>\n",
              "      <th>4062026</th>\n",
              "      <td>45854</td>\n",
              "      <td>zorba</td>\n",
              "      <td>1</td>\n",
              "      <td>CHE</td>\n",
              "      <td>0</td>\n",
              "      <td>40</td>\n",
              "      <td>ravoire</td>\n",
              "      <td>Z610</td>\n",
              "    </tr>\n",
              "    <tr>\n",
              "      <th>4073100</th>\n",
              "      <td>37918</td>\n",
              "      <td>zooropa</td>\n",
              "      <td>2</td>\n",
              "      <td>ITA</td>\n",
              "      <td>0</td>\n",
              "      <td>57</td>\n",
              "      <td>baratro</td>\n",
              "      <td>Z610</td>\n",
              "    </tr>\n",
              "    <tr>\n",
              "      <th>4102613</th>\n",
              "      <td>16585</td>\n",
              "      <td>zeropo</td>\n",
              "      <td>3</td>\n",
              "      <td>FRA</td>\n",
              "      <td>1</td>\n",
              "      <td>51</td>\n",
              "      <td>ailefroide</td>\n",
              "      <td>Z610</td>\n",
              "    </tr>\n",
              "    <tr>\n",
              "      <th>4109135</th>\n",
              "      <td>60761</td>\n",
              "      <td>zarbie</td>\n",
              "      <td>3</td>\n",
              "      <td>FRA</td>\n",
              "      <td>0</td>\n",
              "      <td>53</td>\n",
              "      <td>volx</td>\n",
              "      <td>Z610</td>\n",
              "    </tr>\n",
              "  </tbody>\n",
              "</table>\n",
              "</div>"
            ],
            "text/plain": [
              "         user_id      name  rating  ... grade_id        crag  soundex\n",
              "102128      3933     zarbi       2  ...       53        volx     Z610\n",
              "311199     10640     zarbi       1  ...       53        volx     Z610\n",
              "408947     13431    zeropo       2  ...       51     granite     Z610\n",
              "482326      4666     zorba       2  ...       42   chironico     Z610\n",
              "502583     15897    zeropo       2  ...       51  ailefroide     Z610\n",
              "538382        10     zarbi       1  ...       51        volx     Z610\n",
              "716424      2508     zarbi       3  ...       53        volx     Z610\n",
              "837523     17904     zarbi       3  ...       53        volx     Z610\n",
              "871421     16578     zarbi       3  ...       53        volx     Z610\n",
              "880074     23929     zarbi       3  ...       53        volx     Z610\n",
              "891727     18657     zarbi       3  ...       53        volx     Z610\n",
              "902462      9767    zcurve       2  ...       59   hurricave     Z610\n",
              "927553     10065     zarbi       3  ...       53        volx     Z610\n",
              "933883     21165     zarbi       3  ...       53        volx     Z610\n",
              "1147015     6465    zhurba       3  ...       51   yamelnica     Z610\n",
              "1202633    23762     zarbi       2  ...       53        volx     Z610\n",
              "1223840    29530     zarbi       1  ...       53        volx     Z610\n",
              "1280331     5042     zarbi       2  ...       53        volx     Z610\n",
              "1438424    29420     zarbi       2  ...       53        volx     Z610\n",
              "1456156     4585     zorba       1  ...       44   vallhamra     Z610\n",
              "1492147    12629     zarbi       3  ...       53        volx     Z610\n",
              "1495229    23409     zarbi       2  ...       53        volx     Z610\n",
              "1510805    29842     zarbi       2  ...       53        volx     Z610\n",
              "1553988    34496     zarbi       3  ...       53        volx     Z610\n",
              "1606255     3599     zorba       1  ...       44   vallhamra     Z610\n",
              "1778641    12583     zarbi       2  ...       53        volx     Z610\n",
              "1984565    36400     zorba       2  ...       51   vallhamra     Z610\n",
              "1986167    35352     zarbi       1  ...       53        volx     Z610\n",
              "2073988    16866  zoouropa       2  ...       57        zoia     Z610\n",
              "2074672    24909     zarbi       2  ...       53        volx     Z610\n",
              "2113978    34126  zoouropa       3  ...       57        zoia     Z610\n",
              "2471666    40247     zarbi       2  ...       53        volx     Z610\n",
              "2610190    19612     zarbi       3  ...       53        volx     Z610\n",
              "2687356     8124     zkarp       2  ...       53     stmarka     Z610\n",
              "2710817    46510    zirafa       2  ...       49    kotecnik     Z610\n",
              "2806420    42607  zoouropa       2  ...       57        zoia     Z610\n",
              "2844668    37912     zarbi       2  ...       53        volx     Z610\n",
              "2846062    23842     zarbi       2  ...       53        volx     Z610\n",
              "2971213    20287     zarbi       2  ...       53        volx     Z610\n",
              "3274112     4997   zooropa       3  ...       62     baratro     Z610\n",
              "3291741    25997     zkarp       1  ...       53     stmarka     Z610\n",
              "3317159    19325     zorba       3  ...       57    kalymnos     Z610\n",
              "3544260    62800     zorba       3  ...       57    kalymnos     Z610\n",
              "3547381    60021    zurafa       3  ...       59     citdibi     Z610\n",
              "3609983    38489    zurafa       3  ...       59     citdibi     Z610\n",
              "3682664    17086   zooropa       2  ...       62     baratro     Z610\n",
              "3699270    63880     zorba       2  ...       62    kalymnos     Z610\n",
              "3720702    16044     zorba       3  ...       55    kalymnos     Z610\n",
              "3747444     5528     zorba       2  ...       57    kalymnos     Z610\n",
              "3865403    28860    zirafa       2  ...       49    kotecnik     Z610\n",
              "3873711    18308    zirafa       3  ...       49    kotecnik     Z610\n",
              "3985246     7505   zooropa       3  ...       57     baratro     Z610\n",
              "3990771    48467     zorba       2  ...       57    kalymnos     Z610\n",
              "4005877    22871   zooropa       2  ...       64     baratro     Z610\n",
              "4062026    45854     zorba       1  ...       40     ravoire     Z610\n",
              "4073100    37918   zooropa       2  ...       57     baratro     Z610\n",
              "4102613    16585    zeropo       3  ...       51  ailefroide     Z610\n",
              "4109135    60761    zarbie       3  ...       53        volx     Z610\n",
              "\n",
              "[58 rows x 8 columns]"
            ]
          },
          "metadata": {
            "tags": []
          },
          "execution_count": 18
        }
      ]
    },
    {
      "cell_type": "markdown",
      "metadata": {
        "id": "nPlB7JRxFKAJ",
        "colab_type": "text"
      },
      "source": [
        "###1. Phonetic Techniques: Double Metaphone: *an improved & updated phonetic encoding algorithm*\n",
        "* RESULT: did much better than soundex, but is it too agressive still?\n",
        "* Drops the number of groups from around 400,000 to 12,736\n",
        "* Might be too agressive still, and could instead filter out any name that occurs less than 10 times."
      ]
    },
    {
      "cell_type": "code",
      "metadata": {
        "id": "fl3njIwAFh0U",
        "colab_type": "code",
        "colab": {
          "base_uri": "https://localhost:8080/",
          "height": 0
        },
        "outputId": "658729f8-5ee1-40bb-8ba6-fb6a45f68203"
      },
      "source": [
        "#instantiating double metaphone\n",
        "dmetaphone = fuzzy.DMetaphone(4)\n",
        "\n",
        "#dmetaphone = fuzzy.DMetaphone(4) #create an instance of dmetaphone\n",
        "ascent[\"metaphone\"] = ascent.name.apply(lambda x: dmetaphone(x))# apply double metaphone to my names columns and create a column of output\n",
        "\n",
        "#extract the first & strongest match of double metaphone and use as my encoded column\n",
        "ascent.loc[:, 'name_encode'] = ascent.metaphone.map(lambda x: x[0])\n",
        "ascent.groupby(\"name_encode\").agg({\"name\": lambda x: \", \".join(x)})\n"
      ],
      "execution_count": 19,
      "outputs": [
        {
          "output_type": "execute_result",
          "data": {
            "text/html": [
              "<div>\n",
              "<style scoped>\n",
              "    .dataframe tbody tr th:only-of-type {\n",
              "        vertical-align: middle;\n",
              "    }\n",
              "\n",
              "    .dataframe tbody tr th {\n",
              "        vertical-align: top;\n",
              "    }\n",
              "\n",
              "    .dataframe thead th {\n",
              "        text-align: right;\n",
              "    }\n",
              "</style>\n",
              "<table border=\"1\" class=\"dataframe\">\n",
              "  <thead>\n",
              "    <tr style=\"text-align: right;\">\n",
              "      <th></th>\n",
              "      <th>name</th>\n",
              "    </tr>\n",
              "    <tr>\n",
              "      <th>name_encode</th>\n",
              "      <th></th>\n",
              "    </tr>\n",
              "  </thead>\n",
              "  <tbody>\n",
              "    <tr>\n",
              "      <th>b'0'</th>\n",
              "      <td>thaw, thaw, thaw, thai, thai, thai, thai, thai...</td>\n",
              "    </tr>\n",
              "    <tr>\n",
              "      <th>b'00'</th>\n",
              "      <td>thaithai</td>\n",
              "    </tr>\n",
              "    <tr>\n",
              "      <th>b'0F'</th>\n",
              "      <td>thief, thief, thief, thief, thief, thief</td>\n",
              "    </tr>\n",
              "    <tr>\n",
              "      <th>b'0FFR'</th>\n",
              "      <td>thefavouritegame</td>\n",
              "    </tr>\n",
              "    <tr>\n",
              "      <th>b'0FKS'</th>\n",
              "      <td>thovax, thovax, thovax, thovax</td>\n",
              "    </tr>\n",
              "    <tr>\n",
              "      <th>b'0FLN'</th>\n",
              "      <td>thiefline</td>\n",
              "    </tr>\n",
              "    <tr>\n",
              "      <th>b'0FLS'</th>\n",
              "      <td>thephilosphersstoned</td>\n",
              "    </tr>\n",
              "    <tr>\n",
              "      <th>b'0FMS'</th>\n",
              "      <td>thavmasia, thavmasia, thavmasia</td>\n",
              "    </tr>\n",
              "    <tr>\n",
              "      <th>b'0FP'</th>\n",
              "      <td>theophobie</td>\n",
              "    </tr>\n",
              "    <tr>\n",
              "      <th>b'0FR'</th>\n",
              "      <td>thievery</td>\n",
              "    </tr>\n",
              "    <tr>\n",
              "      <th>b'0FS'</th>\n",
              "      <td>thieves, thieves, thieves, thieves, thieves, t...</td>\n",
              "    </tr>\n",
              "    <tr>\n",
              "      <th>b'0K'</th>\n",
              "      <td>thwack, thc2, thc2, theoweg, theoweg, theoweg,...</td>\n",
              "    </tr>\n",
              "    <tr>\n",
              "      <th>b'0KK'</th>\n",
              "      <td>thakhek</td>\n",
              "    </tr>\n",
              "    <tr>\n",
              "      <th>b'0KLT'</th>\n",
              "      <td>thugolator</td>\n",
              "    </tr>\n",
              "    <tr>\n",
              "      <th>b'0KMP'</th>\n",
              "      <td>thcdampf, thcdampf</td>\n",
              "    </tr>\n",
              "    <tr>\n",
              "      <th>b'0KNT'</th>\n",
              "      <td>thekentraverse, thekentraverse, thekentraverse...</td>\n",
              "    </tr>\n",
              "    <tr>\n",
              "      <th>b'0KR'</th>\n",
              "      <td>thuggery, thcpower, thuggery, thuggery, thugge...</td>\n",
              "    </tr>\n",
              "    <tr>\n",
              "      <th>b'0KS'</th>\n",
              "      <td>thugs</td>\n",
              "    </tr>\n",
              "    <tr>\n",
              "      <th>b'0KSM'</th>\n",
              "      <td>thecosmilia, thecosmilia, thecosmilia, thecosm...</td>\n",
              "    </tr>\n",
              "    <tr>\n",
              "      <th>b'0KSS'</th>\n",
              "      <td>thoxus</td>\n",
              "    </tr>\n",
              "    <tr>\n",
              "      <th>b'0KT'</th>\n",
              "      <td>thgdw, thougt</td>\n",
              "    </tr>\n",
              "    <tr>\n",
              "      <th>b'0KTF'</th>\n",
              "      <td>thegetoff</td>\n",
              "    </tr>\n",
              "    <tr>\n",
              "      <th>b'0L'</th>\n",
              "      <td>thilo, thalia, thillo, thaila</td>\n",
              "    </tr>\n",
              "    <tr>\n",
              "      <th>b'0LFS'</th>\n",
              "      <td>thalifizil, thaliffizil, thaliffizil</td>\n",
              "    </tr>\n",
              "    <tr>\n",
              "      <th>b'0LKN'</th>\n",
              "      <td>thelookingglass</td>\n",
              "    </tr>\n",
              "    <tr>\n",
              "      <th>b'0LM'</th>\n",
              "      <td>thulium, thulium, thulium</td>\n",
              "    </tr>\n",
              "    <tr>\n",
              "      <th>b'0LNT'</th>\n",
              "      <td>thailandia, thailandia, thailandia, thailandia...</td>\n",
              "    </tr>\n",
              "    <tr>\n",
              "      <th>b'0LPL'</th>\n",
              "      <td>thaliplatte, thaliplatte, thaliplatte, thalipl...</td>\n",
              "    </tr>\n",
              "    <tr>\n",
              "      <th>b'0LRS'</th>\n",
              "      <td>thaliriss, thaliriss, thaliriss</td>\n",
              "    </tr>\n",
              "    <tr>\n",
              "      <th>b'0LS'</th>\n",
              "      <td>tholos, thalassa, thalassa, tholos, thalassa</td>\n",
              "    </tr>\n",
              "    <tr>\n",
              "      <th>...</th>\n",
              "      <td>...</td>\n",
              "    </tr>\n",
              "    <tr>\n",
              "      <th>b'XTX'</th>\n",
              "      <td>shatush, shatush</td>\n",
              "    </tr>\n",
              "    <tr>\n",
              "      <th>b'XTXL'</th>\n",
              "      <td>scheitschleiertraverse</td>\n",
              "    </tr>\n",
              "    <tr>\n",
              "      <th>b'XTXT'</th>\n",
              "      <td>schitschtart, shitshadow, shitschtart, shitsch...</td>\n",
              "    </tr>\n",
              "    <tr>\n",
              "      <th>b'XX'</th>\n",
              "      <td>chochi, shoosh, shoosh, chowchow, chichi, chau...</td>\n",
              "    </tr>\n",
              "    <tr>\n",
              "      <th>b'XXF'</th>\n",
              "      <td>cheschifo</td>\n",
              "    </tr>\n",
              "    <tr>\n",
              "      <th>b'XXK'</th>\n",
              "      <td>shishika, shishika, chichago, shchuka, shchuka</td>\n",
              "    </tr>\n",
              "    <tr>\n",
              "      <th>b'XXKM'</th>\n",
              "      <td>shishigami</td>\n",
              "    </tr>\n",
              "    <tr>\n",
              "      <th>b'XXKT'</th>\n",
              "      <td>schuhschachtel</td>\n",
              "    </tr>\n",
              "    <tr>\n",
              "      <th>b'XXL'</th>\n",
              "      <td>chichileu</td>\n",
              "    </tr>\n",
              "    <tr>\n",
              "      <th>b'XXLK'</th>\n",
              "      <td>chocholocco, schaschligkspie, schaschligspie, ...</td>\n",
              "    </tr>\n",
              "    <tr>\n",
              "      <th>b'XXLN'</th>\n",
              "      <td>chicholina, chocholina, chocholina, chocholina...</td>\n",
              "    </tr>\n",
              "    <tr>\n",
              "      <th>b'XXLS'</th>\n",
              "      <td>shosholoza, shosholoza, shosholoza, shosholoza...</td>\n",
              "    </tr>\n",
              "    <tr>\n",
              "      <th>b'XXLT'</th>\n",
              "      <td>chocholat</td>\n",
              "    </tr>\n",
              "    <tr>\n",
              "      <th>b'XXLX'</th>\n",
              "      <td>shashluchok</td>\n",
              "    </tr>\n",
              "    <tr>\n",
              "      <th>b'XXMN'</th>\n",
              "      <td>chachimente</td>\n",
              "    </tr>\n",
              "    <tr>\n",
              "      <th>b'XXN'</th>\n",
              "      <td>chochin, chichino, chochin, chichino, chochin,...</td>\n",
              "    </tr>\n",
              "    <tr>\n",
              "      <th>b'XXNK'</th>\n",
              "      <td>shaoshing, shaoshing, shaoshing, shaoshing, sh...</td>\n",
              "    </tr>\n",
              "    <tr>\n",
              "      <th>b'XXNT'</th>\n",
              "      <td>chouchounet, chouchounette, chaouchuinade, tch...</td>\n",
              "    </tr>\n",
              "    <tr>\n",
              "      <th>b'XXPL'</th>\n",
              "      <td>chouchouplace, chouchouplace</td>\n",
              "    </tr>\n",
              "    <tr>\n",
              "      <th>b'XXPN'</th>\n",
              "      <td>chichipan, chichipan, chichipan</td>\n",
              "    </tr>\n",
              "    <tr>\n",
              "      <th>b'XXPR'</th>\n",
              "      <td>chuchibrandli, chaschperlitheater, chaschperli...</td>\n",
              "    </tr>\n",
              "    <tr>\n",
              "      <th>b'XXPT'</th>\n",
              "      <td>chouchpotatoe, chouchpotatoe, chouchpotatoe, c...</td>\n",
              "    </tr>\n",
              "    <tr>\n",
              "      <th>b'XXR'</th>\n",
              "      <td>chicharra, chicharra, chischar, chichara, chis...</td>\n",
              "    </tr>\n",
              "    <tr>\n",
              "      <th>b'XXRK'</th>\n",
              "      <td>shisharka</td>\n",
              "    </tr>\n",
              "    <tr>\n",
              "      <th>b'XXRR'</th>\n",
              "      <td>chicharrero</td>\n",
              "    </tr>\n",
              "    <tr>\n",
              "      <th>b'XXRT'</th>\n",
              "      <td>chicharito, chicharito</td>\n",
              "    </tr>\n",
              "    <tr>\n",
              "      <th>b'XXS'</th>\n",
              "      <td>chochos</td>\n",
              "    </tr>\n",
              "    <tr>\n",
              "      <th>b'XXT'</th>\n",
              "      <td>chachita, chachita, chachita, chachita, chachi...</td>\n",
              "    </tr>\n",
              "    <tr>\n",
              "      <th>b'XXTS'</th>\n",
              "      <td>chochitos, chochitos, chochitos, chochitos, ch...</td>\n",
              "    </tr>\n",
              "    <tr>\n",
              "      <th>b'XXXX'</th>\n",
              "      <td>chuchichaschtli, chuchichaschtli, chuchichaschtli</td>\n",
              "    </tr>\n",
              "  </tbody>\n",
              "</table>\n",
              "<p>11254 rows × 1 columns</p>\n",
              "</div>"
            ],
            "text/plain": [
              "                                                          name\n",
              "name_encode                                                   \n",
              "b'0'         thaw, thaw, thaw, thai, thai, thai, thai, thai...\n",
              "b'00'                                                 thaithai\n",
              "b'0F'                 thief, thief, thief, thief, thief, thief\n",
              "b'0FFR'                                       thefavouritegame\n",
              "b'0FKS'                         thovax, thovax, thovax, thovax\n",
              "b'0FLN'                                              thiefline\n",
              "b'0FLS'                                   thephilosphersstoned\n",
              "b'0FMS'                        thavmasia, thavmasia, thavmasia\n",
              "b'0FP'                                              theophobie\n",
              "b'0FR'                                                thievery\n",
              "b'0FS'       thieves, thieves, thieves, thieves, thieves, t...\n",
              "b'0K'        thwack, thc2, thc2, theoweg, theoweg, theoweg,...\n",
              "b'0KK'                                                 thakhek\n",
              "b'0KLT'                                             thugolator\n",
              "b'0KMP'                                     thcdampf, thcdampf\n",
              "b'0KNT'      thekentraverse, thekentraverse, thekentraverse...\n",
              "b'0KR'       thuggery, thcpower, thuggery, thuggery, thugge...\n",
              "b'0KS'                                                   thugs\n",
              "b'0KSM'      thecosmilia, thecosmilia, thecosmilia, thecosm...\n",
              "b'0KSS'                                                 thoxus\n",
              "b'0KT'                                           thgdw, thougt\n",
              "b'0KTF'                                              thegetoff\n",
              "b'0L'                            thilo, thalia, thillo, thaila\n",
              "b'0LFS'                   thalifizil, thaliffizil, thaliffizil\n",
              "b'0LKN'                                        thelookingglass\n",
              "b'0LM'                               thulium, thulium, thulium\n",
              "b'0LNT'      thailandia, thailandia, thailandia, thailandia...\n",
              "b'0LPL'      thaliplatte, thaliplatte, thaliplatte, thalipl...\n",
              "b'0LRS'                        thaliriss, thaliriss, thaliriss\n",
              "b'0LS'            tholos, thalassa, thalassa, tholos, thalassa\n",
              "...                                                        ...\n",
              "b'XTX'                                        shatush, shatush\n",
              "b'XTXL'                                 scheitschleiertraverse\n",
              "b'XTXT'      schitschtart, shitshadow, shitschtart, shitsch...\n",
              "b'XX'        chochi, shoosh, shoosh, chowchow, chichi, chau...\n",
              "b'XXF'                                               cheschifo\n",
              "b'XXK'          shishika, shishika, chichago, shchuka, shchuka\n",
              "b'XXKM'                                             shishigami\n",
              "b'XXKT'                                         schuhschachtel\n",
              "b'XXL'                                               chichileu\n",
              "b'XXLK'      chocholocco, schaschligkspie, schaschligspie, ...\n",
              "b'XXLN'      chicholina, chocholina, chocholina, chocholina...\n",
              "b'XXLS'      shosholoza, shosholoza, shosholoza, shosholoza...\n",
              "b'XXLT'                                              chocholat\n",
              "b'XXLX'                                            shashluchok\n",
              "b'XXMN'                                            chachimente\n",
              "b'XXN'       chochin, chichino, chochin, chichino, chochin,...\n",
              "b'XXNK'      shaoshing, shaoshing, shaoshing, shaoshing, sh...\n",
              "b'XXNT'      chouchounet, chouchounette, chaouchuinade, tch...\n",
              "b'XXPL'                           chouchouplace, chouchouplace\n",
              "b'XXPN'                        chichipan, chichipan, chichipan\n",
              "b'XXPR'      chuchibrandli, chaschperlitheater, chaschperli...\n",
              "b'XXPT'      chouchpotatoe, chouchpotatoe, chouchpotatoe, c...\n",
              "b'XXR'       chicharra, chicharra, chischar, chichara, chis...\n",
              "b'XXRK'                                              shisharka\n",
              "b'XXRR'                                            chicharrero\n",
              "b'XXRT'                                 chicharito, chicharito\n",
              "b'XXS'                                                 chochos\n",
              "b'XXT'       chachita, chachita, chachita, chachita, chachi...\n",
              "b'XXTS'      chochitos, chochitos, chochitos, chochitos, ch...\n",
              "b'XXXX'      chuchichaschtli, chuchichaschtli, chuchichaschtli\n",
              "\n",
              "[11254 rows x 1 columns]"
            ]
          },
          "metadata": {
            "tags": []
          },
          "execution_count": 19
        }
      ]
    },
    {
      "cell_type": "code",
      "metadata": {
        "id": "9Hhf5PUMOrbl",
        "colab_type": "code",
        "outputId": "a2ef3955-b96c-4787-a37a-4c481f876099",
        "colab": {
          "base_uri": "https://localhost:8080/",
          "height": 0
        }
      },
      "source": [
        "#investigating individual columns\n",
        "ascent[ascent.name_encode == b'XXNT']"
      ],
      "execution_count": 20,
      "outputs": [
        {
          "output_type": "execute_result",
          "data": {
            "text/html": [
              "<div>\n",
              "<style scoped>\n",
              "    .dataframe tbody tr th:only-of-type {\n",
              "        vertical-align: middle;\n",
              "    }\n",
              "\n",
              "    .dataframe tbody tr th {\n",
              "        vertical-align: top;\n",
              "    }\n",
              "\n",
              "    .dataframe thead th {\n",
              "        text-align: right;\n",
              "    }\n",
              "</style>\n",
              "<table border=\"1\" class=\"dataframe\">\n",
              "  <thead>\n",
              "    <tr style=\"text-align: right;\">\n",
              "      <th></th>\n",
              "      <th>user_id</th>\n",
              "      <th>name</th>\n",
              "      <th>rating</th>\n",
              "      <th>country</th>\n",
              "      <th>climb_type</th>\n",
              "      <th>grade_id</th>\n",
              "      <th>crag</th>\n",
              "      <th>soundex</th>\n",
              "      <th>metaphone</th>\n",
              "      <th>name_encode</th>\n",
              "    </tr>\n",
              "  </thead>\n",
              "  <tbody>\n",
              "    <tr>\n",
              "      <th>82436</th>\n",
              "      <td>2465</td>\n",
              "      <td>chouchounet</td>\n",
              "      <td>1</td>\n",
              "      <td>CAN</td>\n",
              "      <td>1</td>\n",
              "      <td>55</td>\n",
              "      <td>orford</td>\n",
              "      <td>C253</td>\n",
              "      <td>[b'XXNT', b'XKNT']</td>\n",
              "      <td>b'XXNT'</td>\n",
              "    </tr>\n",
              "    <tr>\n",
              "      <th>127490</th>\n",
              "      <td>3876</td>\n",
              "      <td>chouchounette</td>\n",
              "      <td>1</td>\n",
              "      <td>CAN</td>\n",
              "      <td>1</td>\n",
              "      <td>51</td>\n",
              "      <td>orford</td>\n",
              "      <td>C253</td>\n",
              "      <td>[b'XXNT', b'XKNT']</td>\n",
              "      <td>b'XXNT'</td>\n",
              "    </tr>\n",
              "    <tr>\n",
              "      <th>247900</th>\n",
              "      <td>1735</td>\n",
              "      <td>chaouchuinade</td>\n",
              "      <td>2</td>\n",
              "      <td>FRA</td>\n",
              "      <td>0</td>\n",
              "      <td>49</td>\n",
              "      <td>ardeche</td>\n",
              "      <td>C253</td>\n",
              "      <td>[b'XXNT', b'XKNT']</td>\n",
              "      <td>b'XXNT'</td>\n",
              "    </tr>\n",
              "    <tr>\n",
              "      <th>517596</th>\n",
              "      <td>16242</td>\n",
              "      <td>tchatchounette</td>\n",
              "      <td>3</td>\n",
              "      <td>FRA</td>\n",
              "      <td>0</td>\n",
              "      <td>49</td>\n",
              "      <td>france</td>\n",
              "      <td>T232</td>\n",
              "      <td>[b'XXNT', None]</td>\n",
              "      <td>b'XXNT'</td>\n",
              "    </tr>\n",
              "    <tr>\n",
              "      <th>838597</th>\n",
              "      <td>18282</td>\n",
              "      <td>chouchounette</td>\n",
              "      <td>1</td>\n",
              "      <td>CAN</td>\n",
              "      <td>1</td>\n",
              "      <td>53</td>\n",
              "      <td>orford</td>\n",
              "      <td>C253</td>\n",
              "      <td>[b'XXNT', b'XKNT']</td>\n",
              "      <td>b'XXNT'</td>\n",
              "    </tr>\n",
              "    <tr>\n",
              "      <th>838998</th>\n",
              "      <td>17730</td>\n",
              "      <td>chouchounette</td>\n",
              "      <td>3</td>\n",
              "      <td>CAN</td>\n",
              "      <td>1</td>\n",
              "      <td>51</td>\n",
              "      <td>orford</td>\n",
              "      <td>C253</td>\n",
              "      <td>[b'XXNT', b'XKNT']</td>\n",
              "      <td>b'XXNT'</td>\n",
              "    </tr>\n",
              "    <tr>\n",
              "      <th>3341031</th>\n",
              "      <td>22559</td>\n",
              "      <td>chouchounette</td>\n",
              "      <td>3</td>\n",
              "      <td>CAN</td>\n",
              "      <td>1</td>\n",
              "      <td>53</td>\n",
              "      <td>orford</td>\n",
              "      <td>C253</td>\n",
              "      <td>[b'XXNT', b'XKNT']</td>\n",
              "      <td>b'XXNT'</td>\n",
              "    </tr>\n",
              "  </tbody>\n",
              "</table>\n",
              "</div>"
            ],
            "text/plain": [
              "         user_id            name  ...           metaphone name_encode\n",
              "82436       2465     chouchounet  ...  [b'XXNT', b'XKNT']     b'XXNT'\n",
              "127490      3876   chouchounette  ...  [b'XXNT', b'XKNT']     b'XXNT'\n",
              "247900      1735   chaouchuinade  ...  [b'XXNT', b'XKNT']     b'XXNT'\n",
              "517596     16242  tchatchounette  ...     [b'XXNT', None]     b'XXNT'\n",
              "838597     18282   chouchounette  ...  [b'XXNT', b'XKNT']     b'XXNT'\n",
              "838998     17730   chouchounette  ...  [b'XXNT', b'XKNT']     b'XXNT'\n",
              "3341031    22559   chouchounette  ...  [b'XXNT', b'XKNT']     b'XXNT'\n",
              "\n",
              "[7 rows x 10 columns]"
            ]
          },
          "metadata": {
            "tags": []
          },
          "execution_count": 20
        }
      ]
    },
    {
      "cell_type": "markdown",
      "metadata": {
        "id": "f9LyjSC1GlGL",
        "colab_type": "text"
      },
      "source": [
        "###2. Filtering Out Lower Frequency Names\n",
        ">* The results of both the soundex and doublemetaphone were both too aggresive and not accurate enough\n",
        "> * In the [machine learning notebook](https://colab.research.google.com/drive/1kAlvwwJnGcdCAJD8oFokT3gtJF2UnyZP) of this project, I tested four different filters (route names occuring <2, <3, <6,  & <10).  After analyzing the algorithm performance and accuracy with each of these filters, I discovered the 6x filter performs the best. This can also be viewed below where after the 5x the bar graph starts to level out. \n",
        ">* Thus, I will filter the dataset to only include routes that occur more than 5 times (the 6x filter). This will help ellivate the spelling and user entry errors, and increase accuracy once we train our model."
      ]
    },
    {
      "cell_type": "code",
      "metadata": {
        "id": "MTBLvDEElTrZ",
        "colab_type": "code",
        "outputId": "a49c98c5-a913-4072-f929-a5b3268f4ac9",
        "colab": {
          "base_uri": "https://localhost:8080/",
          "height": 508
        }
      },
      "source": [
        "#graphing what happens to the number of unique values when filtering out x number of occurances\n",
        "plot_counts= {0:401030, 1:182957, 2:124409, 3:95373, 4:77549, 5:65313, 6:56234, 7:49296, 8:43721, 9:39268, 10:35597}\n",
        "plt.bar(*zip(*plot_counts.items()))\n",
        "plt.xlabel(\"Filtering out x occurances\")\n",
        "plt.ylabel(\"Unique names remaining when filtering out x occurances\")\n",
        "plt.show()"
      ],
      "execution_count": 21,
      "outputs": [
        {
          "output_type": "display_data",
          "data": {
            "image/png": "[encoded data removed]",
            "text/plain": [
              "<Figure size 1440x576 with 1 Axes>"
            ]
          },
          "metadata": {
            "tags": []
          }
        }
      ]
    },
    {
      "cell_type": "code",
      "metadata": {
        "id": "PT7sXwe5RR9a",
        "colab_type": "code",
        "outputId": "3cfc68fd-4625-4a2a-88a2-f2e4b5693e57",
        "colab": {
          "base_uri": "https://localhost:8080/",
          "height": 34
        }
      },
      "source": [
        "#filtering out names that occur < 6 times to filter out spelling errors \n",
        "#NOTE: In the machine learning notebook I played around with this filter for 4 different DF's (<2, <3, <6, <10) and the 6x filter performed the most accruate predicitions\n",
        "\n",
        "ascent= ascent.groupby('name').filter(lambda x: len(x) >= 6)\n",
        "\n",
        "#count the number of name groups left in dataframe\n",
        "ascent.name.nunique()"
      ],
      "execution_count": 22,
      "outputs": [
        {
          "output_type": "execute_result",
          "data": {
            "text/plain": [
              "15032"
            ]
          },
          "metadata": {
            "tags": []
          },
          "execution_count": 22
        }
      ]
    },
    {
      "cell_type": "code",
      "metadata": {
        "id": "CNlBhm7YSN3H",
        "colab_type": "code",
        "outputId": "b8053cac-4f74-41af-9354-f1cde722c26d",
        "colab": {
          "base_uri": "https://localhost:8080/",
          "height": 34
        }
      },
      "source": [
        "#count number of entries left in the dataframe\n",
        "ascent.shape"
      ],
      "execution_count": 23,
      "outputs": [
        {
          "output_type": "execute_result",
          "data": {
            "text/plain": [
              "(335782, 10)"
            ]
          },
          "metadata": {
            "tags": []
          },
          "execution_count": 23
        }
      ]
    },
    {
      "cell_type": "code",
      "metadata": {
        "id": "dtcVQYjGbIEb",
        "colab_type": "code",
        "colab": {}
      },
      "source": [
        "#Will need to drop fuzzy testing rows here:\n",
        "\n",
        "ascent= ascent.drop(labels= [\"soundex\",\t\"metaphone\", \"name_encode\"], axis=1)\n"
      ],
      "execution_count": 0,
      "outputs": []
    },
    {
      "cell_type": "markdown",
      "metadata": {
        "id": "KgAD07C0QVRW",
        "colab_type": "text"
      },
      "source": [
        "##Climb Type:\n",
        "* 0 = rope climbing\n",
        "* 1 = bouldering\n",
        "* approx. double the amount of rope climbs logged versus bouldering climbs\n",
        "* *may want to think about segmenting these different climbs into different groups because typically boulderers are just wanting boulder routes and vice versa with rope climbs*"
      ]
    },
    {
      "cell_type": "code",
      "metadata": {
        "id": "i360U2KaC9Nu",
        "colab_type": "code",
        "outputId": "9007af62-1705-4f26-de26-54b618155dfc",
        "colab": {
          "base_uri": "https://localhost:8080/",
          "height": 583
        }
      },
      "source": [
        "\n",
        "ascent.climb_type.value_counts()\n",
        "#ascent.climb_type.value_counts().plot(kind='barh') #plotting the ropes verus bouldering climbs\n",
        "climb_type_graph = sns.countplot(x='climb_type', data=ascent) #using seaborn to plot\n",
        "climb_type_graph.set_xticklabels(['Rope Climbs', 'Bouldering'], rotation=45) #Set the tick labels for x\n",
        "plt.xlabel(\"Climb Type\")\n",
        "plt.ylabel(\"Count\")\n"
      ],
      "execution_count": 25,
      "outputs": [
        {
          "output_type": "execute_result",
          "data": {
            "text/plain": [
              "Text(0, 0.5, 'Count')"
            ]
          },
          "metadata": {
            "tags": []
          },
          "execution_count": 25
        },
        {
          "output_type": "display_data",
          "data": {
            "image/png": "[encoded data removed]",
            "text/plain": [
              "<Figure size 1440x576 with 1 Axes>"
            ]
          },
          "metadata": {
            "tags": []
          }
        }
      ]
    },
    {
      "cell_type": "code",
      "metadata": {
        "id": "wS17EdAR0BYk",
        "colab_type": "code",
        "colab": {}
      },
      "source": [
        "#Rename 0 & 1 to Rope Climb and Bouldering\n",
        "\n",
        "di = {0: \"Rope Climb\", 1: \"Bouldering\"}\n",
        "ascent = ascent.replace({\"climb_type\": di})"
      ],
      "execution_count": 0,
      "outputs": []
    },
    {
      "cell_type": "markdown",
      "metadata": {
        "id": "UkQMh3uOCSHs",
        "colab_type": "text"
      },
      "source": [
        "##Grade ID:\n",
        "* difficulty of climb 1-86 \n",
        "* this rating system makes it possible to compare ratings across different countries rating systems\n",
        "* 49 (USA 5.11d) is the most logged climbing grade\n",
        "* Changed to int 64  from a float\n",
        "* need to merge with grade table to get the full description of grades\n",
        "* the 0's and low numbers are valid easy rated routes\n"
      ]
    },
    {
      "cell_type": "code",
      "metadata": {
        "id": "3zjKALqoLKCL",
        "colab_type": "code",
        "outputId": "323f42d6-a4d7-4a16-9d7e-9fe367be26c8",
        "colab": {
          "base_uri": "https://localhost:8080/",
          "height": 525
        }
      },
      "source": [
        "ascent.grade_id.value_counts()\n",
        "#ascent.grade_id.value_counts().plot(kind='barh') #plotting \n",
        "ascent.grade_id.describe() #seeing summary statistics\n",
        "sns.countplot(x='grade_id', data=ascent) #using seaborn to plot\n",
        "plt.xlabel(\"Grade ID\")\n",
        "plt.ylabel(\"Count\")\n"
      ],
      "execution_count": 27,
      "outputs": [
        {
          "output_type": "execute_result",
          "data": {
            "text/plain": [
              "Text(0, 0.5, 'Count')"
            ]
          },
          "metadata": {
            "tags": []
          },
          "execution_count": 27
        },
        {
          "output_type": "display_data",
          "data": {
            "image/png": "[encoded data removed]",
            "text/plain": [
              "<Figure size 1440x576 with 1 Axes>"
            ]
          },
          "metadata": {
            "tags": []
          }
        }
      ]
    },
    {
      "cell_type": "markdown",
      "metadata": {
        "id": "gyxLQzOdc3O4",
        "colab_type": "text"
      },
      "source": [
        "##Country \n",
        "* Country is entered via a drop down selection provided on website, however there are still a few incorrect entries\n",
        "\n",
        "**Country Normalization** :\n",
        ">1. Make column capital letters\n",
        ">2. Use the country_converter to check if country values are valid, if not, I will turn them into null values\n",
        ">3. Will use the mode aggregation per route name to populate null values of the country column\n"
      ]
    },
    {
      "cell_type": "code",
      "metadata": {
        "id": "Ujs_2jtwwMIj",
        "colab_type": "code",
        "colab": {}
      },
      "source": [
        "#make the country column capital letters\n",
        "ascent['country'] = ascent.country.str.upper()"
      ],
      "execution_count": 0,
      "outputs": []
    },
    {
      "cell_type": "markdown",
      "metadata": {
        "id": "1Rz-ZEhwaTdD",
        "colab_type": "text"
      },
      "source": [
        "####Country Converter\n",
        "\n",
        "* finds all values that are not valid three digit country codes, and converts them into NaN values\n",
        "* VERY computationally expensive, thus I only ran once, and found that YUG & ROM where incorrectly entered\n",
        " >* I will drop these values from the DF\n",
        "* Country coverter docs:\n",
        "[githug](https://github.com/konstantinstadler/country_converter/blob/master/country_converter/country_converter.py)"
      ]
    },
    {
      "cell_type": "code",
      "metadata": {
        "id": "b0jgSCKGNubN",
        "colab_type": "code",
        "colab": {}
      },
      "source": [
        "#Using Country Converter to convert non valid three digit codes into NaNs\n",
        "#this code is VERY computationally expensive\n",
        "\n",
        "#ascent['country']= ascent[\"country\"].apply(lambda x: coco.convert(names= x, to='ISO3', not_found= np.NaN)) "
      ],
      "execution_count": 0,
      "outputs": []
    },
    {
      "cell_type": "code",
      "metadata": {
        "id": "8LwEYzWMkbFq",
        "colab_type": "code",
        "outputId": "c27a070e-4dce-4015-e9ea-8af0e8e5e242",
        "colab": {
          "base_uri": "https://localhost:8080/",
          "height": 153
        }
      },
      "source": [
        "#ROM, YUG ARE NOT COUNTRIES, need to filter them out of the dataframe\n",
        "ascent= ascent[(ascent.country != 'ROM') & (ascent.country != 'YUG')]\n",
        "ascent.isnull().sum()\n"
      ],
      "execution_count": 30,
      "outputs": [
        {
          "output_type": "execute_result",
          "data": {
            "text/plain": [
              "user_id       0\n",
              "name          0\n",
              "rating        0\n",
              "country       0\n",
              "climb_type    0\n",
              "grade_id      0\n",
              "crag          0\n",
              "dtype: int64"
            ]
          },
          "metadata": {
            "tags": []
          },
          "execution_count": 30
        }
      ]
    },
    {
      "cell_type": "markdown",
      "metadata": {
        "id": "qCM8b3ViyneK",
        "colab_type": "text"
      },
      "source": [
        "####Imputing the Country's NaNs with the mode based on the name column\n",
        "* Will groupby the route name column and then compute the mode of the country column to fill in the NaNs\n",
        "\n"
      ]
    },
    {
      "cell_type": "code",
      "metadata": {
        "id": "0ZNqVLAGzNPU",
        "colab_type": "code",
        "colab": {}
      },
      "source": [
        "#USE THIS CODE WHEN COLUMN HAS NaNs AND YOU ONLY WANT TO FILL IN NaN's... IF NOT SCROLL DOWN AND USE OTHER CODE\n",
        "\n",
        "#First drop the NaNs from the country column, then groupby the name category, and compute the mode of the country\n",
        "#mode_1 = ascent.dropna().groupby('name')['country'].agg(pd.Series.mode).reset_index()\n",
        "\n",
        "#Next, create a dictionary out of the mode values, grouped by the name\n",
        "#mapping_dict = dict(mode_1.values)\n",
        "\n",
        "#USE WHEN DF HAS NaNs finally fill in the country column NaN's with the mapping of the dictionary\n",
        "#ascent.country = ascent.country.fillna(ascent.name.map(mapping_dict))"
      ],
      "execution_count": 0,
      "outputs": []
    },
    {
      "cell_type": "markdown",
      "metadata": {
        "id": "1yeQ3fqLzj2m",
        "colab_type": "text"
      },
      "source": [
        "###Imputing country, crag, grade_id, climb_type columns\n",
        "* Problem: \n",
        ">Since all the information is user entered there are a lot of discrepencies in the data. For example one route named \"rabiat\" is entered 12 times, but one time out of 12 the user entered the wrong country. \n",
        "\n",
        "* Solution: \n",
        ">To combat these integrity issues of the data, I will impute these columns by employing multiple groupby options and then taking the mode of those groupbys to fill in the \"most likely\" answer of what the value should be. I played around with the different types of groupbys and I found some very accurate ways to impute the mode of these categories."
      ]
    },
    {
      "cell_type": "code",
      "metadata": {
        "id": "1z0EWoq-uUKg",
        "colab_type": "code",
        "colab": {}
      },
      "source": [
        "#Imputing columns by taking the mode of the groupby of other columns\n",
        "\n",
        "ascent['crag'] = ascent.groupby(['name','country', \"grade_id\"])['crag'].transform(lambda x: x.mode().iloc[0])\n",
        "ascent['country'] = ascent.groupby(['name','crag','grade_id'])['country'].transform(lambda x: x.mode().iloc[0])\n",
        "ascent['grade_id'] = ascent.groupby(['name','crag','country'])['grade_id'].transform(lambda x: x.mode().iloc[0])\n",
        "ascent['climb_type'] = ascent.groupby(['name','crag','country'])['climb_type'].transform(lambda x: x.mode().iloc[0])"
      ],
      "execution_count": 0,
      "outputs": []
    },
    {
      "cell_type": "markdown",
      "metadata": {
        "id": "RZySQptc22IJ",
        "colab_type": "text"
      },
      "source": [
        "####Delete the remaining NaN values\n"
      ]
    },
    {
      "cell_type": "code",
      "metadata": {
        "id": "KW6mfykKiky8",
        "colab_type": "code",
        "outputId": "eea7dc4c-cc3e-4918-aeee-573a64b7a58c",
        "colab": {
          "base_uri": "https://localhost:8080/",
          "height": 153
        }
      },
      "source": [
        "ascent.isnull().sum()"
      ],
      "execution_count": 33,
      "outputs": [
        {
          "output_type": "execute_result",
          "data": {
            "text/plain": [
              "user_id       0\n",
              "name          0\n",
              "rating        0\n",
              "country       0\n",
              "climb_type    0\n",
              "grade_id      0\n",
              "crag          0\n",
              "dtype: int64"
            ]
          },
          "metadata": {
            "tags": []
          },
          "execution_count": 33
        }
      ]
    },
    {
      "cell_type": "code",
      "metadata": {
        "id": "xAPtYUYN_whK",
        "colab_type": "code",
        "colab": {}
      },
      "source": [
        "#deleting the reamining nulls from the country column \n",
        "ascent= ascent.dropna(axis=0, subset=['country'])\n",
        "\n",
        "#double check\n",
        "assert ascent.country.notnull().all()\n"
      ],
      "execution_count": 0,
      "outputs": []
    },
    {
      "cell_type": "code",
      "metadata": {
        "id": "kWXbgjjbRYCn",
        "colab_type": "code",
        "outputId": "90fefe48-3e95-4ee2-f56d-749311681740",
        "colab": {
          "base_uri": "https://localhost:8080/",
          "height": 525
        }
      },
      "source": [
        "#graph the top ten countries climbs were logged in\n",
        "sns.countplot(x=\"country\", data=ascent, palette=\"autumn\",\n",
        "              order=ascent.country.value_counts().iloc[:10].index)"
      ],
      "execution_count": 35,
      "outputs": [
        {
          "output_type": "execute_result",
          "data": {
            "text/plain": [
              "<matplotlib.axes._subplots.AxesSubplot at 0x7fd6b1f2db38>"
            ]
          },
          "metadata": {
            "tags": []
          },
          "execution_count": 35
        },
        {
          "output_type": "display_data",
          "data": {
            "image/png": "[encoded data removed]",
            "text/plain": [
              "<Figure size 1440x576 with 1 Axes>"
            ]
          },
          "metadata": {
            "tags": []
          }
        }
      ]
    },
    {
      "cell_type": "markdown",
      "metadata": {
        "id": "hLdeyVbI3Kvk",
        "colab_type": "text"
      },
      "source": [
        "###Creating an average star rating column & a user rated column"
      ]
    },
    {
      "cell_type": "code",
      "metadata": {
        "id": "aDtUQ--23T9U",
        "colab_type": "code",
        "colab": {}
      },
      "source": [
        "#creating a avgerage star rating per route column\n",
        "ascent['avg_rating'] = ascent.groupby(['name','crag','country'])['rating'].transform(lambda x: x.mean())"
      ],
      "execution_count": 0,
      "outputs": []
    },
    {
      "cell_type": "code",
      "metadata": {
        "id": "38HhOIIr4wkb",
        "colab_type": "code",
        "colab": {}
      },
      "source": [
        "#creating a number of users that rated that route column\n",
        "ascent['num_users_rate'] = ascent.groupby(['name','crag'])['country'].transform(lambda x: x.count())"
      ],
      "execution_count": 0,
      "outputs": []
    },
    {
      "cell_type": "code",
      "metadata": {
        "id": "XEqIkFFY5Lhr",
        "colab_type": "code",
        "outputId": "8809e242-9b64-4301-f25c-fa562e16fd4e",
        "colab": {
          "base_uri": "https://localhost:8080/",
          "height": 855
        }
      },
      "source": [
        "#double checking that the imputing, and 2 columns work\n",
        "ascent[ascent.name == \"hercules\"]"
      ],
      "execution_count": 38,
      "outputs": [
        {
          "output_type": "execute_result",
          "data": {
            "text/html": [
              "<div>\n",
              "<style scoped>\n",
              "    .dataframe tbody tr th:only-of-type {\n",
              "        vertical-align: middle;\n",
              "    }\n",
              "\n",
              "    .dataframe tbody tr th {\n",
              "        vertical-align: top;\n",
              "    }\n",
              "\n",
              "    .dataframe thead th {\n",
              "        text-align: right;\n",
              "    }\n",
              "</style>\n",
              "<table border=\"1\" class=\"dataframe\">\n",
              "  <thead>\n",
              "    <tr style=\"text-align: right;\">\n",
              "      <th></th>\n",
              "      <th>user_id</th>\n",
              "      <th>name</th>\n",
              "      <th>rating</th>\n",
              "      <th>country</th>\n",
              "      <th>climb_type</th>\n",
              "      <th>grade_id</th>\n",
              "      <th>crag</th>\n",
              "      <th>avg_rating</th>\n",
              "      <th>num_users_rate</th>\n",
              "    </tr>\n",
              "  </thead>\n",
              "  <tbody>\n",
              "    <tr>\n",
              "      <th>146251</th>\n",
              "      <td>250</td>\n",
              "      <td>hercules</td>\n",
              "      <td>2</td>\n",
              "      <td>FRA</td>\n",
              "      <td>Bouldering</td>\n",
              "      <td>51</td>\n",
              "      <td>fontainebleau</td>\n",
              "      <td>2.000000</td>\n",
              "      <td>1</td>\n",
              "    </tr>\n",
              "    <tr>\n",
              "      <th>347264</th>\n",
              "      <td>11968</td>\n",
              "      <td>hercules</td>\n",
              "      <td>2</td>\n",
              "      <td>ESP</td>\n",
              "      <td>Rope Climb</td>\n",
              "      <td>62</td>\n",
              "      <td>jaen</td>\n",
              "      <td>2.500000</td>\n",
              "      <td>2</td>\n",
              "    </tr>\n",
              "    <tr>\n",
              "      <th>375464</th>\n",
              "      <td>8616</td>\n",
              "      <td>hercules</td>\n",
              "      <td>2</td>\n",
              "      <td>ITA</td>\n",
              "      <td>Rope Climb</td>\n",
              "      <td>68</td>\n",
              "      <td>baratro</td>\n",
              "      <td>2.333333</td>\n",
              "      <td>3</td>\n",
              "    </tr>\n",
              "    <tr>\n",
              "      <th>612057</th>\n",
              "      <td>10878</td>\n",
              "      <td>hercules</td>\n",
              "      <td>3</td>\n",
              "      <td>ITA</td>\n",
              "      <td>Rope Climb</td>\n",
              "      <td>68</td>\n",
              "      <td>baratro</td>\n",
              "      <td>2.333333</td>\n",
              "      <td>3</td>\n",
              "    </tr>\n",
              "    <tr>\n",
              "      <th>912229</th>\n",
              "      <td>22984</td>\n",
              "      <td>hercules</td>\n",
              "      <td>3</td>\n",
              "      <td>ESP</td>\n",
              "      <td>Rope Climb</td>\n",
              "      <td>62</td>\n",
              "      <td>jaen</td>\n",
              "      <td>2.500000</td>\n",
              "      <td>2</td>\n",
              "    </tr>\n",
              "    <tr>\n",
              "      <th>940277</th>\n",
              "      <td>24612</td>\n",
              "      <td>hercules</td>\n",
              "      <td>2</td>\n",
              "      <td>NZL</td>\n",
              "      <td>Rope Climb</td>\n",
              "      <td>64</td>\n",
              "      <td>darrans</td>\n",
              "      <td>2.500000</td>\n",
              "      <td>2</td>\n",
              "    </tr>\n",
              "    <tr>\n",
              "      <th>943640</th>\n",
              "      <td>19399</td>\n",
              "      <td>hercules</td>\n",
              "      <td>3</td>\n",
              "      <td>NZL</td>\n",
              "      <td>Rope Climb</td>\n",
              "      <td>64</td>\n",
              "      <td>darrans</td>\n",
              "      <td>2.500000</td>\n",
              "      <td>2</td>\n",
              "    </tr>\n",
              "    <tr>\n",
              "      <th>1498684</th>\n",
              "      <td>19908</td>\n",
              "      <td>hercules</td>\n",
              "      <td>3</td>\n",
              "      <td>BRA</td>\n",
              "      <td>Bouldering</td>\n",
              "      <td>51</td>\n",
              "      <td>caverninha</td>\n",
              "      <td>3.000000</td>\n",
              "      <td>1</td>\n",
              "    </tr>\n",
              "    <tr>\n",
              "      <th>1752510</th>\n",
              "      <td>37813</td>\n",
              "      <td>hercules</td>\n",
              "      <td>2</td>\n",
              "      <td>CHE</td>\n",
              "      <td>Rope Climb</td>\n",
              "      <td>42</td>\n",
              "      <td>signalstogg</td>\n",
              "      <td>2.000000</td>\n",
              "      <td>1</td>\n",
              "    </tr>\n",
              "    <tr>\n",
              "      <th>1876462</th>\n",
              "      <td>13660</td>\n",
              "      <td>hercules</td>\n",
              "      <td>3</td>\n",
              "      <td>ESP</td>\n",
              "      <td>Bouldering</td>\n",
              "      <td>49</td>\n",
              "      <td>albarracin</td>\n",
              "      <td>3.000000</td>\n",
              "      <td>1</td>\n",
              "    </tr>\n",
              "    <tr>\n",
              "      <th>1987813</th>\n",
              "      <td>40661</td>\n",
              "      <td>hercules</td>\n",
              "      <td>3</td>\n",
              "      <td>ITA</td>\n",
              "      <td>Rope Climb</td>\n",
              "      <td>36</td>\n",
              "      <td>montiggl</td>\n",
              "      <td>2.500000</td>\n",
              "      <td>2</td>\n",
              "    </tr>\n",
              "    <tr>\n",
              "      <th>1994528</th>\n",
              "      <td>42743</td>\n",
              "      <td>hercules</td>\n",
              "      <td>2</td>\n",
              "      <td>ITA</td>\n",
              "      <td>Rope Climb</td>\n",
              "      <td>36</td>\n",
              "      <td>montiggl</td>\n",
              "      <td>2.500000</td>\n",
              "      <td>2</td>\n",
              "    </tr>\n",
              "    <tr>\n",
              "      <th>2193461</th>\n",
              "      <td>1016</td>\n",
              "      <td>hercules</td>\n",
              "      <td>1</td>\n",
              "      <td>AUT</td>\n",
              "      <td>Bouldering</td>\n",
              "      <td>49</td>\n",
              "      <td>maltatal</td>\n",
              "      <td>1.000000</td>\n",
              "      <td>1</td>\n",
              "    </tr>\n",
              "    <tr>\n",
              "      <th>2265796</th>\n",
              "      <td>29170</td>\n",
              "      <td>hercules</td>\n",
              "      <td>1</td>\n",
              "      <td>GBR</td>\n",
              "      <td>Bouldering</td>\n",
              "      <td>59</td>\n",
              "      <td>whitehouses</td>\n",
              "      <td>1.000000</td>\n",
              "      <td>1</td>\n",
              "    </tr>\n",
              "    <tr>\n",
              "      <th>2471221</th>\n",
              "      <td>47053</td>\n",
              "      <td>hercules</td>\n",
              "      <td>3</td>\n",
              "      <td>ESP</td>\n",
              "      <td>Rope Climb</td>\n",
              "      <td>44</td>\n",
              "      <td>mallorca</td>\n",
              "      <td>2.666667</td>\n",
              "      <td>6</td>\n",
              "    </tr>\n",
              "    <tr>\n",
              "      <th>2823866</th>\n",
              "      <td>28498</td>\n",
              "      <td>hercules</td>\n",
              "      <td>1</td>\n",
              "      <td>GBR</td>\n",
              "      <td>Rope Climb</td>\n",
              "      <td>33</td>\n",
              "      <td>pembroke</td>\n",
              "      <td>1.000000</td>\n",
              "      <td>1</td>\n",
              "    </tr>\n",
              "    <tr>\n",
              "      <th>2973962</th>\n",
              "      <td>38983</td>\n",
              "      <td>hercules</td>\n",
              "      <td>3</td>\n",
              "      <td>USA</td>\n",
              "      <td>Bouldering</td>\n",
              "      <td>57</td>\n",
              "      <td>gtown</td>\n",
              "      <td>3.000000</td>\n",
              "      <td>1</td>\n",
              "    </tr>\n",
              "    <tr>\n",
              "      <th>3558430</th>\n",
              "      <td>33036</td>\n",
              "      <td>hercules</td>\n",
              "      <td>3</td>\n",
              "      <td>DEU</td>\n",
              "      <td>Rope Climb</td>\n",
              "      <td>62</td>\n",
              "      <td>frankenjura</td>\n",
              "      <td>3.000000</td>\n",
              "      <td>1</td>\n",
              "    </tr>\n",
              "    <tr>\n",
              "      <th>3688276</th>\n",
              "      <td>47940</td>\n",
              "      <td>hercules</td>\n",
              "      <td>1</td>\n",
              "      <td>AUT</td>\n",
              "      <td>Rope Climb</td>\n",
              "      <td>46</td>\n",
              "      <td>starkenbach</td>\n",
              "      <td>1.000000</td>\n",
              "      <td>1</td>\n",
              "    </tr>\n",
              "    <tr>\n",
              "      <th>3746386</th>\n",
              "      <td>2508</td>\n",
              "      <td>hercules</td>\n",
              "      <td>3</td>\n",
              "      <td>ESP</td>\n",
              "      <td>Rope Climb</td>\n",
              "      <td>44</td>\n",
              "      <td>mallorca</td>\n",
              "      <td>2.666667</td>\n",
              "      <td>6</td>\n",
              "    </tr>\n",
              "    <tr>\n",
              "      <th>3799687</th>\n",
              "      <td>63865</td>\n",
              "      <td>hercules</td>\n",
              "      <td>3</td>\n",
              "      <td>ESP</td>\n",
              "      <td>Rope Climb</td>\n",
              "      <td>44</td>\n",
              "      <td>mallorca</td>\n",
              "      <td>2.666667</td>\n",
              "      <td>6</td>\n",
              "    </tr>\n",
              "    <tr>\n",
              "      <th>3986080</th>\n",
              "      <td>49814</td>\n",
              "      <td>hercules</td>\n",
              "      <td>3</td>\n",
              "      <td>USA</td>\n",
              "      <td>Bouldering</td>\n",
              "      <td>59</td>\n",
              "      <td>tahoe</td>\n",
              "      <td>3.000000</td>\n",
              "      <td>1</td>\n",
              "    </tr>\n",
              "    <tr>\n",
              "      <th>4008728</th>\n",
              "      <td>4481</td>\n",
              "      <td>hercules</td>\n",
              "      <td>3</td>\n",
              "      <td>ESP</td>\n",
              "      <td>Rope Climb</td>\n",
              "      <td>44</td>\n",
              "      <td>mallorca</td>\n",
              "      <td>2.666667</td>\n",
              "      <td>6</td>\n",
              "    </tr>\n",
              "    <tr>\n",
              "      <th>4064671</th>\n",
              "      <td>63544</td>\n",
              "      <td>hercules</td>\n",
              "      <td>1</td>\n",
              "      <td>ESP</td>\n",
              "      <td>Rope Climb</td>\n",
              "      <td>44</td>\n",
              "      <td>mallorca</td>\n",
              "      <td>2.666667</td>\n",
              "      <td>6</td>\n",
              "    </tr>\n",
              "    <tr>\n",
              "      <th>4073634</th>\n",
              "      <td>4997</td>\n",
              "      <td>hercules</td>\n",
              "      <td>2</td>\n",
              "      <td>ITA</td>\n",
              "      <td>Rope Climb</td>\n",
              "      <td>68</td>\n",
              "      <td>baratro</td>\n",
              "      <td>2.333333</td>\n",
              "      <td>3</td>\n",
              "    </tr>\n",
              "    <tr>\n",
              "      <th>4076947</th>\n",
              "      <td>50872</td>\n",
              "      <td>hercules</td>\n",
              "      <td>3</td>\n",
              "      <td>ESP</td>\n",
              "      <td>Rope Climb</td>\n",
              "      <td>44</td>\n",
              "      <td>mallorca</td>\n",
              "      <td>2.666667</td>\n",
              "      <td>6</td>\n",
              "    </tr>\n",
              "  </tbody>\n",
              "</table>\n",
              "</div>"
            ],
            "text/plain": [
              "         user_id      name  rating  ...           crag avg_rating  num_users_rate\n",
              "146251       250  hercules       2  ...  fontainebleau   2.000000               1\n",
              "347264     11968  hercules       2  ...           jaen   2.500000               2\n",
              "375464      8616  hercules       2  ...        baratro   2.333333               3\n",
              "612057     10878  hercules       3  ...        baratro   2.333333               3\n",
              "912229     22984  hercules       3  ...           jaen   2.500000               2\n",
              "940277     24612  hercules       2  ...        darrans   2.500000               2\n",
              "943640     19399  hercules       3  ...        darrans   2.500000               2\n",
              "1498684    19908  hercules       3  ...     caverninha   3.000000               1\n",
              "1752510    37813  hercules       2  ...    signalstogg   2.000000               1\n",
              "1876462    13660  hercules       3  ...     albarracin   3.000000               1\n",
              "1987813    40661  hercules       3  ...       montiggl   2.500000               2\n",
              "1994528    42743  hercules       2  ...       montiggl   2.500000               2\n",
              "2193461     1016  hercules       1  ...       maltatal   1.000000               1\n",
              "2265796    29170  hercules       1  ...    whitehouses   1.000000               1\n",
              "2471221    47053  hercules       3  ...       mallorca   2.666667               6\n",
              "2823866    28498  hercules       1  ...       pembroke   1.000000               1\n",
              "2973962    38983  hercules       3  ...          gtown   3.000000               1\n",
              "3558430    33036  hercules       3  ...    frankenjura   3.000000               1\n",
              "3688276    47940  hercules       1  ...    starkenbach   1.000000               1\n",
              "3746386     2508  hercules       3  ...       mallorca   2.666667               6\n",
              "3799687    63865  hercules       3  ...       mallorca   2.666667               6\n",
              "3986080    49814  hercules       3  ...          tahoe   3.000000               1\n",
              "4008728     4481  hercules       3  ...       mallorca   2.666667               6\n",
              "4064671    63544  hercules       1  ...       mallorca   2.666667               6\n",
              "4073634     4997  hercules       2  ...        baratro   2.333333               3\n",
              "4076947    50872  hercules       3  ...       mallorca   2.666667               6\n",
              "\n",
              "[26 rows x 9 columns]"
            ]
          },
          "metadata": {
            "tags": []
          },
          "execution_count": 38
        }
      ]
    },
    {
      "cell_type": "markdown",
      "metadata": {
        "id": "ndnQqn2tFMlp",
        "colab_type": "text"
      },
      "source": [
        "##*Grade Table*\n",
        "\n",
        "####ID:\n",
        "*  numbered 1-86 \n",
        "* corresponds to the ascent table & it gives each climb a number 1-86 that corresponds to different rating systems in the US and France\n",
        "* this column is correctly coded as an int64 data type, no work needs to be done on this column"
      ]
    },
    {
      "cell_type": "code",
      "metadata": {
        "id": "uCV0flFkXJZc",
        "colab_type": "code",
        "outputId": "bdff6c30-1887-4c79-f95a-cb2a66eb9549",
        "colab": {
          "base_uri": "https://localhost:8080/",
          "height": 204
        }
      },
      "source": [
        "grade.head()\n"
      ],
      "execution_count": 39,
      "outputs": [
        {
          "output_type": "execute_result",
          "data": {
            "text/html": [
              "<div>\n",
              "<style scoped>\n",
              "    .dataframe tbody tr th:only-of-type {\n",
              "        vertical-align: middle;\n",
              "    }\n",
              "\n",
              "    .dataframe tbody tr th {\n",
              "        vertical-align: top;\n",
              "    }\n",
              "\n",
              "    .dataframe thead th {\n",
              "        text-align: right;\n",
              "    }\n",
              "</style>\n",
              "<table border=\"1\" class=\"dataframe\">\n",
              "  <thead>\n",
              "    <tr style=\"text-align: right;\">\n",
              "      <th></th>\n",
              "      <th>id</th>\n",
              "      <th>usa_routes</th>\n",
              "      <th>usa_boulders</th>\n",
              "    </tr>\n",
              "  </thead>\n",
              "  <tbody>\n",
              "    <tr>\n",
              "      <th>0</th>\n",
              "      <td>1</td>\n",
              "      <td>3/4</td>\n",
              "      <td>VB</td>\n",
              "    </tr>\n",
              "    <tr>\n",
              "      <th>1</th>\n",
              "      <td>2</td>\n",
              "      <td>NaN</td>\n",
              "      <td>NaN</td>\n",
              "    </tr>\n",
              "    <tr>\n",
              "      <th>2</th>\n",
              "      <td>3</td>\n",
              "      <td>NaN</td>\n",
              "      <td>NaN</td>\n",
              "    </tr>\n",
              "    <tr>\n",
              "      <th>3</th>\n",
              "      <td>4</td>\n",
              "      <td>NaN</td>\n",
              "      <td>NaN</td>\n",
              "    </tr>\n",
              "    <tr>\n",
              "      <th>4</th>\n",
              "      <td>5</td>\n",
              "      <td>NaN</td>\n",
              "      <td>NaN</td>\n",
              "    </tr>\n",
              "  </tbody>\n",
              "</table>\n",
              "</div>"
            ],
            "text/plain": [
              "   id usa_routes usa_boulders\n",
              "0   1        3/4           VB\n",
              "1   2        NaN          NaN\n",
              "2   3        NaN          NaN\n",
              "3   4        NaN          NaN\n",
              "4   5        NaN          NaN"
            ]
          },
          "metadata": {
            "tags": []
          },
          "execution_count": 39
        }
      ]
    },
    {
      "cell_type": "markdown",
      "metadata": {
        "id": "pil8mNDYdiqh",
        "colab_type": "text"
      },
      "source": [
        "####Routes & Boulders:\n",
        "* Need to forward fill all the USA columns so they correspond to the more numerous French Columns"
      ]
    },
    {
      "cell_type": "code",
      "metadata": {
        "id": "j5Mpv16dd2LJ",
        "colab_type": "code",
        "colab": {}
      },
      "source": [
        "#used forward fill on the USA values\n",
        "grade[[\"usa_routes\", \"usa_boulders\"]]= grade[[\"usa_routes\", \"usa_boulders\"]].fillna(method='ffill')\n"
      ],
      "execution_count": 0,
      "outputs": []
    },
    {
      "cell_type": "code",
      "metadata": {
        "id": "fM-cOCdue9Lh",
        "colab_type": "code",
        "outputId": "de7132cc-d5ee-423e-d219-95eb8b4a079a",
        "colab": {
          "base_uri": "https://localhost:8080/",
          "height": 359
        }
      },
      "source": [
        "#double check the table \n",
        "grade.head(10)\n"
      ],
      "execution_count": 41,
      "outputs": [
        {
          "output_type": "execute_result",
          "data": {
            "text/html": [
              "<div>\n",
              "<style scoped>\n",
              "    .dataframe tbody tr th:only-of-type {\n",
              "        vertical-align: middle;\n",
              "    }\n",
              "\n",
              "    .dataframe tbody tr th {\n",
              "        vertical-align: top;\n",
              "    }\n",
              "\n",
              "    .dataframe thead th {\n",
              "        text-align: right;\n",
              "    }\n",
              "</style>\n",
              "<table border=\"1\" class=\"dataframe\">\n",
              "  <thead>\n",
              "    <tr style=\"text-align: right;\">\n",
              "      <th></th>\n",
              "      <th>id</th>\n",
              "      <th>usa_routes</th>\n",
              "      <th>usa_boulders</th>\n",
              "    </tr>\n",
              "  </thead>\n",
              "  <tbody>\n",
              "    <tr>\n",
              "      <th>0</th>\n",
              "      <td>1</td>\n",
              "      <td>3/4</td>\n",
              "      <td>VB</td>\n",
              "    </tr>\n",
              "    <tr>\n",
              "      <th>1</th>\n",
              "      <td>2</td>\n",
              "      <td>3/4</td>\n",
              "      <td>VB</td>\n",
              "    </tr>\n",
              "    <tr>\n",
              "      <th>2</th>\n",
              "      <td>3</td>\n",
              "      <td>3/4</td>\n",
              "      <td>VB</td>\n",
              "    </tr>\n",
              "    <tr>\n",
              "      <th>3</th>\n",
              "      <td>4</td>\n",
              "      <td>3/4</td>\n",
              "      <td>VB</td>\n",
              "    </tr>\n",
              "    <tr>\n",
              "      <th>4</th>\n",
              "      <td>5</td>\n",
              "      <td>3/4</td>\n",
              "      <td>VB</td>\n",
              "    </tr>\n",
              "    <tr>\n",
              "      <th>5</th>\n",
              "      <td>6</td>\n",
              "      <td>3/4</td>\n",
              "      <td>VB</td>\n",
              "    </tr>\n",
              "    <tr>\n",
              "      <th>6</th>\n",
              "      <td>7</td>\n",
              "      <td>5.1</td>\n",
              "      <td>VB</td>\n",
              "    </tr>\n",
              "    <tr>\n",
              "      <th>7</th>\n",
              "      <td>8</td>\n",
              "      <td>5.1</td>\n",
              "      <td>VB</td>\n",
              "    </tr>\n",
              "    <tr>\n",
              "      <th>8</th>\n",
              "      <td>9</td>\n",
              "      <td>5.1</td>\n",
              "      <td>VB</td>\n",
              "    </tr>\n",
              "    <tr>\n",
              "      <th>9</th>\n",
              "      <td>10</td>\n",
              "      <td>5.1</td>\n",
              "      <td>VB</td>\n",
              "    </tr>\n",
              "  </tbody>\n",
              "</table>\n",
              "</div>"
            ],
            "text/plain": [
              "   id usa_routes usa_boulders\n",
              "0   1        3/4           VB\n",
              "1   2        3/4           VB\n",
              "2   3        3/4           VB\n",
              "3   4        3/4           VB\n",
              "4   5        3/4           VB\n",
              "5   6        3/4           VB\n",
              "6   7        5.1           VB\n",
              "7   8        5.1           VB\n",
              "8   9        5.1           VB\n",
              "9  10        5.1           VB"
            ]
          },
          "metadata": {
            "tags": []
          },
          "execution_count": 41
        }
      ]
    },
    {
      "cell_type": "markdown",
      "metadata": {
        "id": "uhg2MNWJDvXT",
        "colab_type": "text"
      },
      "source": [
        "#Exporting Data Frames to CSV \n",
        "\n",
        "###Step 1: \n",
        "\n",
        "* copy the ascent table, and delete all rows except the three rows for the recommendation system (user_id, name_id, rating)\n"
      ]
    },
    {
      "cell_type": "code",
      "metadata": {
        "id": "wtMYRrRPEF8d",
        "colab_type": "code",
        "colab": {}
      },
      "source": [
        "#create a new data frame that will serve as the reference to the recommendation table\n",
        "ref_table = ascent.copy(deep=True)\n",
        "\n"
      ],
      "execution_count": 0,
      "outputs": []
    },
    {
      "cell_type": "markdown",
      "metadata": {
        "id": "HhrEDSUxJn8t",
        "colab_type": "text"
      },
      "source": [
        "###Step 2:\n",
        "* merge the grade table with the reference table so all reference items are in one table"
      ]
    },
    {
      "cell_type": "code",
      "metadata": {
        "id": "xkQXSg-tG-Ca",
        "colab_type": "code",
        "colab": {}
      },
      "source": [
        "#left merge the reference table with grade table\n",
        "ref_table = ref_table.merge(grade,how='left', left_on='grade_id', right_on='id')\n"
      ],
      "execution_count": 0,
      "outputs": []
    },
    {
      "cell_type": "markdown",
      "metadata": {
        "id": "VgjO94j_KHJX",
        "colab_type": "text"
      },
      "source": [
        "###Step 3:\n",
        "* drop unneccary columns in both data frames\n",
        "* re-arrange columns"
      ]
    },
    {
      "cell_type": "code",
      "metadata": {
        "id": "dVi-cV9uKPLm",
        "colab_type": "code",
        "colab": {}
      },
      "source": [
        "ref_table[\"route\"]= ref_table[\"name\"]\n",
        "ref_table = ref_table.drop(columns=[\"name\",\"id\", \"grade_id\"])\n",
        "rock6x = ref_table[['user_id',\"route\",\"rating\",\"avg_rating\", \"num_users_rate\", \"climb_type\", \"usa_routes\",\t\"usa_boulders\", \"crag\", \"country\"]]\n",
        "\n"
      ],
      "execution_count": 0,
      "outputs": []
    },
    {
      "cell_type": "code",
      "metadata": {
        "id": "RwNjqjRq_yT2",
        "colab_type": "code",
        "outputId": "bb12274a-c536-4e57-cd72-70e946eaee4e",
        "colab": {
          "base_uri": "https://localhost:8080/",
          "height": 204
        }
      },
      "source": [
        "rock6x.head()"
      ],
      "execution_count": 45,
      "outputs": [
        {
          "output_type": "execute_result",
          "data": {
            "text/html": [
              "<div>\n",
              "<style scoped>\n",
              "    .dataframe tbody tr th:only-of-type {\n",
              "        vertical-align: middle;\n",
              "    }\n",
              "\n",
              "    .dataframe tbody tr th {\n",
              "        vertical-align: top;\n",
              "    }\n",
              "\n",
              "    .dataframe thead th {\n",
              "        text-align: right;\n",
              "    }\n",
              "</style>\n",
              "<table border=\"1\" class=\"dataframe\">\n",
              "  <thead>\n",
              "    <tr style=\"text-align: right;\">\n",
              "      <th></th>\n",
              "      <th>user_id</th>\n",
              "      <th>route</th>\n",
              "      <th>rating</th>\n",
              "      <th>avg_rating</th>\n",
              "      <th>num_users_rate</th>\n",
              "      <th>climb_type</th>\n",
              "      <th>usa_routes</th>\n",
              "      <th>usa_boulders</th>\n",
              "      <th>crag</th>\n",
              "      <th>country</th>\n",
              "    </tr>\n",
              "  </thead>\n",
              "  <tbody>\n",
              "    <tr>\n",
              "      <th>0</th>\n",
              "      <td>1</td>\n",
              "      <td>rabiat</td>\n",
              "      <td>3</td>\n",
              "      <td>1.967742</td>\n",
              "      <td>31</td>\n",
              "      <td>Rope Climb</td>\n",
              "      <td>5.12c</td>\n",
              "      <td>V8/9</td>\n",
              "      <td>utby</td>\n",
              "      <td>SWE</td>\n",
              "    </tr>\n",
              "    <tr>\n",
              "      <th>1</th>\n",
              "      <td>1</td>\n",
              "      <td>penthouse</td>\n",
              "      <td>2</td>\n",
              "      <td>1.764706</td>\n",
              "      <td>34</td>\n",
              "      <td>Rope Climb</td>\n",
              "      <td>5.12b</td>\n",
              "      <td>V8</td>\n",
              "      <td>tollsjo</td>\n",
              "      <td>SWE</td>\n",
              "    </tr>\n",
              "    <tr>\n",
              "      <th>2</th>\n",
              "      <td>11</td>\n",
              "      <td>glycerin</td>\n",
              "      <td>1</td>\n",
              "      <td>2.000000</td>\n",
              "      <td>14</td>\n",
              "      <td>Bouldering</td>\n",
              "      <td>5.12a</td>\n",
              "      <td>V7</td>\n",
              "      <td>kjugekull</td>\n",
              "      <td>SWE</td>\n",
              "    </tr>\n",
              "    <tr>\n",
              "      <th>3</th>\n",
              "      <td>12</td>\n",
              "      <td>helgonet</td>\n",
              "      <td>1</td>\n",
              "      <td>1.400000</td>\n",
              "      <td>5</td>\n",
              "      <td>Rope Climb</td>\n",
              "      <td>5.13d</td>\n",
              "      <td>V13</td>\n",
              "      <td>flaten</td>\n",
              "      <td>SWE</td>\n",
              "    </tr>\n",
              "    <tr>\n",
              "      <th>4</th>\n",
              "      <td>6</td>\n",
              "      <td>savage</td>\n",
              "      <td>3</td>\n",
              "      <td>2.527778</td>\n",
              "      <td>36</td>\n",
              "      <td>Bouldering</td>\n",
              "      <td>5.12c</td>\n",
              "      <td>V8/9</td>\n",
              "      <td>villas</td>\n",
              "      <td>AUS</td>\n",
              "    </tr>\n",
              "  </tbody>\n",
              "</table>\n",
              "</div>"
            ],
            "text/plain": [
              "   user_id      route  rating  ...  usa_boulders       crag country\n",
              "0        1     rabiat       3  ...          V8/9       utby     SWE\n",
              "1        1  penthouse       2  ...            V8    tollsjo     SWE\n",
              "2       11   glycerin       1  ...            V7  kjugekull     SWE\n",
              "3       12   helgonet       1  ...           V13     flaten     SWE\n",
              "4        6     savage       3  ...          V8/9     villas     AUS\n",
              "\n",
              "[5 rows x 10 columns]"
            ]
          },
          "metadata": {
            "tags": []
          },
          "execution_count": 45
        }
      ]
    },
    {
      "cell_type": "markdown",
      "metadata": {
        "id": "xWh6fRZt-TqJ",
        "colab_type": "text"
      },
      "source": [
        "###Final Shape of the Data Frames:\n",
        "\n"
      ]
    },
    {
      "cell_type": "code",
      "metadata": {
        "id": "IeD4nSDk-ofX",
        "colab_type": "code",
        "outputId": "7b367ecc-eb01-4dea-ec0c-806f8bd3c065",
        "colab": {
          "base_uri": "https://localhost:8080/",
          "height": 34
        }
      },
      "source": [
        "#number of entries in both tables:\n",
        "rock6x.shape\n"
      ],
      "execution_count": 46,
      "outputs": [
        {
          "output_type": "execute_result",
          "data": {
            "text/plain": [
              "(334748, 10)"
            ]
          },
          "metadata": {
            "tags": []
          },
          "execution_count": 46
        }
      ]
    },
    {
      "cell_type": "code",
      "metadata": {
        "id": "pwJLkLGD-t1j",
        "colab_type": "code",
        "outputId": "5f17121b-fd85-4f79-bf13-2d267ed938da",
        "colab": {
          "base_uri": "https://localhost:8080/",
          "height": 34
        }
      },
      "source": [
        "#how many name groups\n",
        "rock6x.route.nunique()\n"
      ],
      "execution_count": 47,
      "outputs": [
        {
          "output_type": "execute_result",
          "data": {
            "text/plain": [
              "14995"
            ]
          },
          "metadata": {
            "tags": []
          },
          "execution_count": 47
        }
      ]
    },
    {
      "cell_type": "markdown",
      "metadata": {
        "id": "u0UNrGCF3bgh",
        "colab_type": "text"
      },
      "source": [
        "###Step 4:\n",
        "* export files to google drive"
      ]
    },
    {
      "cell_type": "code",
      "metadata": {
        "id": "ASb6NL6aI1xL",
        "colab_type": "code",
        "colab": {}
      },
      "source": [
        "from google.colab import files\n",
        "rock6x.to_csv(r'/content/drive/My Drive/Capstone/data/rock6x.csv', index = None, header=True)\n"
      ],
      "execution_count": 0,
      "outputs": []
    }
  ]
}
