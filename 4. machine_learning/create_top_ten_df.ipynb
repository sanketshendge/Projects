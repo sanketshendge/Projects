{
  "nbformat": 4,
  "nbformat_minor": 0,
  "metadata": {
    "colab": {
      "name": "create_top_ten_df.ipynb",
      "version": "0.3.2",
      "provenance": [],
      "collapsed_sections": [],
      "include_colab_link": true
    },
    "kernelspec": {
      "name": "python3",
      "display_name": "Python 3"
    },
    "accelerator": "GPU"
  },
  "cells": [
    {
      "cell_type": "markdown",
      "metadata": {
        "id": "view-in-github",
        "colab_type": "text"
      },
      "source": [
        "<a href=\"https://colab.research.google.com/github/Colley-K/rock_climbing_recommendation_system/blob/master/create_top_ten_df.ipynb\" target=\"_parent\"><img src=\"https://colab.research.google.com/assets/colab-badge.svg\" alt=\"Open In Colab\"/></a>"
      ]
    },
    {
      "cell_type": "markdown",
      "metadata": {
        "id": "ThZ-k_YSbmfP",
        "colab_type": "text"
      },
      "source": [
        "#Creating a Top 10 recommendations dataframe\n",
        "* Using the SVD++ algorithm, this notebook calculates all the predictions with the sample6 data (not the full 6x filter data), and turns it into a dataframe of top ten predictions for each user\n",
        ">* If I had more memory, I would like to run this on the entire dataframe\n",
        ">* The max sample size I could do without google colab crashing was a 65% sample of the original 6x filtered df\n",
        "* *The \"build anti-testset\" function takes a lot of RAM, and thus I needed to do this outside my main ML notebook*"
      ]
    },
    {
      "cell_type": "code",
      "metadata": {
        "id": "0wBIgwK_R9me",
        "colab_type": "code",
        "outputId": "8f170255-9dd0-4538-dab1-a0ab58b3f4f2",
        "colab": {
          "base_uri": "https://localhost:8080/",
          "height": 340
        }
      },
      "source": [
        "#Colab stuffs:\n",
        "\n",
        "#get a fast operator system\n",
        "!nvidia-smi\n",
        "\n",
        "#mount google drive\n",
        "from google.colab import drive\n",
        "drive.mount('/content/drive')#click on the link it provides and copy and paste that code into the authorization area\n",
        "\n",
        "#access the OS system to work with current directories:\n",
        "import os \n",
        "os.getcwd() "
      ],
      "execution_count": 1,
      "outputs": [
        {
          "output_type": "stream",
          "text": [
            "Thu Jul 11 19:14:54 2019       \n",
            "+-----------------------------------------------------------------------------+\n",
            "| NVIDIA-SMI 418.67       Driver Version: 410.79       CUDA Version: 10.0     |\n",
            "|-------------------------------+----------------------+----------------------+\n",
            "| GPU  Name        Persistence-M| Bus-Id        Disp.A | Volatile Uncorr. ECC |\n",
            "| Fan  Temp  Perf  Pwr:Usage/Cap|         Memory-Usage | GPU-Util  Compute M. |\n",
            "|===============================+======================+======================|\n",
            "|   0  Tesla K80           Off  | 00000000:00:04.0 Off |                    0 |\n",
            "| N/A   32C    P8    27W / 149W |      0MiB / 11441MiB |      0%      Default |\n",
            "+-------------------------------+----------------------+----------------------+\n",
            "                                                                               \n",
            "+-----------------------------------------------------------------------------+\n",
            "| Processes:                                                       GPU Memory |\n",
            "|  GPU       PID   Type   Process name                             Usage      |\n",
            "|=============================================================================|\n",
            "|  No running processes found                                                 |\n",
            "+-----------------------------------------------------------------------------+\n",
            "Drive already mounted at /content/drive; to attempt to forcibly remount, call drive.mount(\"/content/drive\", force_remount=True).\n"
          ],
          "name": "stdout"
        },
        {
          "output_type": "execute_result",
          "data": {
            "text/plain": [
              "'/content'"
            ]
          },
          "metadata": {
            "tags": []
          },
          "execution_count": 1
        }
      ]
    },
    {
      "cell_type": "code",
      "metadata": {
        "id": "4KYvfhMlR6ih",
        "colab_type": "code",
        "outputId": "162565ad-a447-474b-ac55-52da6d5cdc4a",
        "colab": {
          "resources": {
            "http://localhost:8080/nbextensions/google.colab/files.js": {
              "data": "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",
              "ok": true,
              "headers": [
                [
                  "content-type",
                  "application/javascript"
                ]
              ],
              "status": 200,
              "status_text": ""
            }
          },
          "base_uri": "https://localhost:8080/",
          "height": 125
        }
      },
      "source": [
        "#importing functions for this notebook\n",
        "from google.colab import files\n",
        "uploaded = files.upload()\n",
        "\n",
        "#importing functions for this notebook\n",
        "from google.colab import files\n",
        "uploaded = files.upload()"
      ],
      "execution_count": 2,
      "outputs": [
        {
          "output_type": "display_data",
          "data": {
            "text/html": [
              "\n",
              "     <input type=\"file\" id=\"files-42399c51-54bc-4a48-8818-9b5d6e3e1865\" name=\"files[]\" multiple disabled />\n",
              "     <output id=\"result-42399c51-54bc-4a48-8818-9b5d6e3e1865\">\n",
              "      Upload widget is only available when the cell has been executed in the\n",
              "      current browser session. Please rerun this cell to enable.\n",
              "      </output>\n",
              "      <script src=\"/nbextensions/google.colab/files.js\"></script> "
            ],
            "text/plain": [
              "<IPython.core.display.HTML object>"
            ]
          },
          "metadata": {
            "tags": []
          }
        },
        {
          "output_type": "stream",
          "text": [
            "Saving function.py to function (1).py\n"
          ],
          "name": "stdout"
        },
        {
          "output_type": "display_data",
          "data": {
            "text/html": [
              "\n",
              "     <input type=\"file\" id=\"files-776cc38d-dd8e-426b-8b49-446e9db99f1e\" name=\"files[]\" multiple disabled />\n",
              "     <output id=\"result-776cc38d-dd8e-426b-8b49-446e9db99f1e\">\n",
              "      Upload widget is only available when the cell has been executed in the\n",
              "      current browser session. Please rerun this cell to enable.\n",
              "      </output>\n",
              "      <script src=\"/nbextensions/google.colab/files.js\"></script> "
            ],
            "text/plain": [
              "<IPython.core.display.HTML object>"
            ]
          },
          "metadata": {
            "tags": []
          }
        },
        {
          "output_type": "stream",
          "text": [
            "Saving final_ml_predict.py to final_ml_predict (1).py\n"
          ],
          "name": "stdout"
        }
      ]
    },
    {
      "cell_type": "code",
      "metadata": {
        "id": "FVvsLHDaRtdo",
        "colab_type": "code",
        "outputId": "afb368cd-d909-40cb-df03-191807d077a4",
        "colab": {
          "base_uri": "https://localhost:8080/",
          "height": 119
        }
      },
      "source": [
        "#Installs\n",
        "!pip install surprise\n",
        "\n",
        "#import coldstart_thresholds as cst\n",
        "import function as f\n",
        "import final_ml_predict as fml\n",
        "import numpy as np \n",
        "import pandas as pd \n",
        "from collections import defaultdict\n",
        "import surprise as sp\n",
        "from surprise.model_selection import cross_validate, KFold, train_test_split, GridSearchCV\n",
        "\n",
        "#Setting defaults\n",
        "pd.set_option('display.max_columns', 10)"
      ],
      "execution_count": 3,
      "outputs": [
        {
          "output_type": "stream",
          "text": [
            "Requirement already satisfied: surprise in /usr/local/lib/python3.6/dist-packages (0.1)\n",
            "Requirement already satisfied: scikit-surprise in /usr/local/lib/python3.6/dist-packages (from surprise) (1.0.6)\n",
            "Requirement already satisfied: joblib>=0.11 in /usr/local/lib/python3.6/dist-packages (from scikit-surprise->surprise) (0.13.2)\n",
            "Requirement already satisfied: numpy>=1.11.2 in /usr/local/lib/python3.6/dist-packages (from scikit-surprise->surprise) (1.16.4)\n",
            "Requirement already satisfied: scipy>=1.0.0 in /usr/local/lib/python3.6/dist-packages (from scikit-surprise->surprise) (1.3.0)\n",
            "Requirement already satisfied: six>=1.10.0 in /usr/local/lib/python3.6/dist-packages (from scikit-surprise->surprise) (1.12.0)\n"
          ],
          "name": "stdout"
        }
      ]
    },
    {
      "cell_type": "code",
      "metadata": {
        "id": "iQq8OiY5RpRd",
        "colab_type": "code",
        "colab": {}
      },
      "source": [
        "rock6x = pd.read_csv('drive/My Drive/Capstone/data/rock6x.csv', low_memory=False)"
      ],
      "execution_count": 0,
      "outputs": []
    },
    {
      "cell_type": "code",
      "metadata": {
        "id": "B2qWhxJzY9TB",
        "colab_type": "code",
        "colab": {
          "base_uri": "https://localhost:8080/",
          "height": 34
        },
        "outputId": "dbfe943d-f00e-4d6e-b796-6ff98f10b337"
      },
      "source": [
        "rock6x.shape"
      ],
      "execution_count": 5,
      "outputs": [
        {
          "output_type": "execute_result",
          "data": {
            "text/plain": [
              "(334748, 10)"
            ]
          },
          "metadata": {
            "tags": []
          },
          "execution_count": 5
        }
      ]
    },
    {
      "cell_type": "code",
      "metadata": {
        "id": "xXO2Jwn1RcJa",
        "colab_type": "code",
        "outputId": "73a74643-81a2-4702-c31c-fc02a3f64c5e",
        "colab": {
          "base_uri": "https://localhost:8080/",
          "height": 153
        }
      },
      "source": [
        "#create a 40% sample out of rock6x dataframe\n",
        "samp6= f.df_samp_unique_vals(rock6x, .65, \"user_id\", \"route\")"
      ],
      "execution_count": 6,
      "outputs": [
        {
          "output_type": "stream",
          "text": [
            "User drop: 17878\n",
            "Route drop: 7195\n",
            "length of entire sample w/ unique users & routes: 4677\n",
            "Num of unique routes: 4677\n",
            "Num of unique users: 4677\n",
            "Matrix size: 21874329\n",
            "Shape of df: (47475, 10)\n",
            "Density of matrix: 0.002170352288291906\n"
          ],
          "name": "stdout"
        }
      ]
    },
    {
      "cell_type": "code",
      "metadata": {
        "id": "PxjeZQ8ZeBga",
        "colab_type": "code",
        "colab": {}
      },
      "source": [
        "def top_ten_df (df):\n",
        "    '''\n",
        "    inputs:\n",
        "    df (Pandas DF) the dataframe that you would like to train on/NOTE: use f.df_samp_unique_vals() to get a smaller DF if you dont have enough memory to run full DF\n",
        "\n",
        "    outputs:\n",
        "    top_ten_df (DataFrame Pandas) returns a dataframe with the top ten predictions for every user in your original dataframe\n",
        "    '''\n",
        "\n",
        "    data= f.read_data_surprise(df)#use f.df_samp_unique_vals() to get a smaller DF if you dont have enough memory to run full DF\n",
        "\n",
        "    # First train an SVD algorithm on entire dataset (choose 6x name filter)\n",
        "    trainset = data.build_full_trainset()\n",
        "    algo = sp.SVDpp(n_epochs= 18, lr_all= 0.01, reg_all= 0.175)\n",
        "    algo.fit(trainset)\n",
        "\n",
        "    # Than predict ratings for all pairs (u, i) that are NOT in the training set.\n",
        "    testset = trainset.build_anti_testset()#HEAVY THIS TAKES THE MOST RAM\n",
        "    predictions = algo.test(testset)\n",
        "    sp.accuracy.rmse(predictions)\n",
        "\n",
        "    #create a dictionary of predictions\n",
        "    top_n = f.get_top_n(predictions, n=10)\n",
        "\n",
        "    #Turn the dictionary into a df\n",
        "    top_ten_df = pd.DataFrame(top_n)\n",
        "\n",
        "    return top_ten_df"
      ],
      "execution_count": 0,
      "outputs": []
    },
    {
      "cell_type": "code",
      "metadata": {
        "id": "wmUP1Qe3RYJl",
        "colab_type": "code",
        "colab": {}
      },
      "source": [
        "top_n_predict65_wparams = top_ten_df(samp6)"
      ],
      "execution_count": 0,
      "outputs": []
    },
    {
      "cell_type": "code",
      "metadata": {
        "id": "TrNPgXP0UnnK",
        "colab_type": "code",
        "colab": {
          "base_uri": "https://localhost:8080/",
          "height": 34
        },
        "outputId": "a1af784b-c658-45f7-8b90-fb3de7c7425a"
      },
      "source": [
        "sp.accuracy.rmse(predictions6f)\n",
        "f.violin_accuracy(algo, testset6f)"
      ],
      "execution_count": 0,
      "outputs": [
        {
          "output_type": "stream",
          "text": [
            "RMSE: 0.6638\n"
          ],
          "name": "stdout"
        }
      ]
    },
    {
      "cell_type": "code",
      "metadata": {
        "id": "5D6yd4I6aTVj",
        "colab_type": "code",
        "colab": {}
      },
      "source": [
        "#Export to google drive\n",
        "top_n_predict65_wparams.to_csv(r'/content/drive/My Drive/Capstone/data/top_n_predict65_wparams.csv', index = None, header=True)"
      ],
      "execution_count": 0,
      "outputs": []
    },
    {
      "cell_type": "code",
      "metadata": {
        "id": "H2h8jP15qpKB",
        "colab_type": "code",
        "colab": {
          "base_uri": "https://localhost:8080/",
          "height": 338
        },
        "outputId": "70019763-3573-43ea-e33f-64f923327bc6"
      },
      "source": [
        "top_n_predict65_wparams.head()"
      ],
      "execution_count": 10,
      "outputs": [
        {
          "output_type": "execute_result",
          "data": {
            "text/html": [
              "<div>\n",
              "<style scoped>\n",
              "    .dataframe tbody tr th:only-of-type {\n",
              "        vertical-align: middle;\n",
              "    }\n",
              "\n",
              "    .dataframe tbody tr th {\n",
              "        vertical-align: top;\n",
              "    }\n",
              "\n",
              "    .dataframe thead th {\n",
              "        text-align: right;\n",
              "    }\n",
              "</style>\n",
              "<table border=\"1\" class=\"dataframe\">\n",
              "  <thead>\n",
              "    <tr style=\"text-align: right;\">\n",
              "      <th></th>\n",
              "      <th>1</th>\n",
              "      <th>11</th>\n",
              "      <th>12</th>\n",
              "      <th>6</th>\n",
              "      <th>2</th>\n",
              "      <th>...</th>\n",
              "      <th>47000</th>\n",
              "      <th>66968</th>\n",
              "      <th>66301</th>\n",
              "      <th>63921</th>\n",
              "      <th>61713</th>\n",
              "    </tr>\n",
              "  </thead>\n",
              "  <tbody>\n",
              "    <tr>\n",
              "      <th>0</th>\n",
              "      <td>(abstrakt, 3)</td>\n",
              "      <td>(abstrakt, 2.88670383777043)</td>\n",
              "      <td>(abstrakt, 2.965450796247701)</td>\n",
              "      <td>(abstrakt, 3)</td>\n",
              "      <td>(abstrakt, 3)</td>\n",
              "      <td>...</td>\n",
              "      <td>(abstrakt, 3)</td>\n",
              "      <td>(abstrakt, 2.9770649908094136)</td>\n",
              "      <td>(abstrakt, 2.815107198447452)</td>\n",
              "      <td>(abstrakt, 2.9932757950442443)</td>\n",
              "      <td>(abstrakt, 3)</td>\n",
              "    </tr>\n",
              "    <tr>\n",
              "      <th>1</th>\n",
              "      <td>(stromlinie, 3)</td>\n",
              "      <td>(vestpillaren, 2.7799805233998978)</td>\n",
              "      <td>(hegar, 2.809462278617374)</td>\n",
              "      <td>(magnetfinger, 3)</td>\n",
              "      <td>(vestpillaren, 2.907098380872724)</td>\n",
              "      <td>...</td>\n",
              "      <td>(magnetfinger, 3)</td>\n",
              "      <td>(vestpillaren, 2.8794411568884124)</td>\n",
              "      <td>(magnetfinger, 2.7489119052501017)</td>\n",
              "      <td>(vestpillaren, 2.917344459767645)</td>\n",
              "      <td>(magnetfinger, 3)</td>\n",
              "    </tr>\n",
              "    <tr>\n",
              "      <th>2</th>\n",
              "      <td>(magnetfinger, 3)</td>\n",
              "      <td>(magnetfinger, 2.7457047518051616)</td>\n",
              "      <td>(thaiboxing, 2.767406704232296)</td>\n",
              "      <td>(misericorde, 3)</td>\n",
              "      <td>(magnetfinger, 2.9007281593044647)</td>\n",
              "      <td>...</td>\n",
              "      <td>(titanofestivalen, 3)</td>\n",
              "      <td>(kachoong, 2.8337364580708475)</td>\n",
              "      <td>(vestpillaren, 2.7129596880725875)</td>\n",
              "      <td>(magnetfinger, 2.8833288714238656)</td>\n",
              "      <td>(vestpillaren, 3)</td>\n",
              "    </tr>\n",
              "    <tr>\n",
              "      <th>3</th>\n",
              "      <td>(duroxmanie, 3)</td>\n",
              "      <td>(thaiboxing, 2.727071911280836)</td>\n",
              "      <td>(vestpillaren, 2.7656782513690805)</td>\n",
              "      <td>(titanofestivalen, 3)</td>\n",
              "      <td>(villskudd, 2.8694463553324128)</td>\n",
              "      <td>...</td>\n",
              "      <td>(villskudd, 3)</td>\n",
              "      <td>(magnetfinger, 2.8200310771490193)</td>\n",
              "      <td>(kachoong, 2.675970626138466)</td>\n",
              "      <td>(snapdragon, 2.8691523731053294)</td>\n",
              "      <td>(hegar, 3)</td>\n",
              "    </tr>\n",
              "    <tr>\n",
              "      <th>4</th>\n",
              "      <td>(orestes, 3)</td>\n",
              "      <td>(gluttony, 2.7208677397953855)</td>\n",
              "      <td>(quimera, 2.745291868794412)</td>\n",
              "      <td>(villskudd, 3)</td>\n",
              "      <td>(superlative, 2.8672495726148406)</td>\n",
              "      <td>...</td>\n",
              "      <td>(vestpillaren, 3)</td>\n",
              "      <td>(prismaster, 2.8185161854614624)</td>\n",
              "      <td>(hegar, 2.673604979353643)</td>\n",
              "      <td>(prismaster, 2.861558261528032)</td>\n",
              "      <td>(prismaster, 2.9984506628295846)</td>\n",
              "    </tr>\n",
              "  </tbody>\n",
              "</table>\n",
              "<p>5 rows × 4677 columns</p>\n",
              "</div>"
            ],
            "text/plain": [
              "               1                                   11     \\\n",
              "0      (abstrakt, 3)        (abstrakt, 2.88670383777043)   \n",
              "1    (stromlinie, 3)  (vestpillaren, 2.7799805233998978)   \n",
              "2  (magnetfinger, 3)  (magnetfinger, 2.7457047518051616)   \n",
              "3    (duroxmanie, 3)     (thaiboxing, 2.727071911280836)   \n",
              "4       (orestes, 3)      (gluttony, 2.7208677397953855)   \n",
              "\n",
              "                                12                     6      \\\n",
              "0       (abstrakt, 2.965450796247701)          (abstrakt, 3)   \n",
              "1          (hegar, 2.809462278617374)      (magnetfinger, 3)   \n",
              "2     (thaiboxing, 2.767406704232296)       (misericorde, 3)   \n",
              "3  (vestpillaren, 2.7656782513690805)  (titanofestivalen, 3)   \n",
              "4        (quimera, 2.745291868794412)         (villskudd, 3)   \n",
              "\n",
              "                                2      ...                  47000  \\\n",
              "0                       (abstrakt, 3)  ...          (abstrakt, 3)   \n",
              "1   (vestpillaren, 2.907098380872724)  ...      (magnetfinger, 3)   \n",
              "2  (magnetfinger, 2.9007281593044647)  ...  (titanofestivalen, 3)   \n",
              "3     (villskudd, 2.8694463553324128)  ...         (villskudd, 3)   \n",
              "4   (superlative, 2.8672495726148406)  ...      (vestpillaren, 3)   \n",
              "\n",
              "                                66968                               66301  \\\n",
              "0      (abstrakt, 2.9770649908094136)       (abstrakt, 2.815107198447452)   \n",
              "1  (vestpillaren, 2.8794411568884124)  (magnetfinger, 2.7489119052501017)   \n",
              "2      (kachoong, 2.8337364580708475)  (vestpillaren, 2.7129596880725875)   \n",
              "3  (magnetfinger, 2.8200310771490193)       (kachoong, 2.675970626138466)   \n",
              "4    (prismaster, 2.8185161854614624)          (hegar, 2.673604979353643)   \n",
              "\n",
              "                                63921                             61713  \n",
              "0      (abstrakt, 2.9932757950442443)                     (abstrakt, 3)  \n",
              "1   (vestpillaren, 2.917344459767645)                 (magnetfinger, 3)  \n",
              "2  (magnetfinger, 2.8833288714238656)                 (vestpillaren, 3)  \n",
              "3    (snapdragon, 2.8691523731053294)                        (hegar, 3)  \n",
              "4     (prismaster, 2.861558261528032)  (prismaster, 2.9984506628295846)  \n",
              "\n",
              "[5 rows x 4677 columns]"
            ]
          },
          "metadata": {
            "tags": []
          },
          "execution_count": 10
        }
      ]
    },
    {
      "cell_type": "code",
      "metadata": {
        "id": "8VAoaM_ohwFI",
        "colab_type": "code",
        "colab": {}
      },
      "source": [
        ""
      ],
      "execution_count": 0,
      "outputs": []
    }
  ]
}
